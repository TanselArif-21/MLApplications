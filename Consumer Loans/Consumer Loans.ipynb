{
 "cells": [
  {
   "cell_type": "markdown",
   "metadata": {},
   "source": [
    "# Consumer Loans\n",
    "\n",
    "It may be possible to predict the default probability of consumer loans and investigate which variables specific to the loan is a significant predictor. In addition, we may be able to determine the value of a consumer if they have defaulted. We therefore have two tasks: determine which variables have the most significant impact on default probability; obtain a model for the value of a consumer once they have defaulted.\n",
    "\n",
    "For variable significance and variable selection, we can start with a linear model. But first we explore the data once we have imported the necessary libraries."
   ]
  },
  {
   "cell_type": "markdown",
   "metadata": {},
   "source": [
    "## Import Libraries"
   ]
  },
  {
   "cell_type": "code",
   "execution_count": 1,
   "metadata": {},
   "outputs": [],
   "source": [
    "import sys\n",
    "import os\n",
    "import numpy as np\n",
    "import pandas as pd\n",
    "import matplotlib.pyplot as plt\n",
    "import seaborn as sns\n",
    "import math\n",
    "import statistics\n",
    "import datetime\n",
    "import matplotlib\n",
    "%matplotlib inline"
   ]
  },
  {
   "cell_type": "code",
   "execution_count": 2,
   "metadata": {},
   "outputs": [
    {
     "name": "stderr",
     "output_type": "stream",
     "text": [
      "C:\\Users\\HVAD\\Anaconda3\\lib\\site-packages\\statsmodels\\compat\\pandas.py:56: FutureWarning: The pandas.core.datetools module is deprecated and will be removed in a future version. Please use the pandas.tseries module instead.\n",
      "  from pandas.core import datetools\n"
     ]
    }
   ],
   "source": [
    "from sklearn.linear_model import LogisticRegression\n",
    "from sklearn.linear_model import LinearRegression\n",
    "import statsmodels.api as sm\n",
    "from scipy import stats\n",
    "import sklearn\n",
    "from sklearn.model_selection import train_test_split\n",
    "from sklearn.metrics import classification_report, accuracy_score\n",
    "from sklearn.metrics import confusion_matrix"
   ]
  },
  {
   "cell_type": "code",
   "execution_count": 3,
   "metadata": {},
   "outputs": [
    {
     "name": "stdout",
     "output_type": "stream",
     "text": [
      "Python Version = 3.6.4 |Anaconda custom (64-bit)\n",
      "Numpy Version = 1.14.0\n",
      "Pandas Version = 0.22.0\n",
      "Matplotlib Version = 2.1.2\n",
      "Seaborn Version = 0.8.1\n",
      "sklearn Version = 0.19.1\n"
     ]
    }
   ],
   "source": [
    "# Get Versions\n",
    "print('Python Version = {}'.format(sys.version[0:31]))\n",
    "print('Numpy Version = {}'.format(np.__version__))\n",
    "print('Pandas Version = {}'.format(pd.__version__))\n",
    "print('Matplotlib Version = {}'.format(matplotlib.__version__))\n",
    "print('Seaborn Version = {}'.format(sns.__version__))\n",
    "print('sklearn Version = {}'.format(sklearn.__version__))"
   ]
  },
  {
   "cell_type": "markdown",
   "metadata": {},
   "source": [
    "## The Loans Dataset"
   ]
  },
  {
   "cell_type": "markdown",
   "metadata": {},
   "source": [
    "First we read in the excel sheets and write to csv as a 1-time action since reading from CSV is quicker in subsequent notebook startups."
   ]
  },
  {
   "cell_type": "code",
   "execution_count": 4,
   "metadata": {},
   "outputs": [],
   "source": [
    "if((not os.path.isfile('Performance.csv')) or (not os.path.isfile('StaticData.csv'))):\n",
    "    StaticData = pd.read_excel('LoansDataset.xlsx',sheet_name='Static Data')\n",
    "    Performance = pd.read_excel('LoansDataset.xlsx',sheet_name='Performance',header=1)\n",
    "\n",
    "    # Note that here, all NA values are converted to null or empty\n",
    "    StaticData.to_csv('StaticData.csv',index=False)\n",
    "    Performance.to_csv('Performance.csv',index=False)"
   ]
  },
  {
   "cell_type": "code",
   "execution_count": 5,
   "metadata": {},
   "outputs": [],
   "source": [
    "StaticData = pd.read_csv('StaticData.csv',low_memory=False)\n",
    "Performance = pd.read_csv('Performance.csv',low_memory=False)"
   ]
  },
  {
   "cell_type": "markdown",
   "metadata": {},
   "source": [
    "We can see below that there are 72167 records. The LoanID is viable for use as a unique index since we see that there are 72167 unique values for this column. This also means that we can merge the StaticData DataFrame with the Performance DataFrame on LoanID and not generate multiple records."
   ]
  },
  {
   "cell_type": "code",
   "execution_count": 6,
   "metadata": {},
   "outputs": [
    {
     "name": "stdout",
     "output_type": "stream",
     "text": [
      "<class 'pandas.core.frame.DataFrame'>\n",
      "RangeIndex: 72167 entries, 0 to 72166\n",
      "Data columns (total 20 columns):\n",
      "Year                             72167 non-null int64\n",
      "LoanID                           72167 non-null int64\n",
      "Original Loan Size               72167 non-null float64\n",
      "Origination Date                 72167 non-null object\n",
      "Original Term                    72167 non-null int64\n",
      "APR                              72167 non-null float64\n",
      "Loan Rate                        72167 non-null float64\n",
      "LTV                              72167 non-null float64\n",
      "Monthly Instalment               72167 non-null float64\n",
      "Type 1                           72167 non-null object\n",
      "Type 2                           72167 non-null object\n",
      "Borrower's Employment Status     72167 non-null object\n",
      "Risk Tier                        72167 non-null object\n",
      "Exposure At Default              3168 non-null float64\n",
      "Further Recovery Expected Y/N    3168 non-null object\n",
      "Recoveries @ 6m                  1801 non-null float64\n",
      "Recoveries @ 9m                  1315 non-null float64\n",
      "Recoveries @ 12m                 909 non-null float64\n",
      "Total Recovery                   3168 non-null float64\n",
      "Prepayment Amount                72167 non-null float64\n",
      "dtypes: float64(11), int64(3), object(6)\n",
      "memory usage: 11.0+ MB\n",
      "\n",
      "\n",
      "The number of unique entries for LoanID in the StaticData DataFrame is 72167\n",
      "\n",
      "\n",
      "The number of unique entries for LoanID in the Performance DataFrame is 72167\n"
     ]
    }
   ],
   "source": [
    "StaticData.info()\n",
    "\n",
    "print()\n",
    "print()\n",
    "\n",
    "print('The number of unique entries for LoanID in the StaticData DataFrame is {}'.format(StaticData['LoanID'].nunique()))\n",
    "\n",
    "print()\n",
    "print()\n",
    "\n",
    "print('The number of unique entries for LoanID in the Performance DataFrame is {}'.format(Performance['LoanID'].nunique()))"
   ]
  },
  {
   "cell_type": "markdown",
   "metadata": {},
   "source": [
    "Here's the distribution of loans accross years"
   ]
  },
  {
   "cell_type": "code",
   "execution_count": 9,
   "metadata": {},
   "outputs": [
    {
     "data": {
      "text/plain": [
       "<matplotlib.axes._subplots.AxesSubplot at 0x1525f74bfd0>"
      ]
     },
     "execution_count": 9,
     "metadata": {},
     "output_type": "execute_result"
    },
    {
     "data": {
      "image/png": "[encoded data removed]",
      "text/plain": [
       "<matplotlib.figure.Figure at 0x1525f704550>"
      ]
     },
     "metadata": {},
     "output_type": "display_data"
    }
   ],
   "source": [
    "sns.countplot(x=\"Year\",data=StaticData)"
   ]
  },
  {
   "cell_type": "markdown",
   "metadata": {},
   "source": [
    "It seems that most loans are dated in 2017. Additionally, *Employed* consumers take/are given loans the most regardless of the year."
   ]
  },
  {
   "cell_type": "code",
   "execution_count": 10,
   "metadata": {},
   "outputs": [
    {
     "data": {
      "text/plain": [
       "<matplotlib.axes._subplots.AxesSubplot at 0x1525f758fd0>"
      ]
     },
     "execution_count": 10,
     "metadata": {},
     "output_type": "execute_result"
    },
    {
     "data": {
      "image/png": "[encoded data removed]",
      "text/plain": [
       "<matplotlib.figure.Figure at 0x1525f795e48>"
      ]
     },
     "metadata": {},
     "output_type": "display_data"
    }
   ],
   "source": [
    "sns.countplot(x=\"Borrower's Employment Status\",hue='Year',data=StaticData)"
   ]
  },
  {
   "cell_type": "markdown",
   "metadata": {},
   "source": [
    "We merge the Performance DataFrame with the StaticData DataFrame to obtain performance information for each loan"
   ]
  },
  {
   "cell_type": "code",
   "execution_count": 11,
   "metadata": {},
   "outputs": [],
   "source": [
    "# ACTION: Merge\n",
    "MergedData = StaticData.merge(Performance.iloc[:,0:3],on='LoanID')"
   ]
  },
  {
   "cell_type": "markdown",
   "metadata": {},
   "source": [
    "What does default within the first 24 months actually mean? We will have to give a specific definition and the definition we give here is 'All cases with default within the first 12 months is a subset of all cases with default within the first 24 months'. We can see below that there is some ambiguity in the *Status 24* column. Specifically, there are 709 cases where there has been a default within the first 12 months but we have 'NA' in the *Status 24* column."
   ]
  },
  {
   "cell_type": "code",
   "execution_count": 12,
   "metadata": {},
   "outputs": [
    {
     "data": {
      "text/plain": [
       "709"
      ]
     },
     "execution_count": 12,
     "metadata": {},
     "output_type": "execute_result"
    }
   ],
   "source": [
    "len(MergedData[(MergedData['Status 12'] == 1) & (MergedData['Status 24'] != 1)])"
   ]
  },
  {
   "cell_type": "markdown",
   "metadata": {},
   "source": [
    "We therefore create a new column called *Default 24* which caters for this. Below we see that there are no longer any cases that allow for a default within the first 12 months but 'NA' in the first 24 months. We also make sure that in cases where there is no default within 12 months, and the *Status 24* column has 'NA' that there is no default within 24 months also."
   ]
  },
  {
   "cell_type": "code",
   "execution_count": 13,
   "metadata": {},
   "outputs": [
    {
     "name": "stdout",
     "output_type": "stream",
     "text": [
      "There are 0 cases of ambiguity with the 'Status 24' column\n"
     ]
    }
   ],
   "source": [
    "# ACTION: Create new Default24 column and use this instead in the models\n",
    "\n",
    "# Create a new column dependent on whether there has been a default within the first 12 months\n",
    "def default24(x):\n",
    "    if x[0] == 1:\n",
    "        return 1\n",
    "    elif x[0] == 0 and np.isnan(x[1]):\n",
    "        return 0\n",
    "    else:\n",
    "        return x[1]\n",
    "    \n",
    "\n",
    "MergedData['Default24'] = MergedData[['Status 12','Status 24']].apply(lambda x: default24(x),axis=1)\n",
    "print('There are {} cases of ambiguity with the \\'Status 24\\' column'.format(len(MergedData[(MergedData['Status 12'] == 1) & (MergedData['Default24'] != 1)])))"
   ]
  },
  {
   "cell_type": "markdown",
   "metadata": {},
   "source": [
    "We can see that in proportion to the total number of loans, there are very few that have defaulted:"
   ]
  },
  {
   "cell_type": "code",
   "execution_count": 14,
   "metadata": {},
   "outputs": [
    {
     "data": {
      "text/plain": [
       "<matplotlib.axes._subplots.AxesSubplot at 0x1525f82f358>"
      ]
     },
     "execution_count": 14,
     "metadata": {},
     "output_type": "execute_result"
    },
    {
     "data": {
      "image/png": "[encoded data removed]",
      "text/plain": [
       "<matplotlib.figure.Figure at 0x1525f680da0>"
      ]
     },
     "metadata": {},
     "output_type": "display_data"
    }
   ],
   "source": [
    "sns.countplot(x=\"Status 12\",hue='Year',data=MergedData)"
   ]
  },
  {
   "cell_type": "code",
   "execution_count": 15,
   "metadata": {},
   "outputs": [
    {
     "data": {
      "text/plain": [
       "<matplotlib.axes._subplots.AxesSubplot at 0x1525f766710>"
      ]
     },
     "execution_count": 15,
     "metadata": {},
     "output_type": "execute_result"
    },
    {
     "data": {
      "image/png": "[encoded data removed]",
      "text/plain": [
       "<matplotlib.figure.Figure at 0x1525f825c88>"
      ]
     },
     "metadata": {},
     "output_type": "display_data"
    }
   ],
   "source": [
    "sns.countplot(x=\"Default24\",hue='Year',data=MergedData)"
   ]
  },
  {
   "cell_type": "markdown",
   "metadata": {},
   "source": [
    "#### Default Probability"
   ]
  },
  {
   "cell_type": "markdown",
   "metadata": {},
   "source": [
    "It seems that except for year 2014 for which there was no default information, the average *Loan Rate* for those that didn't default is slightly lower than for those that did default. This holds true for both the 12 month and 24 month periods. This suggests that the *Loan Rate* can give us some information as to the probability of default:"
   ]
  },
  {
   "cell_type": "code",
   "execution_count": 16,
   "metadata": {},
   "outputs": [
    {
     "data": {
      "text/plain": [
       "<matplotlib.axes._subplots.AxesSubplot at 0x1525fb28550>"
      ]
     },
     "execution_count": 16,
     "metadata": {},
     "output_type": "execute_result"
    },
    {
     "data": {
      "image/png": "[encoded data removed]",
      "text/plain": [
       "<matplotlib.figure.Figure at 0x1525fb48518>"
      ]
     },
     "metadata": {},
     "output_type": "display_data"
    }
   ],
   "source": [
    "# ACTION: Add loan rate to the model parameters\n",
    "sns.barplot(x=\"Status 12\",y='Loan Rate',hue='Year',data=MergedData)"
   ]
  },
  {
   "cell_type": "code",
   "execution_count": 17,
   "metadata": {},
   "outputs": [
    {
     "data": {
      "text/plain": [
       "<matplotlib.axes._subplots.AxesSubplot at 0x1525fbe2ef0>"
      ]
     },
     "execution_count": 17,
     "metadata": {},
     "output_type": "execute_result"
    },
    {
     "data": {
      "image/png": "[encoded data removed]",
      "text/plain": [
       "<matplotlib.figure.Figure at 0x1525fbedf60>"
      ]
     },
     "metadata": {},
     "output_type": "display_data"
    }
   ],
   "source": [
    "sns.barplot(x=\"Default24\",y='Loan Rate',hue='Year',data=MergedData)"
   ]
  },
  {
   "cell_type": "markdown",
   "metadata": {},
   "source": [
    "Consumers that default have a consistently larger Original Loan Size on average each year. This may also be an indicator of default:"
   ]
  },
  {
   "cell_type": "code",
   "execution_count": 18,
   "metadata": {},
   "outputs": [
    {
     "data": {
      "text/plain": [
       "<matplotlib.axes._subplots.AxesSubplot at 0x1525fc1bdd8>"
      ]
     },
     "execution_count": 18,
     "metadata": {},
     "output_type": "execute_result"
    },
    {
     "data": {
      "image/png": "[encoded data removed]",
      "text/plain": [
       "<matplotlib.figure.Figure at 0x1525fc937f0>"
      ]
     },
     "metadata": {},
     "output_type": "display_data"
    }
   ],
   "source": [
    "# ACTION: Add Original Loan Size to the model parameters\n",
    "sns.barplot(x=\"Status 12\",y='Original Loan Size',hue='Year',data=MergedData)"
   ]
  },
  {
   "cell_type": "code",
   "execution_count": 19,
   "metadata": {},
   "outputs": [
    {
     "data": {
      "text/plain": [
       "<matplotlib.axes._subplots.AxesSubplot at 0x1525fd15160>"
      ]
     },
     "execution_count": 19,
     "metadata": {},
     "output_type": "execute_result"
    },
    {
     "data": {
      "image/png": "[encoded data removed]",
      "text/plain": [
       "<matplotlib.figure.Figure at 0x1525fd1d518>"
      ]
     },
     "metadata": {},
     "output_type": "display_data"
    }
   ],
   "source": [
    "sns.barplot(x=\"Default24\",y='Original Loan Size',hue='Year',data=MergedData)"
   ]
  },
  {
   "cell_type": "markdown",
   "metadata": {},
   "source": [
    "Let's see if *Employment Status* is any indication for default. We can't just do a count plot since we know that more Employed Consumers take out loans. So we find the ratio of default in each category by grouping on *Borrower's Employment Status*. We see that whether a consumer is *Self-employed*, *Employed* or *Other* has an effect on the default probability:"
   ]
  },
  {
   "cell_type": "code",
   "execution_count": 20,
   "metadata": {},
   "outputs": [
    {
     "data": {
      "text/plain": [
       "<matplotlib.axes._subplots.AxesSubplot at 0x1525fd47470>"
      ]
     },
     "execution_count": 20,
     "metadata": {},
     "output_type": "execute_result"
    },
    {
     "data": {
      "image/png": "[encoded data removed]",
      "text/plain": [
       "<matplotlib.figure.Figure at 0x1525fdc1d68>"
      ]
     },
     "metadata": {},
     "output_type": "display_data"
    }
   ],
   "source": [
    "# ACTION: Create dummy data for Self-employed and other and add them to the model parameters\n",
    "MeanDefault = MergedData[['Year', 'Status 12', 'Status 24','Default24', \"Borrower's Employment Status\"]].groupby([\"Borrower's Employment Status\",'Year']).mean().reset_index()\n",
    "sns.barplot(x=\"Borrower's Employment Status\", y=\"Status 12\",hue=\"Year\",data=MeanDefault)"
   ]
  },
  {
   "cell_type": "code",
   "execution_count": 21,
   "metadata": {},
   "outputs": [
    {
     "data": {
      "text/plain": [
       "<matplotlib.axes._subplots.AxesSubplot at 0x1525fdf97f0>"
      ]
     },
     "execution_count": 21,
     "metadata": {},
     "output_type": "execute_result"
    },
    {
     "data": {
      "image/png": "[encoded data removed]",
      "text/plain": [
       "<matplotlib.figure.Figure at 0x1525fd68668>"
      ]
     },
     "metadata": {},
     "output_type": "display_data"
    }
   ],
   "source": [
    "sns.barplot(x=\"Borrower's Employment Status\", y=\"Default24\",hue=\"Year\",data=MeanDefault)"
   ]
  },
  {
   "cell_type": "markdown",
   "metadata": {},
   "source": [
    "We can see below that as the *Original Term* increases, the proportion of default also increases (although this is less pronounced for the 'Default24' category). We can create bins of 5 and categorise in order to not have too few records in a bucket. We first create a function to categorise Original Term <= 25 as 25 and Original Term >= 70 as 70."
   ]
  },
  {
   "cell_type": "code",
   "execution_count": 22,
   "metadata": {},
   "outputs": [],
   "source": [
    "def getTermCategory(x):\n",
    "    if x <= 25:\n",
    "        return 25\n",
    "    elif x >= 70:\n",
    "        return 70\n",
    "    else:\n",
    "        return x\n"
   ]
  },
  {
   "cell_type": "code",
   "execution_count": 23,
   "metadata": {},
   "outputs": [
    {
     "data": {
      "image/png": "[encoded data removed]",
      "text/plain": [
       "<matplotlib.figure.Figure at 0x1525ff3eb00>"
      ]
     },
     "metadata": {},
     "output_type": "display_data"
    },
    {
     "data": {
      "image/png": "[encoded data removed]",
      "text/plain": [
       "<matplotlib.figure.Figure at 0x1525ff25240>"
      ]
     },
     "metadata": {},
     "output_type": "display_data"
    }
   ],
   "source": [
    "# ACTION: Create Original Term buckets of 5. Group up >= 75 and <=15 into their own categories. \n",
    "# Create dummy variables. Then add to the model as a parameter.\n",
    "\n",
    "# As the term increases, there is a slightly higher chance of default for both 12 and 24 month defaults.\n",
    "# But this is only true for records with Original Term between 15 and 75 since we don't have enough data otherwise\n",
    "\n",
    "# We will create buckets of 5\n",
    "x = MergedData['Original Term'].apply(lambda x: int(x/5)*5)\n",
    "\n",
    "xdf = pd.DataFrame(x)\n",
    "xdf['TermCategory'] = xdf['Original Term'].apply(lambda x: getTermCategory(x))\n",
    "\n",
    "# There are only a small amount of non null records with original term > 70 and < 15 so we omit those\n",
    "sns.countplot(xdf['TermCategory'])\n",
    "plt.show()\n",
    "sns.barplot(x=xdf['TermCategory'], y=MergedData[\"Status 12\"],ci=0)\n",
    "plt.show()"
   ]
  },
  {
   "cell_type": "code",
   "execution_count": 24,
   "metadata": {},
   "outputs": [
    {
     "data": {
      "text/plain": [
       "<matplotlib.axes._subplots.AxesSubplot at 0x1525fe7f7b8>"
      ]
     },
     "execution_count": 24,
     "metadata": {},
     "output_type": "execute_result"
    },
    {
     "data": {
      "image/png": "[encoded data removed]",
      "text/plain": [
       "<matplotlib.figure.Figure at 0x1526426f860>"
      ]
     },
     "metadata": {},
     "output_type": "display_data"
    }
   ],
   "source": [
    "sns.barplot(x=xdf['TermCategory'], y=MergedData[\"Default24\"],ci=0)"
   ]
  },
  {
   "cell_type": "markdown",
   "metadata": {},
   "source": [
    "APR is on average higher for those that default."
   ]
  },
  {
   "cell_type": "code",
   "execution_count": 27,
   "metadata": {},
   "outputs": [
    {
     "data": {
      "text/plain": [
       "<matplotlib.axes._subplots.AxesSubplot at 0x15265756cc0>"
      ]
     },
     "execution_count": 27,
     "metadata": {},
     "output_type": "execute_result"
    },
    {
     "data": {
      "image/png": "[encoded data removed]",
      "text/plain": [
       "<matplotlib.figure.Figure at 0x15264295a90>"
      ]
     },
     "metadata": {},
     "output_type": "display_data"
    }
   ],
   "source": [
    "# ACTION: Add APR as a continuous variable to the model\n",
    "\n",
    "# Those that default have higher APR on average\n",
    "sns.barplot(x=\"Status 12\", y=\"APR\",data=MergedData)"
   ]
  },
  {
   "cell_type": "code",
   "execution_count": 28,
   "metadata": {},
   "outputs": [
    {
     "data": {
      "text/plain": [
       "<matplotlib.axes._subplots.AxesSubplot at 0x15265749b38>"
      ]
     },
     "execution_count": 28,
     "metadata": {},
     "output_type": "execute_result"
    },
    {
     "data": {
      "image/png": "[encoded data removed]",
      "text/plain": [
       "<matplotlib.figure.Figure at 0x152657157f0>"
      ]
     },
     "metadata": {},
     "output_type": "display_data"
    }
   ],
   "source": [
    "# Those that default have higher APR on average\n",
    "sns.barplot(x=\"Default24\", y=\"APR\",data=MergedData)"
   ]
  },
  {
   "cell_type": "markdown",
   "metadata": {},
   "source": [
    "Tier is a good indicator since higher tiers correspond to higher proportion of default for both the 12 month and 24 month periods."
   ]
  },
  {
   "cell_type": "code",
   "execution_count": 29,
   "metadata": {},
   "outputs": [
    {
     "data": {
      "text/plain": [
       "<matplotlib.axes._subplots.AxesSubplot at 0x15265802f98>"
      ]
     },
     "execution_count": 29,
     "metadata": {},
     "output_type": "execute_result"
    },
    {
     "data": {
      "image/png": "[encoded data removed]",
      "text/plain": [
       "<matplotlib.figure.Figure at 0x152657ed588>"
      ]
     },
     "metadata": {},
     "output_type": "display_data"
    }
   ],
   "source": [
    "# ACTION: Create dummy indicators for Tier and add it to the model.\n",
    "\n",
    "# Tier looks to be an indicator\n",
    "sns.barplot(x=\"Risk Tier\", y=\"Status 12\",data=MergedData,order=['Tier 1','Tier 2','Tier 3','Tier 4','Tier 5','Tier 6','Tier 7','Tier 8','Untiered'])"
   ]
  },
  {
   "cell_type": "code",
   "execution_count": 30,
   "metadata": {},
   "outputs": [
    {
     "data": {
      "text/plain": [
       "<matplotlib.axes._subplots.AxesSubplot at 0x1526582f518>"
      ]
     },
     "execution_count": 30,
     "metadata": {},
     "output_type": "execute_result"
    },
    {
     "data": {
      "image/png": "[encoded data removed]",
      "text/plain": [
       "<matplotlib.figure.Figure at 0x152657ac908>"
      ]
     },
     "metadata": {},
     "output_type": "display_data"
    }
   ],
   "source": [
    "# Tier may be an indicator\n",
    "sns.barplot(x=\"Risk Tier\", y=\"Default24\",data=MergedData,order=['Tier 1','Tier 2','Tier 3','Tier 4','Tier 5','Tier 6','Tier 7','Tier 8','Untiered'])"
   ]
  },
  {
   "cell_type": "markdown",
   "metadata": {},
   "source": [
    "LTV seems to be correlated with default proportion. The distribution of LTV is right skewed."
   ]
  },
  {
   "cell_type": "code",
   "execution_count": 31,
   "metadata": {},
   "outputs": [
    {
     "data": {
      "text/plain": [
       "<matplotlib.axes._subplots.AxesSubplot at 0x1526591a320>"
      ]
     },
     "execution_count": 31,
     "metadata": {},
     "output_type": "execute_result"
    },
    {
     "data": {
      "image/png": "[encoded data removed]",
      "text/plain": [
       "<matplotlib.figure.Figure at 0x152658cc4e0>"
      ]
     },
     "metadata": {},
     "output_type": "display_data"
    }
   ],
   "source": [
    "sns.distplot(MergedData[\"LTV\"],kde=False)"
   ]
  },
  {
   "cell_type": "code",
   "execution_count": 32,
   "metadata": {},
   "outputs": [],
   "source": [
    "def getLTVCategory(x):\n",
    "    if x <= 0.4:\n",
    "        return 0.4\n",
    "    elif x >= 1.2:\n",
    "        return 1.2\n",
    "    else:\n",
    "        return round(int(x/0.1)*0.1,2)"
   ]
  },
  {
   "cell_type": "code",
   "execution_count": 33,
   "metadata": {},
   "outputs": [
    {
     "data": {
      "text/plain": [
       "<matplotlib.axes._subplots.AxesSubplot at 0x1526596e518>"
      ]
     },
     "execution_count": 33,
     "metadata": {},
     "output_type": "execute_result"
    },
    {
     "data": {
      "image/png": "[encoded data removed]",
      "text/plain": [
       "<matplotlib.figure.Figure at 0x15264538ef0>"
      ]
     },
     "metadata": {},
     "output_type": "display_data"
    }
   ],
   "source": [
    "# ACTION: Create LTV buckets. Add this as a numerical feature to the model parameters\n",
    "\n",
    "MergedData['LTVBucket'] = MergedData['LTV'].apply(getLTVCategory)\n",
    "\n",
    "fig, ax = plt.subplots()\n",
    "# the size of A4 paper\n",
    "fig.set_size_inches(11, 8)\n",
    "\n",
    "sns.barplot(x=\"LTVBucket\", y=\"Status 12\",data=MergedData)"
   ]
  },
  {
   "cell_type": "code",
   "execution_count": 34,
   "metadata": {},
   "outputs": [
    {
     "data": {
      "text/plain": [
       "<matplotlib.axes._subplots.AxesSubplot at 0x15265a1b518>"
      ]
     },
     "execution_count": 34,
     "metadata": {},
     "output_type": "execute_result"
    },
    {
     "data": {
      "image/png": "[encoded data removed]",
      "text/plain": [
       "<matplotlib.figure.Figure at 0x1526599d320>"
      ]
     },
     "metadata": {},
     "output_type": "display_data"
    }
   ],
   "source": [
    "fig, ax = plt.subplots()\n",
    "# the size of A4 paper\n",
    "fig.set_size_inches(11, 8)\n",
    "\n",
    "sns.barplot(x=\"LTVBucket\", y=\"Default24\",data=MergedData)"
   ]
  },
  {
   "cell_type": "markdown",
   "metadata": {},
   "source": [
    "The *Monthly Instalment* as a percentage of the *Original Loan Size* looks to be related to an increased proportion of defaults."
   ]
  },
  {
   "cell_type": "code",
   "execution_count": 35,
   "metadata": {},
   "outputs": [],
   "source": [
    "# ACTION: Create a Monthly Instalment pct column. Bucket these. Then add to the model as a parameter.\n",
    "\n",
    "MergedData['MonthlyInstalmentpct'] = MergedData[['Original Loan Size','Monthly Instalment']].apply(lambda x: x[1]*100/x[0],axis=1)"
   ]
  },
  {
   "cell_type": "code",
   "execution_count": 36,
   "metadata": {},
   "outputs": [
    {
     "data": {
      "text/plain": [
       "<matplotlib.axes._subplots.AxesSubplot at 0x15265a86550>"
      ]
     },
     "execution_count": 36,
     "metadata": {},
     "output_type": "execute_result"
    },
    {
     "data": {
      "image/png": "[encoded data removed]",
      "text/plain": [
       "<matplotlib.figure.Figure at 0x15265975a58>"
      ]
     },
     "metadata": {},
     "output_type": "display_data"
    }
   ],
   "source": [
    "sns.distplot(MergedData[\"MonthlyInstalmentpct\"],kde=False)"
   ]
  },
  {
   "cell_type": "code",
   "execution_count": 37,
   "metadata": {},
   "outputs": [],
   "source": [
    "def getInstalmentpctCategory(x):\n",
    "    if x <= 1.5:\n",
    "        return 1.5\n",
    "    elif x >= 4:\n",
    "        return 4\n",
    "    else:\n",
    "        return int(x/0.5)*0.5"
   ]
  },
  {
   "cell_type": "code",
   "execution_count": 38,
   "metadata": {},
   "outputs": [],
   "source": [
    "MergedData['InstalmentpctBucket'] = MergedData['MonthlyInstalmentpct'].apply(getInstalmentpctCategory)"
   ]
  },
  {
   "cell_type": "code",
   "execution_count": 39,
   "metadata": {},
   "outputs": [
    {
     "data": {
      "text/plain": [
       "<matplotlib.axes._subplots.AxesSubplot at 0x15265bfff60>"
      ]
     },
     "execution_count": 39,
     "metadata": {},
     "output_type": "execute_result"
    },
    {
     "data": {
      "image/png": "[encoded data removed]",
      "text/plain": [
       "<matplotlib.figure.Figure at 0x15265b58400>"
      ]
     },
     "metadata": {},
     "output_type": "display_data"
    }
   ],
   "source": [
    "sns.barplot(x=\"InstalmentpctBucket\", y=\"Status 12\",data=MergedData)"
   ]
  },
  {
   "cell_type": "code",
   "execution_count": 40,
   "metadata": {},
   "outputs": [
    {
     "data": {
      "text/plain": [
       "<matplotlib.axes._subplots.AxesSubplot at 0x15265c2b9e8>"
      ]
     },
     "execution_count": 40,
     "metadata": {},
     "output_type": "execute_result"
    },
    {
     "data": {
      "image/png": "[encoded data removed]",
      "text/plain": [
       "<matplotlib.figure.Figure at 0x15265c27c88>"
      ]
     },
     "metadata": {},
     "output_type": "display_data"
    }
   ],
   "source": [
    "sns.barplot(x=\"InstalmentpctBucket\", y=\"Default24\",data=MergedData)"
   ]
  },
  {
   "cell_type": "code",
   "execution_count": 41,
   "metadata": {
    "scrolled": true
   },
   "outputs": [
    {
     "name": "stdout",
     "output_type": "stream",
     "text": [
      "100.0 % of the data in 2015 have non-null 'Status 12' values\n",
      "100.0 % of the data in 2015 have non-null 'Status 24' values\n",
      "\n",
      "100.0 % of the data in 2016 have non-null 'Status 12' values\n",
      "29.11774039987306 % of the data in 2016 have non-null 'Status 24' values\n",
      "\n",
      "27.69503664781284 % of the data in 2017 have non-null 'Status 12' values\n",
      "0.0 % of the data in 2017 have non-null 'Status 24' values\n",
      "\n",
      "0.0 % of the data in 2018 have non-null 'Status 12' values\n",
      "0.0 % of the data in 2018 have non-null 'Status 24' values\n"
     ]
    }
   ],
   "source": [
    "statusNull122015 = pd.isna(MergedData[(MergedData['Year'] == 2015)]['Status 12']).sum()/len(MergedData[(MergedData['Year'] == 2015)]['Status 12'])\n",
    "statusNull242015 = pd.isna(MergedData[(MergedData['Year'] == 2015)]['Status 24']).sum()/len(MergedData[(MergedData['Year'] == 2015)]['Status 24'])\n",
    "\n",
    "print('{} % of the data in 2015 have non-null \\'Status 12\\' values'.format((1-statusNull122015)*100))\n",
    "print('{} % of the data in 2015 have non-null \\'Status 24\\' values\\n'.format((1-statusNull242015)*100))\n",
    "\n",
    "\n",
    "\n",
    "statusNull122016 = pd.isna(MergedData[(MergedData['Year'] == 2016)]['Status 12']).sum()/len(MergedData[(MergedData['Year'] == 2016)]['Status 12'])\n",
    "statusNull242016 = pd.isna(MergedData[(MergedData['Year'] == 2016)]['Status 24']).sum()/len(MergedData[(MergedData['Year'] == 2016)]['Status 24'])\n",
    "\n",
    "print('{} % of the data in 2016 have non-null \\'Status 12\\' values'.format((1-statusNull122016)*100))\n",
    "print('{} % of the data in 2016 have non-null \\'Status 24\\' values\\n'.format((1-statusNull242016)*100))\n",
    "\n",
    "\n",
    "\n",
    "statusNull122017 = pd.isna(MergedData[(MergedData['Year'] == 2017)]['Status 12']).sum()/len(MergedData[(MergedData['Year'] == 2017)]['Status 12'])\n",
    "statusNull242017 = pd.isna(MergedData[(MergedData['Year'] == 2017)]['Status 24']).sum()/len(MergedData[(MergedData['Year'] == 2017)]['Status 24'])\n",
    "\n",
    "print('{} % of the data in 2017 have non-null \\'Status 12\\' values'.format((1-statusNull122017)*100))\n",
    "print('{} % of the data in 2017 have non-null \\'Status 24\\' values\\n'.format((1-statusNull242017)*100))\n",
    "\n",
    "\n",
    "\n",
    "statusNull122018 = pd.isna(MergedData[(MergedData['Year'] == 2018)]['Status 12']).sum()/len(MergedData[(MergedData['Year'] == 2018)]['Status 12'])\n",
    "statusNull242018 = pd.isna(MergedData[(MergedData['Year'] == 2018)]['Status 24']).sum()/len(MergedData[(MergedData['Year'] == 2018)]['Status 24'])\n",
    "\n",
    "print('{} % of the data in 2018 have non-null \\'Status 12\\' values'.format((1-statusNull122018)*100))\n",
    "print('{} % of the data in 2018 have non-null \\'Status 24\\' values'.format((1-statusNull242018)*100))"
   ]
  },
  {
   "cell_type": "markdown",
   "metadata": {},
   "source": [
    "#### Modelling Value as a function of Loan Rate\n",
    "\n",
    "We may be able to model the $\\textbf{Value=Original Loan Size} \\times \\textbf{Total Recovery}$ as a function of *Loan Rate* and *Original Term*. Here we are only interested in the consumers that have a non-null *Exposure At Default* because we want to obtain a model for those that have defaulted. We see below that *Value* looks to be a non-linear function of *Loan Rate* and *Total Recovery*. We get a much more linear scatter plot when we use $\\textbf{Loan Rate}^2$."
   ]
  },
  {
   "cell_type": "code",
   "execution_count": 42,
   "metadata": {},
   "outputs": [],
   "source": [
    "# ACTION: Create a Value column. Add the parameters Loan Rate and Original Term to a Linear Regression model with both mixed effect (synergy effect) and separately\n",
    "\n",
    "MergedData['Value'] = MergedData['Original Loan Size']*MergedData['Total Recovery']\n",
    "MergedDataDefaulted12 = MergedData[(MergedData['Status 12'] == 1) & (pd.isna(MergedData['Exposure At Default']).apply(lambda x: not x))]\n",
    "MergedDataDefaulted24 = MergedData[(MergedData['Default24'] == 1) & (pd.isna(MergedData['Exposure At Default']).apply(lambda x: not x))]\n",
    "\n",
    "# MergedDataDefaulted12 = MergedData[MergedData['Status 12'] == 1]\n",
    "# MergedDataDefaulted24 = MergedData[MergedData['Status 24'] == 1]"
   ]
  },
  {
   "cell_type": "code",
   "execution_count": 48,
   "metadata": {},
   "outputs": [
    {
     "data": {
      "text/plain": [
       "<matplotlib.collections.PathCollection at 0x15266076d30>"
      ]
     },
     "execution_count": 48,
     "metadata": {},
     "output_type": "execute_result"
    },
    {
     "data": {
      "image/png": "[encoded data removed]",
      "text/plain": [
       "<matplotlib.figure.Figure at 0x15266002b38>"
      ]
     },
     "metadata": {},
     "output_type": "display_data"
    }
   ],
   "source": [
    "# Let's obtain a relationship with APR\n",
    "plt.scatter(x=((MergedDataDefaulted12['Loan Rate'])),y=MergedDataDefaulted12['Value'])\n",
    "#plt.ylim(0,0.05)"
   ]
  },
  {
   "cell_type": "code",
   "execution_count": 50,
   "metadata": {},
   "outputs": [
    {
     "data": {
      "text/plain": [
       "<matplotlib.collections.PathCollection at 0x152686943c8>"
      ]
     },
     "execution_count": 50,
     "metadata": {},
     "output_type": "execute_result"
    },
    {
     "data": {
      "image/png": "[encoded data removed]",
      "text/plain": [
       "<matplotlib.figure.Figure at 0x15268605240>"
      ]
     },
     "metadata": {},
     "output_type": "display_data"
    }
   ],
   "source": [
    "plt.scatter(x=((MergedDataDefaulted12['Loan Rate']**2)),y=MergedDataDefaulted12['Value'])"
   ]
  },
  {
   "cell_type": "code",
   "execution_count": 51,
   "metadata": {},
   "outputs": [
    {
     "data": {
      "text/plain": [
       "<matplotlib.collections.PathCollection at 0x152686f5390>"
      ]
     },
     "execution_count": 51,
     "metadata": {},
     "output_type": "execute_result"
    },
    {
     "data": {
      "image/png": "[encoded data removed]",
      "text/plain": [
       "<matplotlib.figure.Figure at 0x15268617d68>"
      ]
     },
     "metadata": {},
     "output_type": "display_data"
    }
   ],
   "source": [
    "# Let's obtain a relationship with APR\n",
    "plt.scatter(x=((MergedDataDefaulted24['Loan Rate'])),y=MergedDataDefaulted24['Value'])\n",
    "#plt.ylim(0,2)"
   ]
  },
  {
   "cell_type": "code",
   "execution_count": 52,
   "metadata": {},
   "outputs": [
    {
     "data": {
      "text/plain": [
       "<matplotlib.collections.PathCollection at 0x15268754898>"
      ]
     },
     "execution_count": 52,
     "metadata": {},
     "output_type": "execute_result"
    },
    {
     "data": {
      "image/png": "[encoded data removed]",
      "text/plain": [
       "<matplotlib.figure.Figure at 0x152686caa20>"
      ]
     },
     "metadata": {},
     "output_type": "display_data"
    }
   ],
   "source": [
    "plt.scatter(x=((MergedDataDefaulted24['Loan Rate']**2)),y=MergedDataDefaulted24['Value'])"
   ]
  },
  {
   "cell_type": "markdown",
   "metadata": {},
   "source": [
    "#### Transformation and Cleaning"
   ]
  },
  {
   "cell_type": "markdown",
   "metadata": {},
   "source": [
    "Our transform and clean function should have the following actions from our analysis above:\n",
    "\n",
    "0- ACTION: Merge\n",
    "\n",
    "1- ACTION: Create new Default24 column and use this instead in the models\n",
    "\n",
    "2- ACTION: Create dummy data for Self-employed\n",
    "\n",
    "3- ACTION: Create Original Term buckets of 5. Group up >= 75 and <=15 into their own categories\n",
    "\n",
    "4- ACTION: Create dummy indicators for Tier\n",
    "\n",
    "5- ACTION: Create LTV buckets\n",
    "\n",
    "6- ACTION: Create a Monthly Instalment pct column and bucket them\n",
    "\n",
    "7- ACTION: Create an Value column\n",
    "\n",
    "8- ACTION: Create Loan Rate^2 and Loan Rate*OriginalTerm Columns\n",
    "\n",
    "The Model should have the following parameters:\n",
    "\n",
    "1- ACTION: Add loan rate to the model parameters\n",
    "\n",
    "2- ACTION: Add Original Loan Size to the model parameters\n",
    "\n",
    "3- ACTION: Add dummy data for Employment Status to the model parameters\n",
    "\n",
    "4- ACTION: Add Term Buckets to model parameters\n",
    "\n",
    "5- ACTION: Add APR as a continuous variable to the model\n",
    "\n",
    "6- ACTION: Add dummy data for Term to the model\n",
    "\n",
    "7- ACTION: Add LTV buckets as a numerical feature to the model parameters\n",
    "\n",
    "8- ACTION: Add the bucketed Monthly Instalment pct buckets to the model as a parameter\n",
    "\n",
    "9- ACTION: Add the parameters Loan Rate^2 and Original Term to a Linear Regression model with both mixed effect (synergy effect) and separately in order to model ExposureRatio"
   ]
  },
  {
   "cell_type": "code",
   "execution_count": 53,
   "metadata": {},
   "outputs": [],
   "source": [
    "def TransformMergeAndCleanData(df,df2):\n",
    "    #0- Merge the two DataFrames\n",
    "    df_out = df.merge(df2.iloc[:,0:3],on='LoanID')\n",
    "    \n",
    "    #1- Create new Default24 column and use this instead in the models\n",
    "    df_out['Default24'] = df_out[['Status 12','Status 24']].apply(lambda x: default24(x),axis=1)\n",
    "    \n",
    "    # Convert the Origination Date to date object\n",
    "    df_out['OriginationDateFormatted'] = df_out['Origination Date'].apply(lambda x: datetime.datetime.strptime(x.replace('-',''), \"%Y%m%d\").date())\n",
    "    \n",
    "    #2- Employment Status is either Employed, Unemployed or other. Create a series which has entries 0 and 1 specifying whether it's one or the other\n",
    "    Employment = pd.get_dummies(df_out['Borrower\\'s Employment Status'],drop_first=True)\n",
    "    \n",
    "    #3- We will create buckets of 5 for Original Term\n",
    "    x = df_out['Original Term'].apply(lambda x: int(x/5)*5)\n",
    "    xdf = pd.DataFrame(x)\n",
    "    OriginalTermBucket = xdf['Original Term'].apply(lambda x: getTermCategory(x))\n",
    "    OriginalTermBucket.name='OriginalTermBucket'\n",
    "    \n",
    "    #4- Create dummy indicators for Tier\n",
    "    RiskTier = pd.get_dummies(df_out['Risk Tier'],drop_first=True)\n",
    "    \n",
    "    #5- Create LTV buckets\n",
    "    LTVBucket = df_out['LTV'].apply(getLTVCategory)\n",
    "    LTVBucket.name = 'LTVBucket'\n",
    "    \n",
    "    #6- Create a Monthly Instalment pct column and bucket them\n",
    "    df_out['MonthlyInstalmentpct'] = df_out[['Original Loan Size','Monthly Instalment']].apply(lambda x: x[1]*100/x[0],axis=1)\n",
    "    df_out['InstalmentpctBucket'] = df_out['MonthlyInstalmentpct'].apply(getInstalmentpctCategory)\n",
    "    \n",
    "    #7- Create an ExposureRatio column\n",
    "    df_out['Value'] = df_out[['Original Loan Size','Total Recovery']].apply(lambda x: x[1]*x[0],axis=1)\n",
    "    \n",
    "    #8- Create APR^2 and APR*OriginalTerm Columns\n",
    "    df_out['LoanRate2'] = df_out['Loan Rate']**2\n",
    "    df_out['LoanRate2OriginalTerm'] = df_out['LoanRate2']*df_out['Original Term']\n",
    "    df_out['LoanRateOriginalTerm'] = df_out['Loan Rate']*df_out['Original Term']\n",
    "    \n",
    "    Type1 = pd.get_dummies(df['Type 1'],drop_first=True)\n",
    "\n",
    "    #Concat the series to the data frame\n",
    "    df_out = pd.concat([df_out,Employment,OriginalTermBucket,RiskTier,LTVBucket,Type1],axis=1)\n",
    "    \n",
    "    # Remove records which have null Status 12 and Default24 entries separately\n",
    "    return df_out[pd.isna(df_out['Status 12']).apply(lambda x: not x)], df_out[pd.isna(df_out['Default24']).apply(lambda x: not x)]"
   ]
  },
  {
   "cell_type": "code",
   "execution_count": 54,
   "metadata": {},
   "outputs": [],
   "source": [
    "df_final12,df_final24 = TransformMergeAndCleanData(StaticData,Performance)"
   ]
  },
  {
   "cell_type": "code",
   "execution_count": 55,
   "metadata": {
    "scrolled": false
   },
   "outputs": [
    {
     "data": {
      "text/html": [
       "<div>\n",
       "<style scoped>\n",
       "    .dataframe tbody tr th:only-of-type {\n",
       "        vertical-align: middle;\n",
       "    }\n",
       "\n",
       "    .dataframe tbody tr th {\n",
       "        vertical-align: top;\n",
       "    }\n",
       "\n",
       "    .dataframe thead th {\n",
       "        text-align: right;\n",
       "    }\n",
       "</style>\n",
       "<table border=\"1\" class=\"dataframe\">\n",
       "  <thead>\n",
       "    <tr style=\"text-align: right;\">\n",
       "      <th></th>\n",
       "      <th>Status 12</th>\n",
       "      <th>Status 24</th>\n",
       "      <th>Default24</th>\n",
       "      <th>OriginationDateFormatted</th>\n",
       "      <th>MonthlyInstalmentpct</th>\n",
       "      <th>InstalmentpctBucket</th>\n",
       "      <th>Value</th>\n",
       "      <th>LoanRate2</th>\n",
       "      <th>LoanRate2OriginalTerm</th>\n",
       "      <th>LoanRateOriginalTerm</th>\n",
       "      <th>...</th>\n",
       "      <th>Tier 3</th>\n",
       "      <th>Tier 4</th>\n",
       "      <th>Tier 5</th>\n",
       "      <th>Tier 6</th>\n",
       "      <th>Tier 7</th>\n",
       "      <th>Tier 8</th>\n",
       "      <th>Untiered</th>\n",
       "      <th>LTVBucket</th>\n",
       "      <th>B</th>\n",
       "      <th>C</th>\n",
       "    </tr>\n",
       "  </thead>\n",
       "  <tbody>\n",
       "    <tr>\n",
       "      <th>1</th>\n",
       "      <td>0.0</td>\n",
       "      <td>0.0</td>\n",
       "      <td>0.0</td>\n",
       "      <td>2014-12-03</td>\n",
       "      <td>3.230143</td>\n",
       "      <td>3.0</td>\n",
       "      <td>NaN</td>\n",
       "      <td>0.053547</td>\n",
       "      <td>1.820602</td>\n",
       "      <td>7.867685</td>\n",
       "      <td>...</td>\n",
       "      <td>0</td>\n",
       "      <td>0</td>\n",
       "      <td>0</td>\n",
       "      <td>0</td>\n",
       "      <td>0</td>\n",
       "      <td>0</td>\n",
       "      <td>0</td>\n",
       "      <td>0.8</td>\n",
       "      <td>1</td>\n",
       "      <td>0</td>\n",
       "    </tr>\n",
       "    <tr>\n",
       "      <th>2</th>\n",
       "      <td>0.0</td>\n",
       "      <td>0.0</td>\n",
       "      <td>0.0</td>\n",
       "      <td>2014-12-16</td>\n",
       "      <td>2.985235</td>\n",
       "      <td>2.5</td>\n",
       "      <td>NaN</td>\n",
       "      <td>0.081245</td>\n",
       "      <td>5.199698</td>\n",
       "      <td>18.242276</td>\n",
       "      <td>...</td>\n",
       "      <td>0</td>\n",
       "      <td>0</td>\n",
       "      <td>1</td>\n",
       "      <td>0</td>\n",
       "      <td>0</td>\n",
       "      <td>0</td>\n",
       "      <td>0</td>\n",
       "      <td>0.9</td>\n",
       "      <td>1</td>\n",
       "      <td>0</td>\n",
       "    </tr>\n",
       "    <tr>\n",
       "      <th>3</th>\n",
       "      <td>0.0</td>\n",
       "      <td>0.0</td>\n",
       "      <td>0.0</td>\n",
       "      <td>2014-12-17</td>\n",
       "      <td>3.310211</td>\n",
       "      <td>3.0</td>\n",
       "      <td>NaN</td>\n",
       "      <td>0.059918</td>\n",
       "      <td>2.696304</td>\n",
       "      <td>11.015157</td>\n",
       "      <td>...</td>\n",
       "      <td>0</td>\n",
       "      <td>0</td>\n",
       "      <td>1</td>\n",
       "      <td>0</td>\n",
       "      <td>0</td>\n",
       "      <td>0</td>\n",
       "      <td>0</td>\n",
       "      <td>0.8</td>\n",
       "      <td>0</td>\n",
       "      <td>0</td>\n",
       "    </tr>\n",
       "    <tr>\n",
       "      <th>4</th>\n",
       "      <td>0.0</td>\n",
       "      <td>0.0</td>\n",
       "      <td>0.0</td>\n",
       "      <td>2014-12-18</td>\n",
       "      <td>3.342916</td>\n",
       "      <td>3.0</td>\n",
       "      <td>NaN</td>\n",
       "      <td>0.105502</td>\n",
       "      <td>4.536578</td>\n",
       "      <td>13.966849</td>\n",
       "      <td>...</td>\n",
       "      <td>0</td>\n",
       "      <td>0</td>\n",
       "      <td>1</td>\n",
       "      <td>0</td>\n",
       "      <td>0</td>\n",
       "      <td>0</td>\n",
       "      <td>0</td>\n",
       "      <td>0.7</td>\n",
       "      <td>1</td>\n",
       "      <td>0</td>\n",
       "    </tr>\n",
       "    <tr>\n",
       "      <th>5</th>\n",
       "      <td>0.0</td>\n",
       "      <td>0.0</td>\n",
       "      <td>0.0</td>\n",
       "      <td>2014-12-22</td>\n",
       "      <td>2.619870</td>\n",
       "      <td>2.5</td>\n",
       "      <td>NaN</td>\n",
       "      <td>0.014856</td>\n",
       "      <td>0.698217</td>\n",
       "      <td>5.728543</td>\n",
       "      <td>...</td>\n",
       "      <td>0</td>\n",
       "      <td>0</td>\n",
       "      <td>0</td>\n",
       "      <td>0</td>\n",
       "      <td>0</td>\n",
       "      <td>0</td>\n",
       "      <td>0</td>\n",
       "      <td>0.9</td>\n",
       "      <td>1</td>\n",
       "      <td>0</td>\n",
       "    </tr>\n",
       "  </tbody>\n",
       "</table>\n",
       "<p>5 rows × 24 columns</p>\n",
       "</div>"
      ],
      "text/plain": [
       "   Status 12  Status 24  Default24 OriginationDateFormatted  \\\n",
       "1        0.0        0.0        0.0               2014-12-03   \n",
       "2        0.0        0.0        0.0               2014-12-16   \n",
       "3        0.0        0.0        0.0               2014-12-17   \n",
       "4        0.0        0.0        0.0               2014-12-18   \n",
       "5        0.0        0.0        0.0               2014-12-22   \n",
       "\n",
       "   MonthlyInstalmentpct  InstalmentpctBucket  Value  LoanRate2  \\\n",
       "1              3.230143                  3.0    NaN   0.053547   \n",
       "2              2.985235                  2.5    NaN   0.081245   \n",
       "3              3.310211                  3.0    NaN   0.059918   \n",
       "4              3.342916                  3.0    NaN   0.105502   \n",
       "5              2.619870                  2.5    NaN   0.014856   \n",
       "\n",
       "   LoanRate2OriginalTerm  LoanRateOriginalTerm ...  Tier 3  Tier 4  Tier 5  \\\n",
       "1               1.820602              7.867685 ...       0       0       0   \n",
       "2               5.199698             18.242276 ...       0       0       1   \n",
       "3               2.696304             11.015157 ...       0       0       1   \n",
       "4               4.536578             13.966849 ...       0       0       1   \n",
       "5               0.698217              5.728543 ...       0       0       0   \n",
       "\n",
       "   Tier 6  Tier 7  Tier 8  Untiered  LTVBucket  B  C  \n",
       "1       0       0       0         0        0.8  1  0  \n",
       "2       0       0       0         0        0.9  1  0  \n",
       "3       0       0       0         0        0.8  0  0  \n",
       "4       0       0       0         0        0.7  1  0  \n",
       "5       0       0       0         0        0.9  1  0  \n",
       "\n",
       "[5 rows x 24 columns]"
      ]
     },
     "execution_count": 55,
     "metadata": {},
     "output_type": "execute_result"
    }
   ],
   "source": [
    "df_final12.iloc[:,20:].head()"
   ]
  },
  {
   "cell_type": "code",
   "execution_count": 56,
   "metadata": {},
   "outputs": [
    {
     "name": "stdout",
     "output_type": "stream",
     "text": [
      "The base prediction probability for default within 12 months is 0.9660670966215017\n",
      "The base prediction probability for default within 24 months is 0.948730844328738\n"
     ]
    }
   ],
   "source": [
    "# What is our baseline model performance metric?\n",
    "numDefault12 = len(df_final12[df_final12['Status 12'] == 1])\n",
    "numDefault24 = len(df_final24[df_final24['Default24'] == 1])\n",
    "\n",
    "# If we classify all consumers to not default...\n",
    "base12 = (len(df_final12['Status 12']) - numDefault12)/len(df_final12['Status 12'])\n",
    "base24 = (len(df_final24['Default24']) - numDefault24)/len(df_final24['Default24'])\n",
    "\n",
    "print('The base prediction probability for default within 12 months is {}'.format(base12))\n",
    "print('The base prediction probability for default within 24 months is {}'.format(base24))"
   ]
  },
  {
   "cell_type": "markdown",
   "metadata": {},
   "source": [
    "## Regression"
   ]
  },
  {
   "cell_type": "markdown",
   "metadata": {},
   "source": [
    "#### Logistic Regression"
   ]
  },
  {
   "cell_type": "markdown",
   "metadata": {},
   "source": [
    "We've seen above that the following metrics may be related to an increase in default probability\n",
    "\n",
    "1- ACTION: Add loan rate to the model parameters\n",
    "\n",
    "2- ACTION: Add Original Loan Size to the model parameters\n",
    "\n",
    "3- ACTION: Add dummy data for Employment Status to the model parameters\n",
    "\n",
    "4- ACTION: Add Term Buckets to model parameters\n",
    "\n",
    "5- ACTION: Add APR as a continuous variable to the model\n",
    "\n",
    "6- ACTION: Add dummy data for Risk Tier to the model\n",
    "\n",
    "7- ACTION: Add LTV buckets as a numerical feature to the model parameters\n",
    "\n",
    "8- ACTION: Add the bucketed Monthly Instalment pct buckets to the model as a parameter\n",
    "\n",
    "9- ACTION: Add the parameters Loan Rate^2 and Original Term to a Linear Regression model with both mixed effect (synergy effect) and separately in order to model ExposureRatio"
   ]
  },
  {
   "cell_type": "code",
   "execution_count": 57,
   "metadata": {},
   "outputs": [
    {
     "data": {
      "text/plain": [
       "Index(['Year', 'LoanID', 'Original Loan Size', 'Origination Date',\n",
       "       'Original Term', 'APR', 'Loan Rate', 'LTV', 'Monthly Instalment',\n",
       "       'Type 1', 'Type 2', 'Borrower's Employment Status', 'Risk Tier',\n",
       "       'Exposure At Default', 'Further Recovery Expected Y/N',\n",
       "       'Recoveries @ 6m', 'Recoveries @ 9m', 'Recoveries @ 12m',\n",
       "       'Total Recovery', 'Prepayment Amount', 'Status 12', 'Status 24',\n",
       "       'Default24', 'OriginationDateFormatted', 'MonthlyInstalmentpct',\n",
       "       'InstalmentpctBucket', 'Value', 'LoanRate2', 'LoanRate2OriginalTerm',\n",
       "       'LoanRateOriginalTerm', 'Other', 'Self-employed', 'OriginalTermBucket',\n",
       "       'Tier 2', 'Tier 3', 'Tier 4', 'Tier 5', 'Tier 6', 'Tier 7', 'Tier 8',\n",
       "       'Untiered', 'LTVBucket', 'B', 'C'],\n",
       "      dtype='object')"
      ]
     },
     "execution_count": 57,
     "metadata": {},
     "output_type": "execute_result"
    }
   ],
   "source": [
    "df_final12.columns"
   ]
  },
  {
   "cell_type": "markdown",
   "metadata": {},
   "source": [
    "Select the parameters we're interested in"
   ]
  },
  {
   "cell_type": "code",
   "execution_count": 58,
   "metadata": {},
   "outputs": [],
   "source": [
    "X = df_final12.reset_index()[['Loan Rate','Original Loan Size','APR',\\\n",
    "                              'Tier 2','Tier 3','Tier 4','Tier 5', 'Tier 6', 'Tier 7', 'Tier 8','Untiered',\\\n",
    "                             'Self-employed','Other','OriginalTermBucket','LTVBucket','MonthlyInstalmentpct']]\n",
    "y = df_final12.reset_index()['Status 12']\n",
    "\n",
    "#X_train, X_test, y_train, y_test = train_test_split(X, y, test_size=0.3, random_state=42)"
   ]
  },
  {
   "cell_type": "markdown",
   "metadata": {},
   "source": [
    "Fit the Logistic Regression model"
   ]
  },
  {
   "cell_type": "code",
   "execution_count": 59,
   "metadata": {
    "scrolled": true
   },
   "outputs": [
    {
     "data": {
      "text/plain": [
       "LogisticRegression(C=1.0, class_weight=None, dual=False, fit_intercept=True,\n",
       "          intercept_scaling=1, max_iter=100, multi_class='ovr', n_jobs=1,\n",
       "          penalty='l2', random_state=None, solver='liblinear', tol=0.0001,\n",
       "          verbose=0, warm_start=False)"
      ]
     },
     "execution_count": 59,
     "metadata": {},
     "output_type": "execute_result"
    }
   ],
   "source": [
    "lr12 = LogisticRegression()\n",
    "lr12.fit(X,y)"
   ]
  },
  {
   "cell_type": "markdown",
   "metadata": {},
   "source": [
    "The coefficients of the model are"
   ]
  },
  {
   "cell_type": "code",
   "execution_count": 60,
   "metadata": {},
   "outputs": [
    {
     "name": "stdout",
     "output_type": "stream",
     "text": [
      "[[ 9.17115907e-02  3.22972981e-05  1.02360811e-01 -2.75324848e-01\n",
      "  -4.14412089e-01 -2.62427364e-01  1.68466536e-01  3.42045678e-02\n",
      "   3.28763903e-01  1.80046405e-01  5.90607346e-03  4.58641885e-02\n",
      "  -4.04154531e-02 -4.42518192e-02  2.39569818e-02 -4.08082349e-01]]\n",
      "[-0.28164634]\n"
     ]
    }
   ],
   "source": [
    "print(lr12.coef_)\n",
    "print(lr12.intercept_)\n",
    "\n",
    "def Predict(df,classifier):\n",
    "    return np.array(list(map(lambda x: 1 if x[0] > 0.97855 else False ,classifier.predict_proba(df))))"
   ]
  },
  {
   "cell_type": "markdown",
   "metadata": {},
   "source": [
    "Predictions"
   ]
  },
  {
   "cell_type": "code",
   "execution_count": 61,
   "metadata": {},
   "outputs": [],
   "source": [
    "predictions = lr12.predict(X)\n",
    "#predictions = Predict(X_test,lr)"
   ]
  },
  {
   "cell_type": "code",
   "execution_count": 62,
   "metadata": {},
   "outputs": [
    {
     "name": "stdout",
     "output_type": "stream",
     "text": [
      "             precision    recall  f1-score   support\n",
      "\n",
      "        0.0       0.97      1.00      0.98     32655\n",
      "        1.0       0.00      0.00      0.00      1147\n",
      "\n",
      "avg / total       0.93      0.97      0.95     33802\n",
      "\n",
      "[[32655     0]\n",
      " [ 1147     0]]\n",
      "0.9660670966215017\n"
     ]
    },
    {
     "name": "stderr",
     "output_type": "stream",
     "text": [
      "C:\\Users\\HVAD\\Anaconda3\\lib\\site-packages\\sklearn\\metrics\\classification.py:1135: UndefinedMetricWarning: Precision and F-score are ill-defined and being set to 0.0 in labels with no predicted samples.\n",
      "  'precision', 'predicted', average, warn_for)\n"
     ]
    }
   ],
   "source": [
    "print(classification_report(y,predictions))\n",
    "print(confusion_matrix(y,predictions))\n",
    "print(accuracy_score(y,predictions))"
   ]
  },
  {
   "cell_type": "markdown",
   "metadata": {},
   "source": [
    "At this point we can use the predictions from the fitted model to get the probability distribution of the test data set. We see that the probability distribution of the test dataset is left skewed. This probability distribution is for the probability of default and as expected, defaulting is a rare event."
   ]
  },
  {
   "cell_type": "code",
   "execution_count": 63,
   "metadata": {},
   "outputs": [
    {
     "name": "stdout",
     "output_type": "stream",
     "text": [
      "The mean of this distribution is 0.03694186308347415\n",
      "The median of this distribution is 0.034\n",
      "The IQR of this distribution is 0.019\n"
     ]
    },
    {
     "data": {
      "image/png": "[encoded data removed]",
      "text/plain": [
       "<matplotlib.figure.Figure at 0x15268788e10>"
      ]
     },
     "metadata": {},
     "output_type": "display_data"
    }
   ],
   "source": [
    "# Probability distribution of default for the dataset\n",
    "sns.distplot(lr12.predict_proba(X)[:,1],kde=False)\n",
    "print('The mean of this distribution is {}'.format(np.mean(lr12.predict_proba(X)[:,1])))\n",
    "\n",
    "a = list(map(lambda x: round(x,3),lr12.predict_proba(X)[:,1]))\n",
    "print('The median of this distribution is {}'.format(statistics.median(a)))\n",
    "\n",
    "print('The IQR of this distribution is {}'.format(stats.iqr(a,rng=(25,75))))"
   ]
  },
  {
   "cell_type": "markdown",
   "metadata": {},
   "source": [
    "We can then calculate the default probability of the consumers with the following profiles (person1 has in fact defaulted within the 12 month period but person2 hasn't). The main differences between these two consumers is the Tier and Loan Rate. Consumer1 is in Tier 5 whereas consumer2 is in Tier 3."
   ]
  },
  {
   "cell_type": "code",
   "execution_count": 64,
   "metadata": {},
   "outputs": [],
   "source": [
    "person1 = df_final12[['Loan Rate','Original Loan Size','APR',\\\n",
    "                              'Tier 2','Tier 3','Tier 4','Tier 5', 'Tier 6', 'Tier 7', 'Tier 8','Untiered',\\\n",
    "                             'Self-employed','Other','OriginalTermBucket','LTVBucket','MonthlyInstalmentpct']].iloc[42,0:]\n",
    "\n",
    "person2 = df_final12[['Loan Rate','Original Loan Size','APR',\\\n",
    "                              'Tier 2','Tier 3','Tier 4','Tier 5', 'Tier 6', 'Tier 7', 'Tier 8','Untiered',\\\n",
    "                             'Self-employed','Other','OriginalTermBucket','LTVBucket','MonthlyInstalmentpct']].iloc[38,0:]"
   ]
  },
  {
   "cell_type": "code",
   "execution_count": 65,
   "metadata": {},
   "outputs": [
    {
     "name": "stdout",
     "output_type": "stream",
     "text": [
      "Consumer1\n",
      " Loan Rate                  0.173690\n",
      "Original Loan Size      2441.177116\n",
      "APR                        0.241542\n",
      "Tier 2                     0.000000\n",
      "Tier 3                     0.000000\n",
      "Tier 4                     0.000000\n",
      "Tier 5                     1.000000\n",
      "Tier 6                     0.000000\n",
      "Tier 7                     0.000000\n",
      "Tier 8                     0.000000\n",
      "Untiered                   0.000000\n",
      "Self-employed              0.000000\n",
      "Other                      0.000000\n",
      "OriginalTermBucket        35.000000\n",
      "LTVBucket                  1.000000\n",
      "MonthlyInstalmentpct       3.586794\n",
      "Name: 43, dtype: float64 \n",
      "\n",
      " Consumer2\n",
      " Loan Rate                  0.076448\n",
      "Original Loan Size      2528.296369\n",
      "APR                        0.165869\n",
      "Tier 2                     0.000000\n",
      "Tier 3                     1.000000\n",
      "Tier 4                     0.000000\n",
      "Tier 5                     0.000000\n",
      "Tier 6                     0.000000\n",
      "Tier 7                     0.000000\n",
      "Tier 8                     0.000000\n",
      "Untiered                   0.000000\n",
      "Self-employed              0.000000\n",
      "Other                      0.000000\n",
      "OriginalTermBucket        45.000000\n",
      "LTVBucket                  0.900000\n",
      "MonthlyInstalmentpct       3.234589\n",
      "Name: 39, dtype: float64\n"
     ]
    }
   ],
   "source": [
    "print('Consumer1\\n',person1,'\\n\\n','Consumer2\\n',person2)\n"
   ]
  },
  {
   "cell_type": "markdown",
   "metadata": {},
   "source": [
    "The fitted logistic regression model has the following form:\n",
    "\n",
    "$$logOdds = \\ln (\\frac{P(D)}{1-P(D)}) = \\beta_0 + \\beta_1 X_1 + ... + \\beta_n X_n$$\n",
    "\n",
    "By taking the exponential of both sides of this equation we can retrieve the probability of default (D):\n",
    "\n",
    "$$P(D) = \\frac{\\exp(\\beta_0 + \\beta_1 X_1 + ... + \\beta_n X_n)}{1+\\exp(\\beta_0 + \\beta_1 X_1 + ... + \\beta_n X_n)}$$\n",
    "\n",
    "Programmatically, this is as follows:"
   ]
  },
  {
   "cell_type": "code",
   "execution_count": 66,
   "metadata": {},
   "outputs": [
    {
     "name": "stdout",
     "output_type": "stream",
     "text": [
      "Person1 has a default probability of 0.04823438301224962\n",
      "Person2 has a default probability of 0.020229806521631314\n"
     ]
    }
   ],
   "source": [
    "logprob = lr12.intercept_[0]\n",
    "for i in range(0,16):\n",
    "    logprob += lr12.coef_[0][i]*person1[i]\n",
    "print('Person1 has a default probability of {}'.format((math.e**logprob)/(1+math.e**logprob)))\n",
    "\n",
    "logprob = lr12.intercept_[0]\n",
    "for i in range(0,16):\n",
    "    logprob += lr12.coef_[0][i]*person2[i]\n",
    "print('Person2 has a default probability of {}'.format((math.e**logprob)/(1+math.e**logprob)))"
   ]
  },
  {
   "cell_type": "markdown",
   "metadata": {},
   "source": [
    "We can utilise the *predict_proba* method of the *Logistic Regression* object in order to get these values as well:"
   ]
  },
  {
   "cell_type": "code",
   "execution_count": 67,
   "metadata": {},
   "outputs": [],
   "source": [
    "person1 = person1.values.reshape(1,-1)\n",
    "person2 = person2.values.reshape(1,-1)"
   ]
  },
  {
   "cell_type": "code",
   "execution_count": 68,
   "metadata": {},
   "outputs": [
    {
     "name": "stdout",
     "output_type": "stream",
     "text": [
      "Default probability of Consumer1 = 0.04823438301224961\n",
      "Default probability of Consumer2 = 0.020229806521631307\n"
     ]
    }
   ],
   "source": [
    "print('Default probability of Consumer1 = {}'.format(lr12.predict_proba(person1)[0][1]))\n",
    "print('Default probability of Consumer2 = {}'.format(lr12.predict_proba(person2)[0][1]))"
   ]
  },
  {
   "cell_type": "markdown",
   "metadata": {},
   "source": [
    "We do the same for the probability of default within the first 24 months"
   ]
  },
  {
   "cell_type": "code",
   "execution_count": 69,
   "metadata": {},
   "outputs": [
    {
     "name": "stdout",
     "output_type": "stream",
     "text": [
      "[[ 9.17115907e-02  3.22972981e-05  1.02360811e-01 -2.75324848e-01\n",
      "  -4.14412089e-01 -2.62427364e-01  1.68466536e-01  3.42045678e-02\n",
      "   3.28763903e-01  1.80046405e-01  5.90607346e-03  4.58641885e-02\n",
      "  -4.04154531e-02 -4.42518192e-02  2.39569818e-02 -4.08082349e-01]]\n",
      "[-0.28164634]\n",
      "             precision    recall  f1-score   support\n",
      "\n",
      "        0.0       0.95      1.00      0.97     32069\n",
      "        1.0       0.00      0.00      0.00      1733\n",
      "\n",
      "avg / total       0.90      0.95      0.92     33802\n",
      "\n",
      "[[32069     0]\n",
      " [ 1733     0]]\n",
      "0.948730844328738\n",
      "The mean of this distribution is 0.054449257077137304\n"
     ]
    },
    {
     "name": "stderr",
     "output_type": "stream",
     "text": [
      "C:\\Users\\HVAD\\Anaconda3\\lib\\site-packages\\sklearn\\metrics\\classification.py:1135: UndefinedMetricWarning: Precision and F-score are ill-defined and being set to 0.0 in labels with no predicted samples.\n",
      "  'precision', 'predicted', average, warn_for)\n"
     ]
    },
    {
     "name": "stdout",
     "output_type": "stream",
     "text": [
      "The median of this distribution is 0.053\n",
      "The IQR of this distribution is 0.021000000000000005\n",
      "Default probability of Consumer1 = 0.06246069916346353\n",
      "Default probability of Consumer2 = 0.0448581386857925\n"
     ]
    },
    {
     "data": {
      "image/png": "[encoded data removed]",
      "text/plain": [
       "<matplotlib.figure.Figure at 0x15268764240>"
      ]
     },
     "metadata": {},
     "output_type": "display_data"
    }
   ],
   "source": [
    "y = df_final12.reset_index()['Default24']\n",
    "lr24 = LogisticRegression()\n",
    "lr24.fit(X,y)\n",
    "print(lr12.coef_)\n",
    "print(lr12.intercept_)\n",
    "predictions = lr24.predict(X)\n",
    "print(classification_report(y,predictions))\n",
    "print(confusion_matrix(y,predictions))\n",
    "print(accuracy_score(y,predictions))\n",
    "\n",
    "# Probability distribution of default for the dataset\n",
    "sns.distplot(lr24.predict_proba(X)[:,1],kde=False)\n",
    "print('The mean of this distribution is {}'.format(np.mean(lr24.predict_proba(X)[:,1])))\n",
    "\n",
    "a = list(map(lambda x: round(x,3),lr24.predict_proba(X)[:,1]))\n",
    "print('The median of this distribution is {}'.format(statistics.median(a)))\n",
    "\n",
    "print('The IQR of this distribution is {}'.format(stats.iqr(a,rng=(25,75))))\n",
    "\n",
    "print('Default probability of Consumer1 = {}'.format(lr24.predict_proba(person1)[0][1]))\n",
    "print('Default probability of Consumer2 = {}'.format(lr24.predict_proba(person2)[0][1]))"
   ]
  },
  {
   "cell_type": "markdown",
   "metadata": {},
   "source": [
    "These probabilities puts Consumer1 in to the riskier part of the distribution (i.e. a riskier consumer within the population) and Consumer2 into the safer consumer (i.e. less then median of the distribution). As expected, the probability of default within the first 24 months is greater than that for the first 12 months.\n",
    "\n",
    "This is how we interpret the above probabilities given the definitions of the transformed columns:\n",
    "\n",
    "$$D_{24} \\cup D_{12} = D_{24}$$\n",
    "\n",
    "$$D_{24} \\cap D_{12} = D_{12}$$\n",
    "\n",
    "$$D_{24} \\cap D_{12}^c = D_{24}$$\n",
    "\n",
    "$$D_{24} = \\{D_{24} \\cap D_{12}^c\\} \\cup \\{ D_{24} \\cap D_{12} \\}$$\n",
    "\n",
    "$\\{D_{24} \\cap D_{12}^c\\}$ and $ \\{ D_{24} \\cap D_{12} \\}$ partition the universal set and since $D_{12} \\subseteq D_{24}$, $ \\{D_{24} \\cap D_{12}^c\\} = \\{D_{24} / D_{12}\\} $ and $ \\{ D_{24} \\cap D_{12} \\} = D_{12}$\n",
    "\n",
    "So,\n",
    "\n",
    "$$P(D_{24}) = P(D_{24}/D_{12}) + P(D_{12}) \\implies P(D_{24}/D_{12}) = P(D_{24}) - P(D_{12})$$\n",
    "\n",
    "We will need this result when we want to calculate the value (how much we have salvaged) of a consumer loan based on how much recovery a consumer as achieved given that they have defaulted.\n",
    "\n",
    "Now let's model the *Value* from all those that have defaulted."
   ]
  },
  {
   "cell_type": "markdown",
   "metadata": {},
   "source": [
    "#### Linear Regression"
   ]
  },
  {
   "cell_type": "code",
   "execution_count": 75,
   "metadata": {},
   "outputs": [],
   "source": [
    "temp = df_final12[pd.isna(df_final12['Exposure At Default']).apply(lambda x: not x)].\\\n",
    "reset_index()[['Loan Rate','LoanRate2','Original Term','LoanRate2OriginalTerm','LoanRateOriginalTerm','Value','Tier 2','Tier 3',\\\n",
    "               'Tier 4','Tier 5', 'Tier 6', 'Tier 7', 'Tier 8','Untiered','OriginalTermBucket','Total Recovery']]\n",
    "#temp = temp[(temp['Original Term'] <= 71)]\n",
    "\n",
    "X = temp[['Loan Rate','LoanRate2','LoanRateOriginalTerm','LoanRate2OriginalTerm']]\n",
    "y = temp['Value']\n",
    "#X_train, X_test, y_train, y_test = train_test_split(X, y, test_size=0.3, random_state=42)"
   ]
  },
  {
   "cell_type": "code",
   "execution_count": 76,
   "metadata": {},
   "outputs": [
    {
     "data": {
      "text/plain": [
       "LinearRegression(copy_X=True, fit_intercept=True, n_jobs=1, normalize=False)"
      ]
     },
     "execution_count": 76,
     "metadata": {},
     "output_type": "execute_result"
    }
   ],
   "source": [
    "lm = LinearRegression()\n",
    "lm.fit(X,y)"
   ]
  },
  {
   "cell_type": "code",
   "execution_count": 77,
   "metadata": {},
   "outputs": [
    {
     "name": "stdout",
     "output_type": "stream",
     "text": [
      "Value = 6506.539994099194 + -65482.482566579216 LR + 155813.8648940269 LR^2 + 810.2869754252193 LR * OT + -2292.073807838436 LR^2 * OT\n"
     ]
    }
   ],
   "source": [
    "print('Value = {} + {} LR + {} LR^2 + {} LR * OT + {} LR^2 * OT'.format(lm.intercept_,lm.coef_[0],lm.coef_[1],lm.coef_[2],lm.coef_[3]))"
   ]
  },
  {
   "cell_type": "code",
   "execution_count": 78,
   "metadata": {},
   "outputs": [],
   "source": [
    "predictions = lm.predict(X)"
   ]
  },
  {
   "cell_type": "code",
   "execution_count": 79,
   "metadata": {},
   "outputs": [
    {
     "data": {
      "text/plain": [
       "<matplotlib.collections.PathCollection at 0x15268b02550>"
      ]
     },
     "execution_count": 79,
     "metadata": {},
     "output_type": "execute_result"
    },
    {
     "data": {
      "image/png": "[encoded data removed]",
      "text/plain": [
       "<matplotlib.figure.Figure at 0x152695d6240>"
      ]
     },
     "metadata": {},
     "output_type": "display_data"
    }
   ],
   "source": [
    "plt.scatter(x=predictions,y=y)"
   ]
  },
  {
   "cell_type": "code",
   "execution_count": 80,
   "metadata": {},
   "outputs": [
    {
     "data": {
      "text/plain": [
       "<matplotlib.collections.PathCollection at 0x1526904d710>"
      ]
     },
     "execution_count": 80,
     "metadata": {},
     "output_type": "execute_result"
    },
    {
     "data": {
      "image/png": "[encoded data removed]",
      "text/plain": [
       "<matplotlib.figure.Figure at 0x15268b16438>"
      ]
     },
     "metadata": {},
     "output_type": "display_data"
    }
   ],
   "source": [
    "residuals = y - predictions\n",
    "#sns.distplot(residuals)\n",
    "plt.scatter(np.arange(0,len(residuals)),residuals)"
   ]
  },
  {
   "cell_type": "code",
   "execution_count": 82,
   "metadata": {},
   "outputs": [
    {
     "name": "stdout",
     "output_type": "stream",
     "text": [
      "                            OLS Regression Results                            \n",
      "==============================================================================\n",
      "Dep. Variable:                  Value   R-squared:                       0.055\n",
      "Model:                            OLS   Adj. R-squared:                  0.053\n",
      "Method:                 Least Squares   F-statistic:                     39.48\n",
      "Date:                Sat, 13 Oct 2018   Prob (F-statistic):           3.48e-32\n",
      "Time:                        12:11:13   Log-Likelihood:                -26661.\n",
      "No. Observations:                2733   AIC:                         5.333e+04\n",
      "Df Residuals:                    2728   BIC:                         5.336e+04\n",
      "Df Model:                           4                                         \n",
      "Covariance Type:            nonrobust                                         \n",
      "=========================================================================================\n",
      "                            coef    std err          t      P>|t|      [0.025      0.975]\n",
      "-----------------------------------------------------------------------------------------\n",
      "const                  6506.5400    640.008     10.166      0.000    5251.591    7761.489\n",
      "Loan Rate             -6.548e+04   8318.508     -7.872      0.000   -8.18e+04   -4.92e+04\n",
      "LoanRate2              1.558e+05   2.65e+04      5.886      0.000    1.04e+05    2.08e+05\n",
      "LoanRateOriginalTerm    810.2870    128.105      6.325      0.000     559.095    1061.479\n",
      "LoanRate2OriginalTerm -2292.0738    485.950     -4.717      0.000   -3244.941   -1339.206\n",
      "==============================================================================\n",
      "Omnibus:                     1183.703   Durbin-Watson:                   1.999\n",
      "Prob(Omnibus):                  0.000   Jarque-Bera (JB):             7557.133\n",
      "Skew:                           1.945   Prob(JB):                         0.00\n",
      "Kurtosis:                      10.158   Cond. No.                     4.12e+03\n",
      "==============================================================================\n",
      "\n",
      "Warnings:\n",
      "[1] Standard Errors assume that the covariance matrix of the errors is correctly specified.\n",
      "[2] The condition number is large, 4.12e+03. This might indicate that there are\n",
      "strong multicollinearity or other numerical problems.\n"
     ]
    }
   ],
   "source": [
    "temp = df_final12[pd.isna(df_final12['Exposure At Default']).apply(lambda x: not x)].\\\n",
    "reset_index()[['Loan Rate','LoanRate2','Original Term','LoanRate2OriginalTerm','LoanRateOriginalTerm','Value','Tier 2','Tier 3',\\\n",
    "               'Tier 4','Tier 5', 'Tier 6', 'Tier 7', 'Tier 8','Untiered','OriginalTermBucket','Total Recovery']]\n",
    "#temp = temp[temp['Original Term'] <= 71]\n",
    "\n",
    "X = temp[['Loan Rate','LoanRate2','LoanRateOriginalTerm','LoanRate2OriginalTerm']]\n",
    "y = temp['Value']\n",
    "\n",
    "\n",
    "# X['logAPR'] = X['APR'].apply(math.log)\n",
    "# X['logAPROT'] = X['logAPR']*X['Original Term']\n",
    "# X['APR3'] = X['APR']**3\n",
    "# X['APR3OT'] = X['APR3']**X['Original Term']\n",
    "\n",
    "# # Normalise\n",
    "# X['APR'] = X['APR']/max(X['APR'])\n",
    "# X['APR2'] = X['APR2']/max(X['APR2'])\n",
    "# X['Original Term'] = X['Original Term']/max(X['Original Term'])\n",
    "# X['APR2OriginalTerm'] = X['APR2OriginalTerm']/max(X['APR2OriginalTerm'])\n",
    "# X['APR3'] = X['APR3']/max(X['APR3'])\n",
    "# X['APR3OT'] = X['APR3OT']/max(X['APR3OT'])\n",
    "\n",
    "\n",
    "X_new = sm.add_constant(X)\n",
    "est = sm.OLS(y, X_new)\n",
    "est2 = est.fit()\n",
    "print(est2.summary())"
   ]
  },
  {
   "cell_type": "markdown",
   "metadata": {},
   "source": [
    "Here we have obtained the following equation relating Loan Rate (LR), Original Term (OT), Original Loan Size (OS) and Total Recovery (TR):\n",
    "\n",
    "$$\\text{Value} = OS \\times TR = 6506.54 + (810.287 \\times OT - 65480) \\times LR - (155900 - 2292 \\times OT) \\times LR^2$$\n",
    "\n",
    "It should be noted that for values of OT within the range $[0,68]$, this gives a concave quadratic equation in LR. "
   ]
  },
  {
   "cell_type": "markdown",
   "metadata": {},
   "source": [
    "## Linear Discriminant Analysis"
   ]
  },
  {
   "cell_type": "code",
   "execution_count": 710,
   "metadata": {},
   "outputs": [],
   "source": [
    "from sklearn.discriminant_analysis import LinearDiscriminantAnalysis"
   ]
  },
  {
   "cell_type": "code",
   "execution_count": 711,
   "metadata": {},
   "outputs": [
    {
     "data": {
      "text/plain": [
       "LinearDiscriminantAnalysis(n_components=None, priors=None, shrinkage=None,\n",
       "              solver='svd', store_covariance=False, tol=0.0001)"
      ]
     },
     "execution_count": 711,
     "metadata": {},
     "output_type": "execute_result"
    }
   ],
   "source": [
    "lda = LinearDiscriminantAnalysis()\n",
    "lda.fit(X_train,y_train)"
   ]
  },
  {
   "cell_type": "code",
   "execution_count": 716,
   "metadata": {},
   "outputs": [],
   "source": [
    "predictions = lda.predict(X_test)"
   ]
  },
  {
   "cell_type": "code",
   "execution_count": 717,
   "metadata": {},
   "outputs": [
    {
     "name": "stdout",
     "output_type": "stream",
     "text": [
      "             precision    recall  f1-score   support\n",
      "\n",
      "        0.0       0.97      1.00      0.98      9810\n",
      "        1.0       0.00      0.00      0.00       331\n",
      "\n",
      "avg / total       0.94      0.97      0.95     10141\n",
      "\n",
      "[[9801    9]\n",
      " [ 331    0]]\n",
      "0.9664727344443349\n"
     ]
    }
   ],
   "source": [
    "print(classification_report(y_test,predictions))\n",
    "print(confusion_matrix(y_test,predictions))\n",
    "print(accuracy_score(y_test,predictions))"
   ]
  },
  {
   "cell_type": "code",
   "execution_count": 718,
   "metadata": {},
   "outputs": [
    {
     "data": {
      "text/plain": [
       "array([[0.98472086, 0.01527914]])"
      ]
     },
     "execution_count": 718,
     "metadata": {},
     "output_type": "execute_result"
    }
   ],
   "source": [
    "lda.predict_proba(person)"
   ]
  },
  {
   "cell_type": "markdown",
   "metadata": {},
   "source": [
    "## General"
   ]
  },
  {
   "cell_type": "code",
   "execution_count": 1407,
   "metadata": {},
   "outputs": [],
   "source": [
    "import sklearn as skl\n",
    "from sklearn import gaussian_process\n",
    "from xgboost import XGBClassifier\n",
    "from sklearn.ensemble import ExtraTreesClassifier\n",
    "from sklearn.neighbors import KNeighborsClassifier\n",
    "from sklearn.svm import LinearSVC\n",
    "from sklearn.tree import DecisionTreeClassifier\n",
    "from sklearn.ensemble import RandomForestClassifier"
   ]
  },
  {
   "cell_type": "code",
   "execution_count": 1408,
   "metadata": {},
   "outputs": [],
   "source": [
    "X = df_final12[['Other','Self-employed','Original Loan Size']]\n",
    "y = df_final12['Status 12']\n",
    "\n",
    "X_train, X_test, y_train, y_test = train_test_split(X, y, test_size=0.3, random_state=42)"
   ]
  },
  {
   "cell_type": "code",
   "execution_count": 1409,
   "metadata": {},
   "outputs": [],
   "source": [
    "ML = [\n",
    "    skl.ensemble.ExtraTreesClassifier(),\n",
    "    skl.ensemble.BaggingClassifier(),\n",
    "    LinearSVC()\n",
    "    #gaussian_process.GaussianProcessClassifier(),\n",
    "    #XGBClassifier()\n",
    "]"
   ]
  },
  {
   "cell_type": "code",
   "execution_count": 1410,
   "metadata": {},
   "outputs": [
    {
     "data": {
      "text/plain": [
       "LinearSVC(C=1.0, class_weight=None, dual=True, fit_intercept=True,\n",
       "     intercept_scaling=1, loss='squared_hinge', max_iter=1000,\n",
       "     multi_class='ovr', penalty='l2', random_state=None, tol=0.0001,\n",
       "     verbose=0)"
      ]
     },
     "execution_count": 1410,
     "metadata": {},
     "output_type": "execute_result"
    }
   ],
   "source": [
    "ML[2].fit(X_train,y_train)"
   ]
  },
  {
   "cell_type": "code",
   "execution_count": 1411,
   "metadata": {},
   "outputs": [],
   "source": [
    "predictions = ML[2].predict(X_test)"
   ]
  },
  {
   "cell_type": "code",
   "execution_count": 1412,
   "metadata": {},
   "outputs": [
    {
     "name": "stdout",
     "output_type": "stream",
     "text": [
      "             precision    recall  f1-score   support\n",
      "\n",
      "        0.0       0.97      1.00      0.98      9810\n",
      "        1.0       0.00      0.00      0.00       331\n",
      "\n",
      "avg / total       0.94      0.97      0.95     10141\n",
      "\n",
      "[[9810    0]\n",
      " [ 331    0]]\n",
      "0.9673602208855142\n"
     ]
    },
    {
     "name": "stderr",
     "output_type": "stream",
     "text": [
      "C:\\Users\\HVAD\\Anaconda3\\lib\\site-packages\\sklearn\\metrics\\classification.py:1135: UndefinedMetricWarning: Precision and F-score are ill-defined and being set to 0.0 in labels with no predicted samples.\n",
      "  'precision', 'predicted', average, warn_for)\n"
     ]
    }
   ],
   "source": [
    "print(classification_report(y_test,predictions))\n",
    "print(confusion_matrix(y_test,predictions))\n",
    "print(accuracy_score(y_test,predictions))"
   ]
  },
  {
   "cell_type": "markdown",
   "metadata": {},
   "source": [
    "## Going Further\n",
    "\n",
    "We might like to know how risky it is in a monetary sense to embark on a loan arrangement with a counterparty which has a certain default probability. In order to come to a conclusion, we can factor in the amount that is at risk (Original Loan Size := OLS), the default risk ($P(D_{12})$), the Original Term (OT), the Loan rate (LR) offered (though this should be a function of the risk itself but here we take it as a given) and the Total Recovery percentage (TR). \n",
    "\n",
    "i.e. we want to calculate the Value given that this person defaults multiplied by the probability of this person defaulting. This is Expected Value (EV):\n",
    "\n",
    "$$EV = P(D_{12}|\\theta,OLS,OT,LR)*(Value | D_{12}) + P(D_{12}^c | \\theta,OLS,OT,LR) * (Value | D_{12}^c)$$\n",
    "$$ = P(D_{12}|\\theta,OLS,OT,LR)*(Value | D_{12}) + (1 - P(D_{12} | \\theta,OLS,OT,LR)) * (OLS*LR)$$\n",
    "\n",
    "In the above equation, $P(D_{12})$ is the default probability within 12 months, $P(D_{12}^c)=1-P(D_{12})$, and $\\theta$ represents all the other variables we have used in our model to predict default probability. \n",
    "\n",
    "Even though OT, LR and OLS are expected to be related variables, below we can fix a value for OT and OLS and see what we can expect the shape of the EV curve to look like:"
   ]
  },
  {
   "cell_type": "code",
   "execution_count": 441,
   "metadata": {
    "scrolled": true
   },
   "outputs": [
    {
     "data": {
      "text/plain": [
       "<matplotlib.collections.PathCollection at 0x1dc0bbd1860>"
      ]
     },
     "execution_count": 441,
     "metadata": {},
     "output_type": "execute_result"
    },
    {
     "data": {
      "image/png": "[encoded data removed]",
      "text/plain": [
       "<matplotlib.figure.Figure at 0x1dc0bb13550>"
      ]
     },
     "metadata": {},
     "output_type": "display_data"
    }
   ],
   "source": [
    "OT = 50\n",
    "OLS = 5000\n",
    "\n",
    "# Let LR range from 0 to 1000\n",
    "LR = np.arange(0,1000)*(1/1000)\n",
    "\n",
    "# We use our linear regression fitted values\n",
    "Value = 6506.54 + (810.287 * OT - 65500) * LR - (156000 - 2292 * OT) * LR**2\n",
    "\n",
    "# This is the default probability within 12 months (i.e. an exponential function)\n",
    "a = lr12.intercept_ + lr12.coef_[0][0] * LR + lr12.coef_[0][13] * OT\n",
    "ProbDefault12 = np.array(list(map(lambda x: math.exp(x)/(1+math.exp(x)),a)))\n",
    "\n",
    "# The total value is then the an function of default and the value given default\n",
    "totValue = (1-ProbDefault12)*OLS*LR + ProbDefault12*(Value - OLS*LR)\n",
    "\n",
    "plt.scatter(x=LR,y=totValue)"
   ]
  },
  {
   "cell_type": "markdown",
   "metadata": {},
   "source": [
    "In this case, we may offer a loan rate of around 0.35 for this person."
   ]
  },
  {
   "cell_type": "markdown",
   "metadata": {},
   "source": [
    "Using the models we have derived, we can come up with an offer for Person1 and Person2:"
   ]
  },
  {
   "cell_type": "code",
   "execution_count": 176,
   "metadata": {},
   "outputs": [
    {
     "name": "stdout",
     "output_type": "stream",
     "text": [
      "Consumer1\n",
      " Loan Rate                  0.173690\n",
      "Original Loan Size      2441.177116\n",
      "APR                        0.241542\n",
      "Tier 2                     0.000000\n",
      "Tier 3                     0.000000\n",
      "Tier 4                     0.000000\n",
      "Tier 5                     1.000000\n",
      "Tier 6                     0.000000\n",
      "Tier 7                     0.000000\n",
      "Tier 8                     0.000000\n",
      "Untiered                   0.000000\n",
      "Self-employed              0.000000\n",
      "Other                      0.000000\n",
      "OriginalTermBucket        35.000000\n",
      "LTVBucket                  1.000000\n",
      "MonthlyInstalmentpct       3.586794\n",
      "Name: 43, dtype: float64 \n",
      "\n",
      " Consumer2\n",
      " Loan Rate                  0.076448\n",
      "Original Loan Size      2528.296369\n",
      "APR                        0.165869\n",
      "Tier 2                     0.000000\n",
      "Tier 3                     1.000000\n",
      "Tier 4                     0.000000\n",
      "Tier 5                     0.000000\n",
      "Tier 6                     0.000000\n",
      "Tier 7                     0.000000\n",
      "Tier 8                     0.000000\n",
      "Untiered                   0.000000\n",
      "Self-employed              0.000000\n",
      "Other                      0.000000\n",
      "OriginalTermBucket        45.000000\n",
      "LTVBucket                  0.900000\n",
      "MonthlyInstalmentpct       3.234589\n",
      "Name: 39, dtype: float64\n"
     ]
    }
   ],
   "source": [
    "person1 = df_final12[['Loan Rate','Original Loan Size','APR',\\\n",
    "                              'Tier 2','Tier 3','Tier 4','Tier 5', 'Tier 6', 'Tier 7', 'Tier 8','Untiered',\\\n",
    "                             'Self-employed','Other','OriginalTermBucket','LTVBucket','MonthlyInstalmentpct']].iloc[42,0:]\n",
    "\n",
    "person2 = df_final12[['Loan Rate','Original Loan Size','APR',\\\n",
    "                              'Tier 2','Tier 3','Tier 4','Tier 5', 'Tier 6', 'Tier 7', 'Tier 8','Untiered',\\\n",
    "                             'Self-employed','Other','OriginalTermBucket','LTVBucket','MonthlyInstalmentpct']].iloc[38,0:]\n",
    "\n",
    "print('Consumer1\\n',person1,'\\n\\n','Consumer2\\n',person2)"
   ]
  },
  {
   "cell_type": "code",
   "execution_count": 274,
   "metadata": {},
   "outputs": [
    {
     "data": {
      "text/plain": [
       "<matplotlib.collections.PathCollection at 0x1dc676de6d8>"
      ]
     },
     "execution_count": 274,
     "metadata": {},
     "output_type": "execute_result"
    },
    {
     "data": {
      "image/png": "[encoded data removed]",
      "text/plain": [
       "<matplotlib.figure.Figure at 0x1dc6714ab38>"
      ]
     },
     "metadata": {},
     "output_type": "display_data"
    }
   ],
   "source": [
    "# Let LR range from 0 to 1000\n",
    "LR = np.arange(0,1000)*(1/1000)\n",
    "\n",
    "DummyConsumers = []\n",
    "\n",
    "for i in range(0,len(LR)):\n",
    "    persontemp = []\n",
    "    persontemp.append(LR[i])\n",
    "    for j in range(1,16):\n",
    "        persontemp.append(person1[j])\n",
    "    DummyConsumers.append(persontemp)\n",
    "\n",
    "# Probability of default within 12 months of person1 as a function of loan rate\n",
    "prob1 = lr12.predict_proba(DummyConsumers)[:,1]\n",
    "\n",
    "OLS = person1['Original Loan Size']\n",
    "OT = person1['OriginalTermBucket']\n",
    "\n",
    "# The total value is then the an function of default and the value given default\n",
    "totValue = (1-prob1)*OLS*LR + prob1*(Value - OLS*LR)\n",
    "\n",
    "plt.scatter(x=LR,y=totValue)"
   ]
  },
  {
   "cell_type": "markdown",
   "metadata": {},
   "source": [
    "The best Loan Rate for person1 is therefore around 0.3. However, this consumer was given a Loan Rate of 0.17"
   ]
  },
  {
   "cell_type": "code",
   "execution_count": 275,
   "metadata": {},
   "outputs": [
    {
     "data": {
      "text/plain": [
       "<matplotlib.collections.PathCollection at 0x1dc67dac3c8>"
      ]
     },
     "execution_count": 275,
     "metadata": {},
     "output_type": "execute_result"
    },
    {
     "data": {
      "image/png": "[encoded data removed]",
      "text/plain": [
       "<matplotlib.figure.Figure at 0x1dc67035ef0>"
      ]
     },
     "metadata": {},
     "output_type": "display_data"
    }
   ],
   "source": [
    "# Let LR range from 0 to 1000\n",
    "LR = np.arange(0,1000)*(1/1000)\n",
    "\n",
    "DummyConsumers = []\n",
    "\n",
    "for i in range(0,len(LR)):\n",
    "    persontemp = []\n",
    "    persontemp.append(LR[i])\n",
    "    for j in range(1,16):\n",
    "        persontemp.append(person2[j])\n",
    "    DummyConsumers.append(persontemp)\n",
    "\n",
    "# Probability of default within 12 months of person1 as a function of loan rate\n",
    "prob1 = lr12.predict_proba(DummyConsumers)[:,1]\n",
    "\n",
    "OLS = person1['Original Loan Size']\n",
    "OT = person1['OriginalTermBucket']\n",
    "\n",
    "# The total value is then the an function of default and the value given default\n",
    "totValue = (1-prob1)*OLS*LR + prob1*(Value - OLS*LR)\n",
    "\n",
    "plt.scatter(x=LR,y=totValue)"
   ]
  },
  {
   "cell_type": "markdown",
   "metadata": {},
   "source": [
    "As seen before, person2 is much less risky, as a result we are able to give a much larger Loan Rate (around 0.9) in order to maximise our returns. \n",
    "\n",
    "It must be said that less risky individuals are offered lower Loan Rates in general contrary to what we have just seen. The reason is that there exists a hypothetical function of customer satisfaction and industry competition. In the above example with person2, we cannot entice this consumer with a Loan Rate of 0.9, since the market can offer a better rate and still make a return. So in order to make use of the above model, we would need a penalty function dependent on customer satisfaction and a penalty function for administration work. This would also explain why the consumers were offered a lower rate than the optimum for the lender.\n",
    "\n",
    "Once this has been incorporated in the form of customer churn, it may be possible to contact the customer to offer a better rate if this would off-set the penalty due to customer churn, i.e. we are offering a better rate in order to reduce the probability of losing this customer and therefore losing the return we would have made if we offered a slightly lower Loan Rate. "
   ]
  },
  {
   "cell_type": "code",
   "execution_count": null,
   "metadata": {},
   "outputs": [],
   "source": []
  },
  {
   "cell_type": "code",
   "execution_count": 351,
   "metadata": {},
   "outputs": [],
   "source": [
    "from sklearn.neighbors import KNeighborsClassifier,KNeighborsRegressor\n",
    "from sklearn import naive_bayes\n",
    "from sklearn.ensemble import RandomForestClassifier"
   ]
  },
  {
   "cell_type": "code",
   "execution_count": 429,
   "metadata": {},
   "outputs": [
    {
     "name": "stdout",
     "output_type": "stream",
     "text": [
      "             precision    recall  f1-score   support\n",
      "\n",
      "        0.0       0.97      1.00      0.98     10784\n",
      "        1.0       0.00      0.00      0.00       371\n",
      "\n",
      "avg / total       0.93      0.97      0.95     11155\n",
      "\n",
      "[[10784     0]\n",
      " [  371     0]]\n",
      "0.9667413715822502\n"
     ]
    },
    {
     "name": "stderr",
     "output_type": "stream",
     "text": [
      "C:\\Users\\HVAD\\Anaconda3\\lib\\site-packages\\sklearn\\metrics\\classification.py:1135: UndefinedMetricWarning: Precision and F-score are ill-defined and being set to 0.0 in labels with no predicted samples.\n",
      "  'precision', 'predicted', average, warn_for)\n"
     ]
    }
   ],
   "source": [
    "tempdf = df_final12\n",
    "\n",
    "X = df_final12.reset_index()[['Loan Rate','Original Loan Size','APR',\\\n",
    "                              'Tier 2','Tier 3','Tier 4','Tier 5', 'Tier 6', 'Tier 7', 'Tier 8','Untiered',\\\n",
    "                             'Self-employed','Other','OriginalTermBucket','LTVBucket','MonthlyInstalmentpct']]\n",
    "y = df_final12.reset_index()['Status 12']\n",
    "\n",
    "X_train, X_test, y_train, y_test = train_test_split(X, y, test_size=0.33, random_state=42)\n",
    "\n",
    "kn = RandomForestClassifier(n_estimators=200)\n",
    "kn.fit(X_train,y_train)\n",
    "predictions = kn.predict(X_test)\n",
    "\n",
    "print(classification_report(y_test,predictions))\n",
    "print(confusion_matrix(y_test,predictions))\n",
    "print(accuracy_score(y_test,predictions))"
   ]
  },
  {
   "cell_type": "code",
   "execution_count": 440,
   "metadata": {},
   "outputs": [
    {
     "name": "stderr",
     "output_type": "stream",
     "text": [
      "C:\\Users\\HVAD\\Anaconda3\\lib\\site-packages\\ipykernel_launcher.py:1: FutureWarning: reshape is deprecated and will raise in a subsequent release. Please use .values.reshape(...) instead\n",
      "  \"\"\"Entry point for launching an IPython kernel.\n"
     ]
    },
    {
     "data": {
      "text/plain": [
       "array([[1., 0.]])"
      ]
     },
     "execution_count": 440,
     "metadata": {},
     "output_type": "execute_result"
    }
   ],
   "source": [
    "kn.predict_proba(person2.reshape(1,-1))"
   ]
  },
  {
   "cell_type": "code",
   "execution_count": 436,
   "metadata": {},
   "outputs": [
    {
     "data": {
      "text/plain": [
       "<matplotlib.axes._subplots.AxesSubplot at 0x1dc0bb0d0b8>"
      ]
     },
     "execution_count": 436,
     "metadata": {},
     "output_type": "execute_result"
    },
    {
     "data": {
      "image/png": "[encoded data removed]",
      "text/plain": [
       "<matplotlib.figure.Figure at 0x1dc0bb0dd30>"
      ]
     },
     "metadata": {},
     "output_type": "display_data"
    }
   ],
   "source": [
    "sns.distplot(kn.predict_proba(X_test)[:,1])"
   ]
  },
  {
   "cell_type": "code",
   "execution_count": 349,
   "metadata": {},
   "outputs": [
    {
     "name": "stdout",
     "output_type": "stream",
     "text": [
      "             precision    recall  f1-score   support\n",
      "\n",
      "        0.0       0.95      1.00      0.97     10577\n",
      "        1.0       0.00      0.00      0.00       578\n",
      "\n",
      "avg / total       0.90      0.95      0.92     11155\n",
      "\n",
      "[[10577     0]\n",
      " [  578     0]]\n",
      "0.9481846705513223\n"
     ]
    },
    {
     "name": "stderr",
     "output_type": "stream",
     "text": [
      "C:\\Users\\HVAD\\Anaconda3\\lib\\site-packages\\sklearn\\metrics\\classification.py:1135: UndefinedMetricWarning: Precision and F-score are ill-defined and being set to 0.0 in labels with no predicted samples.\n",
      "  'precision', 'predicted', average, warn_for)\n"
     ]
    }
   ],
   "source": [
    "print(classification_report(y_test,predictions))\n",
    "print(confusion_matrix(y_test,predictions))\n",
    "print(accuracy_score(y_test,predictions))"
   ]
  },
  {
   "cell_type": "code",
   "execution_count": null,
   "metadata": {},
   "outputs": [],
   "source": []
  }
 ],
 "metadata": {
  "kernelspec": {
   "display_name": "Python 3",
   "language": "python",
   "name": "python3"
  },
  "language_info": {
   "codemirror_mode": {
    "name": "ipython",
    "version": 3
   },
   "file_extension": ".py",
   "mimetype": "text/x-python",
   "name": "python",
   "nbconvert_exporter": "python",
   "pygments_lexer": "ipython3",
   "version": "3.6.4"
  }
 },
 "nbformat": 4,
 "nbformat_minor": 2
}
