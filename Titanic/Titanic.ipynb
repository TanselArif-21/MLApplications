{
 "cells": [
  {
   "cell_type": "markdown",
   "metadata": {},
   "source": [
    "# Titanic Data set\n",
    "\n",
    "The titanic dataset has data on the passengers of the Titanic catastrophe and whether they had survived the event or not. We have 2 sets of data: a training set and a testing set.\n",
    "\n",
    "These are the columns of the dataset:\n",
    "\n",
    "- PassengerId: Passenger ID\n",
    "- Pclass: Passenger Class\n",
    "- Name: Name of passenger\n",
    "- Sex: Sex of passenger\n",
    "- Age: Age of passenger\n",
    "- SibSp: Number of Siblings/Spouses of the passenger aboard\n",
    "- Parch Number: of Parents/Children of the passenger aboard\n",
    "- Ticket: Ticket Number\n",
    "- Fare: Passenger Fare\n",
    "- Cabin: Cabin\n",
    "- Embarked: Port of Embarkation\n",
    "\n",
    "The goal is to predict whether a passenger has survived or not\n",
    "\n",
    "\n",
    "## 1- Import Libraries\n",
    "\n",
    "We first import a list of libraries we will be using"
   ]
  },
  {
   "cell_type": "code",
   "execution_count": 1,
   "metadata": {},
   "outputs": [],
   "source": [
    "import numpy as np\n",
    "import pandas as pd\n",
    "import seaborn as sns\n",
    "import warnings\n",
    "import matplotlib.pyplot as plt\n",
    "%matplotlib inline"
   ]
  },
  {
   "cell_type": "code",
   "execution_count": 2,
   "metadata": {},
   "outputs": [],
   "source": [
    "# Ignore warnings\n",
    "\n",
    "def warn(*args, **kwargs):\n",
    "    pass\n",
    "import warnings\n",
    "warnings.warn = warn"
   ]
  },
  {
   "cell_type": "markdown",
   "metadata": {},
   "source": [
    "## 2- Load the Data\n",
    "\n",
    "We load the titanic data from csv files."
   ]
  },
  {
   "cell_type": "code",
   "execution_count": 3,
   "metadata": {},
   "outputs": [],
   "source": [
    "titanicTrain = pd.read_csv('train.csv')\n",
    "X_test = pd.read_csv('test.csv')"
   ]
  },
  {
   "cell_type": "markdown",
   "metadata": {},
   "source": [
    "## 3- EDA\n",
    "\n",
    "Check to see what the titanic dataset looks like"
   ]
  },
  {
   "cell_type": "code",
   "execution_count": 4,
   "metadata": {},
   "outputs": [
    {
     "data": {
      "text/html": [
       "<div>\n",
       "<style scoped>\n",
       "    .dataframe tbody tr th:only-of-type {\n",
       "        vertical-align: middle;\n",
       "    }\n",
       "\n",
       "    .dataframe tbody tr th {\n",
       "        vertical-align: top;\n",
       "    }\n",
       "\n",
       "    .dataframe thead th {\n",
       "        text-align: right;\n",
       "    }\n",
       "</style>\n",
       "<table border=\"1\" class=\"dataframe\">\n",
       "  <thead>\n",
       "    <tr style=\"text-align: right;\">\n",
       "      <th></th>\n",
       "      <th>PassengerId</th>\n",
       "      <th>Survived</th>\n",
       "      <th>Pclass</th>\n",
       "      <th>Name</th>\n",
       "      <th>Sex</th>\n",
       "      <th>Age</th>\n",
       "      <th>SibSp</th>\n",
       "      <th>Parch</th>\n",
       "      <th>Ticket</th>\n",
       "      <th>Fare</th>\n",
       "      <th>Cabin</th>\n",
       "      <th>Embarked</th>\n",
       "    </tr>\n",
       "  </thead>\n",
       "  <tbody>\n",
       "    <tr>\n",
       "      <th>0</th>\n",
       "      <td>1</td>\n",
       "      <td>0</td>\n",
       "      <td>3</td>\n",
       "      <td>Braund, Mr. Owen Harris</td>\n",
       "      <td>male</td>\n",
       "      <td>22.0</td>\n",
       "      <td>1</td>\n",
       "      <td>0</td>\n",
       "      <td>A/5 21171</td>\n",
       "      <td>7.2500</td>\n",
       "      <td>NaN</td>\n",
       "      <td>S</td>\n",
       "    </tr>\n",
       "    <tr>\n",
       "      <th>1</th>\n",
       "      <td>2</td>\n",
       "      <td>1</td>\n",
       "      <td>1</td>\n",
       "      <td>Cumings, Mrs. John Bradley (Florence Briggs Th...</td>\n",
       "      <td>female</td>\n",
       "      <td>38.0</td>\n",
       "      <td>1</td>\n",
       "      <td>0</td>\n",
       "      <td>PC 17599</td>\n",
       "      <td>71.2833</td>\n",
       "      <td>C85</td>\n",
       "      <td>C</td>\n",
       "    </tr>\n",
       "    <tr>\n",
       "      <th>2</th>\n",
       "      <td>3</td>\n",
       "      <td>1</td>\n",
       "      <td>3</td>\n",
       "      <td>Heikkinen, Miss. Laina</td>\n",
       "      <td>female</td>\n",
       "      <td>26.0</td>\n",
       "      <td>0</td>\n",
       "      <td>0</td>\n",
       "      <td>STON/O2. 3101282</td>\n",
       "      <td>7.9250</td>\n",
       "      <td>NaN</td>\n",
       "      <td>S</td>\n",
       "    </tr>\n",
       "    <tr>\n",
       "      <th>3</th>\n",
       "      <td>4</td>\n",
       "      <td>1</td>\n",
       "      <td>1</td>\n",
       "      <td>Futrelle, Mrs. Jacques Heath (Lily May Peel)</td>\n",
       "      <td>female</td>\n",
       "      <td>35.0</td>\n",
       "      <td>1</td>\n",
       "      <td>0</td>\n",
       "      <td>113803</td>\n",
       "      <td>53.1000</td>\n",
       "      <td>C123</td>\n",
       "      <td>S</td>\n",
       "    </tr>\n",
       "    <tr>\n",
       "      <th>4</th>\n",
       "      <td>5</td>\n",
       "      <td>0</td>\n",
       "      <td>3</td>\n",
       "      <td>Allen, Mr. William Henry</td>\n",
       "      <td>male</td>\n",
       "      <td>35.0</td>\n",
       "      <td>0</td>\n",
       "      <td>0</td>\n",
       "      <td>373450</td>\n",
       "      <td>8.0500</td>\n",
       "      <td>NaN</td>\n",
       "      <td>S</td>\n",
       "    </tr>\n",
       "  </tbody>\n",
       "</table>\n",
       "</div>"
      ],
      "text/plain": [
       "   PassengerId  Survived  Pclass  \\\n",
       "0            1         0       3   \n",
       "1            2         1       1   \n",
       "2            3         1       3   \n",
       "3            4         1       1   \n",
       "4            5         0       3   \n",
       "\n",
       "                                                Name     Sex   Age  SibSp  \\\n",
       "0                            Braund, Mr. Owen Harris    male  22.0      1   \n",
       "1  Cumings, Mrs. John Bradley (Florence Briggs Th...  female  38.0      1   \n",
       "2                             Heikkinen, Miss. Laina  female  26.0      0   \n",
       "3       Futrelle, Mrs. Jacques Heath (Lily May Peel)  female  35.0      1   \n",
       "4                           Allen, Mr. William Henry    male  35.0      0   \n",
       "\n",
       "   Parch            Ticket     Fare Cabin Embarked  \n",
       "0      0         A/5 21171   7.2500   NaN        S  \n",
       "1      0          PC 17599  71.2833   C85        C  \n",
       "2      0  STON/O2. 3101282   7.9250   NaN        S  \n",
       "3      0            113803  53.1000  C123        S  \n",
       "4      0            373450   8.0500   NaN        S  "
      ]
     },
     "execution_count": 4,
     "metadata": {},
     "output_type": "execute_result"
    }
   ],
   "source": [
    "titanicTrain.head()"
   ]
  },
  {
   "cell_type": "code",
   "execution_count": 5,
   "metadata": {},
   "outputs": [
    {
     "data": {
      "text/html": [
       "<div>\n",
       "<style scoped>\n",
       "    .dataframe tbody tr th:only-of-type {\n",
       "        vertical-align: middle;\n",
       "    }\n",
       "\n",
       "    .dataframe tbody tr th {\n",
       "        vertical-align: top;\n",
       "    }\n",
       "\n",
       "    .dataframe thead th {\n",
       "        text-align: right;\n",
       "    }\n",
       "</style>\n",
       "<table border=\"1\" class=\"dataframe\">\n",
       "  <thead>\n",
       "    <tr style=\"text-align: right;\">\n",
       "      <th></th>\n",
       "      <th>PassengerId</th>\n",
       "      <th>Pclass</th>\n",
       "      <th>Name</th>\n",
       "      <th>Sex</th>\n",
       "      <th>Age</th>\n",
       "      <th>SibSp</th>\n",
       "      <th>Parch</th>\n",
       "      <th>Ticket</th>\n",
       "      <th>Fare</th>\n",
       "      <th>Cabin</th>\n",
       "      <th>Embarked</th>\n",
       "    </tr>\n",
       "  </thead>\n",
       "  <tbody>\n",
       "    <tr>\n",
       "      <th>0</th>\n",
       "      <td>892</td>\n",
       "      <td>3</td>\n",
       "      <td>Kelly, Mr. James</td>\n",
       "      <td>male</td>\n",
       "      <td>34.5</td>\n",
       "      <td>0</td>\n",
       "      <td>0</td>\n",
       "      <td>330911</td>\n",
       "      <td>7.8292</td>\n",
       "      <td>NaN</td>\n",
       "      <td>Q</td>\n",
       "    </tr>\n",
       "    <tr>\n",
       "      <th>1</th>\n",
       "      <td>893</td>\n",
       "      <td>3</td>\n",
       "      <td>Wilkes, Mrs. James (Ellen Needs)</td>\n",
       "      <td>female</td>\n",
       "      <td>47.0</td>\n",
       "      <td>1</td>\n",
       "      <td>0</td>\n",
       "      <td>363272</td>\n",
       "      <td>7.0000</td>\n",
       "      <td>NaN</td>\n",
       "      <td>S</td>\n",
       "    </tr>\n",
       "    <tr>\n",
       "      <th>2</th>\n",
       "      <td>894</td>\n",
       "      <td>2</td>\n",
       "      <td>Myles, Mr. Thomas Francis</td>\n",
       "      <td>male</td>\n",
       "      <td>62.0</td>\n",
       "      <td>0</td>\n",
       "      <td>0</td>\n",
       "      <td>240276</td>\n",
       "      <td>9.6875</td>\n",
       "      <td>NaN</td>\n",
       "      <td>Q</td>\n",
       "    </tr>\n",
       "    <tr>\n",
       "      <th>3</th>\n",
       "      <td>895</td>\n",
       "      <td>3</td>\n",
       "      <td>Wirz, Mr. Albert</td>\n",
       "      <td>male</td>\n",
       "      <td>27.0</td>\n",
       "      <td>0</td>\n",
       "      <td>0</td>\n",
       "      <td>315154</td>\n",
       "      <td>8.6625</td>\n",
       "      <td>NaN</td>\n",
       "      <td>S</td>\n",
       "    </tr>\n",
       "    <tr>\n",
       "      <th>4</th>\n",
       "      <td>896</td>\n",
       "      <td>3</td>\n",
       "      <td>Hirvonen, Mrs. Alexander (Helga E Lindqvist)</td>\n",
       "      <td>female</td>\n",
       "      <td>22.0</td>\n",
       "      <td>1</td>\n",
       "      <td>1</td>\n",
       "      <td>3101298</td>\n",
       "      <td>12.2875</td>\n",
       "      <td>NaN</td>\n",
       "      <td>S</td>\n",
       "    </tr>\n",
       "  </tbody>\n",
       "</table>\n",
       "</div>"
      ],
      "text/plain": [
       "   PassengerId  Pclass                                          Name     Sex  \\\n",
       "0          892       3                              Kelly, Mr. James    male   \n",
       "1          893       3              Wilkes, Mrs. James (Ellen Needs)  female   \n",
       "2          894       2                     Myles, Mr. Thomas Francis    male   \n",
       "3          895       3                              Wirz, Mr. Albert    male   \n",
       "4          896       3  Hirvonen, Mrs. Alexander (Helga E Lindqvist)  female   \n",
       "\n",
       "    Age  SibSp  Parch   Ticket     Fare Cabin Embarked  \n",
       "0  34.5      0      0   330911   7.8292   NaN        Q  \n",
       "1  47.0      1      0   363272   7.0000   NaN        S  \n",
       "2  62.0      0      0   240276   9.6875   NaN        Q  \n",
       "3  27.0      0      0   315154   8.6625   NaN        S  \n",
       "4  22.0      1      1  3101298  12.2875   NaN        S  "
      ]
     },
     "execution_count": 5,
     "metadata": {},
     "output_type": "execute_result"
    }
   ],
   "source": [
    "X_test.head()"
   ]
  },
  {
   "cell_type": "code",
   "execution_count": 6,
   "metadata": {},
   "outputs": [],
   "source": [
    "# Create a dataframe for EDA purposes\n",
    "titanicEDA =titanicTrain.copy()"
   ]
  },
  {
   "cell_type": "markdown",
   "metadata": {},
   "source": [
    "Check to see whether there are any correlations in the data. We can see that there are indeed some correlations. For example the Survived flag is correlated with Pclass and Fare"
   ]
  },
  {
   "cell_type": "code",
   "execution_count": 7,
   "metadata": {},
   "outputs": [
    {
     "data": {
      "text/html": [
       "<div>\n",
       "<style scoped>\n",
       "    .dataframe tbody tr th:only-of-type {\n",
       "        vertical-align: middle;\n",
       "    }\n",
       "\n",
       "    .dataframe tbody tr th {\n",
       "        vertical-align: top;\n",
       "    }\n",
       "\n",
       "    .dataframe thead th {\n",
       "        text-align: right;\n",
       "    }\n",
       "</style>\n",
       "<table border=\"1\" class=\"dataframe\">\n",
       "  <thead>\n",
       "    <tr style=\"text-align: right;\">\n",
       "      <th></th>\n",
       "      <th>PassengerId</th>\n",
       "      <th>Survived</th>\n",
       "      <th>Pclass</th>\n",
       "      <th>Age</th>\n",
       "      <th>SibSp</th>\n",
       "      <th>Parch</th>\n",
       "      <th>Fare</th>\n",
       "    </tr>\n",
       "  </thead>\n",
       "  <tbody>\n",
       "    <tr>\n",
       "      <th>PassengerId</th>\n",
       "      <td>1.000000</td>\n",
       "      <td>-0.005007</td>\n",
       "      <td>-0.035144</td>\n",
       "      <td>0.036847</td>\n",
       "      <td>-0.057527</td>\n",
       "      <td>-0.001652</td>\n",
       "      <td>0.012658</td>\n",
       "    </tr>\n",
       "    <tr>\n",
       "      <th>Survived</th>\n",
       "      <td>-0.005007</td>\n",
       "      <td>1.000000</td>\n",
       "      <td>-0.338481</td>\n",
       "      <td>-0.077221</td>\n",
       "      <td>-0.035322</td>\n",
       "      <td>0.081629</td>\n",
       "      <td>0.257307</td>\n",
       "    </tr>\n",
       "    <tr>\n",
       "      <th>Pclass</th>\n",
       "      <td>-0.035144</td>\n",
       "      <td>-0.338481</td>\n",
       "      <td>1.000000</td>\n",
       "      <td>-0.369226</td>\n",
       "      <td>0.083081</td>\n",
       "      <td>0.018443</td>\n",
       "      <td>-0.549500</td>\n",
       "    </tr>\n",
       "    <tr>\n",
       "      <th>Age</th>\n",
       "      <td>0.036847</td>\n",
       "      <td>-0.077221</td>\n",
       "      <td>-0.369226</td>\n",
       "      <td>1.000000</td>\n",
       "      <td>-0.308247</td>\n",
       "      <td>-0.189119</td>\n",
       "      <td>0.096067</td>\n",
       "    </tr>\n",
       "    <tr>\n",
       "      <th>SibSp</th>\n",
       "      <td>-0.057527</td>\n",
       "      <td>-0.035322</td>\n",
       "      <td>0.083081</td>\n",
       "      <td>-0.308247</td>\n",
       "      <td>1.000000</td>\n",
       "      <td>0.414838</td>\n",
       "      <td>0.159651</td>\n",
       "    </tr>\n",
       "    <tr>\n",
       "      <th>Parch</th>\n",
       "      <td>-0.001652</td>\n",
       "      <td>0.081629</td>\n",
       "      <td>0.018443</td>\n",
       "      <td>-0.189119</td>\n",
       "      <td>0.414838</td>\n",
       "      <td>1.000000</td>\n",
       "      <td>0.216225</td>\n",
       "    </tr>\n",
       "    <tr>\n",
       "      <th>Fare</th>\n",
       "      <td>0.012658</td>\n",
       "      <td>0.257307</td>\n",
       "      <td>-0.549500</td>\n",
       "      <td>0.096067</td>\n",
       "      <td>0.159651</td>\n",
       "      <td>0.216225</td>\n",
       "      <td>1.000000</td>\n",
       "    </tr>\n",
       "  </tbody>\n",
       "</table>\n",
       "</div>"
      ],
      "text/plain": [
       "             PassengerId  Survived    Pclass       Age     SibSp     Parch  \\\n",
       "PassengerId     1.000000 -0.005007 -0.035144  0.036847 -0.057527 -0.001652   \n",
       "Survived       -0.005007  1.000000 -0.338481 -0.077221 -0.035322  0.081629   \n",
       "Pclass         -0.035144 -0.338481  1.000000 -0.369226  0.083081  0.018443   \n",
       "Age             0.036847 -0.077221 -0.369226  1.000000 -0.308247 -0.189119   \n",
       "SibSp          -0.057527 -0.035322  0.083081 -0.308247  1.000000  0.414838   \n",
       "Parch          -0.001652  0.081629  0.018443 -0.189119  0.414838  1.000000   \n",
       "Fare            0.012658  0.257307 -0.549500  0.096067  0.159651  0.216225   \n",
       "\n",
       "                 Fare  \n",
       "PassengerId  0.012658  \n",
       "Survived     0.257307  \n",
       "Pclass      -0.549500  \n",
       "Age          0.096067  \n",
       "SibSp        0.159651  \n",
       "Parch        0.216225  \n",
       "Fare         1.000000  "
      ]
     },
     "execution_count": 7,
     "metadata": {},
     "output_type": "execute_result"
    }
   ],
   "source": [
    "titanicEDA.corr()"
   ]
  },
  {
   "cell_type": "markdown",
   "metadata": {},
   "source": [
    "Check if there are any missing data and if so roughly how much"
   ]
  },
  {
   "cell_type": "code",
   "execution_count": 8,
   "metadata": {},
   "outputs": [
    {
     "data": {
      "text/plain": [
       "<matplotlib.axes._subplots.AxesSubplot at 0x24f2221c6d8>"
      ]
     },
     "execution_count": 8,
     "metadata": {},
     "output_type": "execute_result"
    },
    {
     "data": {
      "image/png": "[encoded data removed]",
      "text/plain": [
       "<matplotlib.figure.Figure at 0x24f221e5a58>"
      ]
     },
     "metadata": {},
     "output_type": "display_data"
    }
   ],
   "source": [
    "sns.heatmap(titanicEDA.isnull(),yticklabels=False,cbar=False,cmap='viridis')"
   ]
  },
  {
   "cell_type": "markdown",
   "metadata": {},
   "source": [
    "The test data is similar to the training data in that there are similar amounts of missing data"
   ]
  },
  {
   "cell_type": "code",
   "execution_count": 9,
   "metadata": {},
   "outputs": [
    {
     "data": {
      "text/plain": [
       "<matplotlib.axes._subplots.AxesSubplot at 0x24f22245c88>"
      ]
     },
     "execution_count": 9,
     "metadata": {},
     "output_type": "execute_result"
    },
    {
     "data": {
      "image/png": "[encoded data removed]",
      "text/plain": [
       "<matplotlib.figure.Figure at 0x24f20cf1ef0>"
      ]
     },
     "metadata": {},
     "output_type": "display_data"
    }
   ],
   "source": [
    "sns.heatmap(X_test.isnull(),yticklabels=False,cbar=False,cmap='viridis')"
   ]
  },
  {
   "cell_type": "code",
   "execution_count": 10,
   "metadata": {},
   "outputs": [
    {
     "name": "stdout",
     "output_type": "stream",
     "text": [
      "Percentage of Age == NaN values:  19.865319865319865\n",
      "Percentage of Age == NaN values:  19.865319865319865\n",
      "Percentage of Age == NaN values:  19.865319865319865\n",
      "Percentage of Cabin == NaN values:  77.10437710437711\n",
      "Percentage of Cabin == NaN values:  77.10437710437711\n",
      "Percentage of Cabin == NaN values:  77.1043771043771\n"
     ]
    }
   ],
   "source": [
    "print(\"Percentage of Age == NaN values: \", 100*np.size(titanicEDA[pd.isnull(titanicEDA['Age'])]['Age'])/np.size(titanicEDA['Age']))\n",
    "print(\"Percentage of Age == NaN values: \", 100*np.sum(pd.isnull(titanicEDA['Age']))/np.size(titanicEDA['Age']))\n",
    "print(\"Percentage of Age == NaN values: \", 100*(1- titanicEDA['Age'].count()/np.size(titanicEDA['Age'])))\n",
    "\n",
    "print(\"Percentage of Cabin == NaN values: \", 100*np.size(titanicEDA[pd.isnull(titanicEDA['Cabin'])]['Cabin'])/np.size(titanicEDA['Cabin']))\n",
    "print(\"Percentage of Cabin == NaN values: \", 100*np.sum(pd.isnull(titanicEDA['Cabin']))/np.size(titanicEDA['Cabin']))\n",
    "print(\"Percentage of Cabin == NaN values: \", 100*(1- titanicEDA['Cabin'].count()/np.size(titanicEDA['Cabin'])))"
   ]
  },
  {
   "cell_type": "markdown",
   "metadata": {},
   "source": [
    "A big proportion of Cabin data is missing. Let's have a quick glance at some of the fields and their distributions"
   ]
  },
  {
   "cell_type": "code",
   "execution_count": 11,
   "metadata": {},
   "outputs": [
    {
     "data": {
      "image/png": "[encoded data removed]",
      "text/plain": [
       "<matplotlib.figure.Figure at 0x24f22605048>"
      ]
     },
     "metadata": {},
     "output_type": "display_data"
    }
   ],
   "source": [
    "# The fields we want to look at\n",
    "fields = ['Survived','SibSp','Pclass','Embarked','Sex','Parch']\n",
    "\n",
    "nrows = 2\n",
    "ncols = int(len(fields)/nrows)\n",
    "\n",
    "fig,ax = plt.subplots(nrows=nrows,ncols=ncols,figsize=(ncols*4,nrows*4))\n",
    "\n",
    "for row in range(0,nrows):\n",
    "    for col in range(0,ncols):\n",
    "        thisAxis = ax[row][col]\n",
    "        field = row*ncols + col\n",
    "        if field >= len(fields):\n",
    "            continue\n",
    "        sns.countplot(x=fields[field],hue=fields[0],data=titanicEDA,palette='RdBu_r',ax=thisAxis)\n",
    "        \n",
    "plt.tight_layout()   "
   ]
  },
  {
   "cell_type": "markdown",
   "metadata": {},
   "source": [
    "We can obtain the following information from the above plots:\n",
    "\n",
    "- More people died than survived\n",
    "- Those in Pclass=3 had a much higher proportion of deaths\n",
    "- Those that had Embarked = 'S' had a much greater death proportion\n",
    "- Parch is a great indicator of whether the person has survived since a greater portion of those with Parch 0 died\n",
    "- Women were much more likely to survive than men\n",
    "- Parch is closely related to SibSp, both in meaning and in it's relation to survival\n",
    "\n",
    "Outcome for the model:\n",
    "\n",
    "- Add Pclass as a predictor\n",
    "- Add Embarked as a predictor\n",
    "- Add Parch and SibSp as a predictor (TotalPpl = Parch + SibSp)\n",
    "- Add Sex as a predictor\n"
   ]
  },
  {
   "cell_type": "markdown",
   "metadata": {},
   "source": [
    "Next, we check the distributions of some of the other fields"
   ]
  },
  {
   "cell_type": "code",
   "execution_count": 12,
   "metadata": {},
   "outputs": [
    {
     "data": {
      "image/png": "[encoded data removed]",
      "text/plain": [
       "<matplotlib.figure.Figure at 0x24f22556b70>"
      ]
     },
     "metadata": {},
     "output_type": "display_data"
    }
   ],
   "source": [
    "g = sns.FacetGrid(data=titanicEDA,row='Sex',col='Pclass',hue='Survived',margin_titles=True)\n",
    "\n",
    "g.map(sns.distplot, 'Age', kde=False,bins=np.arange(0,70,5),hist_kws=dict(edgecolor='black'))\n",
    "\n",
    "g.add_legend() \n",
    "\n",
    "plt.show()  "
   ]
  },
  {
   "cell_type": "markdown",
   "metadata": {},
   "source": [
    "We can see from the above distributions that:\n",
    "\n",
    "- Males had best survival rates in Pclass 1\n",
    "- Females had best survival rates in Pclass 1 and 2\n",
    "- For females, being very young in Pclass 1 meant you had greater chance of death. While being in Pclass 2 meant greater chance of survival\n",
    "\n",
    "Outcome for the model:\n",
    "\n",
    "- Add Age as a predictor"
   ]
  },
  {
   "cell_type": "code",
   "execution_count": 13,
   "metadata": {},
   "outputs": [
    {
     "data": {
      "image/png": "[encoded data removed]",
      "text/plain": [
       "<matplotlib.figure.Figure at 0x24f2298e400>"
      ]
     },
     "metadata": {},
     "output_type": "display_data"
    }
   ],
   "source": [
    "fig,ax = plt.subplots(1,1,figsize=(10,10))\n",
    "\n",
    "ax.set_ylabel('Count')\n",
    "ax.set_title('The distribution of Age')\n",
    "\n",
    "g = sns.distplot(titanicEDA['Age'].dropna(),kde=False,color='darkred',bins=30,hist_kws=dict(edgecolor='black'),ax=ax)"
   ]
  },
  {
   "cell_type": "markdown",
   "metadata": {},
   "source": [
    "We can see that the distribution of Age is slightly bimodal. We have a small peak for the much younger age groups. Could possibly be due newly weds taking their young children along with them. Or it may be due to a very young child is pretty dependent and more difficult to leave in the care of another. Whatever the reason, we can see in the above Age distribution plot against survival that apart from a small anomaly in the female Pclass=1 subclass, very young children have pretty good survival rates compared to other age groups.\n",
    "\n",
    "Let's have a look at similar information for Fare"
   ]
  },
  {
   "cell_type": "code",
   "execution_count": 14,
   "metadata": {},
   "outputs": [
    {
     "data": {
      "image/png": "[encoded data removed]",
      "text/plain": [
       "<matplotlib.figure.Figure at 0x24f22f90898>"
      ]
     },
     "metadata": {},
     "output_type": "display_data"
    }
   ],
   "source": [
    "g = sns.FacetGrid(data=titanicEDA,row='Sex',col='Pclass',hue='Survived',margin_titles=True)\n",
    "\n",
    "g.map(sns.distplot, 'Fare', kde=False,bins=np.arange(0,70,5),hist_kws=dict(edgecolor='black'))\n",
    "\n",
    "g.add_legend() \n",
    "\n",
    "plt.show()  "
   ]
  },
  {
   "cell_type": "code",
   "execution_count": 15,
   "metadata": {},
   "outputs": [
    {
     "data": {
      "image/png": "[encoded data removed]",
      "text/plain": [
       "<matplotlib.figure.Figure at 0x24f235c40b8>"
      ]
     },
     "metadata": {},
     "output_type": "display_data"
    }
   ],
   "source": [
    "fig,ax = plt.subplots(1,1,figsize=(10,10))\n",
    "\n",
    "ax.set_ylabel('Count')\n",
    "ax.set_xlabel('Fare')\n",
    "ax.set_title('The distribution of Fare')\n",
    "\n",
    "g = titanicEDA['Fare'].hist(color='green',bins=40,figsize=(8,4))"
   ]
  },
  {
   "cell_type": "markdown",
   "metadata": {},
   "source": [
    "Fare is highly left skewed. It is clear that Pclass 3 and low fares had atrocious survival rates. We can ignore this class so that we can get a better look at the other classes below "
   ]
  },
  {
   "cell_type": "code",
   "execution_count": 16,
   "metadata": {},
   "outputs": [
    {
     "data": {
      "image/png": "[encoded data removed]",
      "text/plain": [
       "<matplotlib.figure.Figure at 0x24f237d3358>"
      ]
     },
     "metadata": {},
     "output_type": "display_data"
    }
   ],
   "source": [
    "g = sns.FacetGrid(data=titanicEDA[titanicEDA['Pclass'] < 3],row='Sex',col='Pclass',hue='Survived',margin_titles=True)\n",
    "\n",
    "g.map(sns.distplot, 'Fare', kde=False,bins=np.arange(0,70,5),hist_kws=dict(edgecolor='black'))\n",
    "\n",
    "g.add_legend() \n",
    "\n",
    "plt.show()  "
   ]
  },
  {
   "cell_type": "markdown",
   "metadata": {},
   "source": [
    "Looking further, we can see that a lower fare corresponds to a lower survival rate.\n",
    "\n",
    "Let's create a TotalPpl column and see how that correlates with survival"
   ]
  },
  {
   "cell_type": "code",
   "execution_count": 17,
   "metadata": {},
   "outputs": [],
   "source": [
    "titanicEDA['TotalPpl'] = titanicEDA['Parch'] + titanicEDA['SibSp']"
   ]
  },
  {
   "cell_type": "code",
   "execution_count": 18,
   "metadata": {},
   "outputs": [
    {
     "data": {
      "image/png": "[encoded data removed]",
      "text/plain": [
       "<matplotlib.figure.Figure at 0x24f23a68320>"
      ]
     },
     "metadata": {},
     "output_type": "display_data"
    }
   ],
   "source": [
    "fig,ax = plt.subplots(nrows=1,ncols=1,figsize=(10,10))\n",
    "\n",
    "sns.barplot(x='TotalPpl',y='Survived',hue='Sex',data=titanicEDA,ci=0)\n",
    "\n",
    "ax.set_ylabel('Mean Survival Rate')\n",
    "\n",
    "plt.show()"
   ]
  },
  {
   "cell_type": "markdown",
   "metadata": {},
   "source": [
    "When viewed all together, it looks like there is no relationship between TotalPpl and Survival. However, looking at this data split by gender shows that as the size of a passengers family increases toward 3, male passenger survival rates increase while female passenger survival rates remain constant. Increasing the family size further dramatically decreases survival rates.\n",
    "\n",
    "Next, let's look at passenger titles to see if there is any insight there."
   ]
  },
  {
   "cell_type": "code",
   "execution_count": 196,
   "metadata": {},
   "outputs": [],
   "source": [
    "def getTitleFromTitanic(x):\n",
    "    '''\n",
    "    A function to extract the title from a passenger name\n",
    "    x:= Name of passenger\n",
    "    '''\n",
    "    for elt in x.split():\n",
    "        if('.' in elt):\n",
    "            return elt.replace('.','')\n",
    "    return ''\n",
    "\n",
    "#Get the title from the name\n",
    "titanicEDA['Title'] = titanicEDA['Name'].apply(getTitleFromTitanic)\n",
    "\n",
    "titanicEDA['Title'] = titanicEDA['Title'].map({'Mr': 'Miss', 'Mrs': 'Mrs', 'Miss': 'Miss', 'Master':'Master','Don':'Mr','Rev':'Mr',\n",
    "    'Mme':'Miss',\n",
    "    'Ms':'Miss','Major':'Mr', 'Lady':'Mrs', 'Sir':'Mr', 'Mlle':'Miss', \n",
    "    'Col':'Mr', 'Capt':'Mr', 'Countess':'Mrs','Jonkheer':'Mr', 'Dr':'Dr', 'Dona':'Mrs'})"
   ]
  },
  {
   "cell_type": "code",
   "execution_count": 197,
   "metadata": {},
   "outputs": [
    {
     "data": {
      "text/plain": [
       "<matplotlib.axes._subplots.AxesSubplot at 0x24f2574ceb8>"
      ]
     },
     "execution_count": 197,
     "metadata": {},
     "output_type": "execute_result"
    },
    {
     "data": {
      "image/png": "[encoded data removed]",
      "text/plain": [
       "<matplotlib.figure.Figure at 0x24f28f98780>"
      ]
     },
     "metadata": {},
     "output_type": "display_data"
    }
   ],
   "source": [
    "sns.barplot(x='Title',y='Survived',data=titanicEDA)"
   ]
  },
  {
   "cell_type": "code",
   "execution_count": 198,
   "metadata": {},
   "outputs": [
    {
     "data": {
      "text/html": [
       "<div>\n",
       "<style scoped>\n",
       "    .dataframe tbody tr th:only-of-type {\n",
       "        vertical-align: middle;\n",
       "    }\n",
       "\n",
       "    .dataframe tbody tr th {\n",
       "        vertical-align: top;\n",
       "    }\n",
       "\n",
       "    .dataframe thead th {\n",
       "        text-align: right;\n",
       "    }\n",
       "</style>\n",
       "<table border=\"1\" class=\"dataframe\">\n",
       "  <thead>\n",
       "    <tr style=\"text-align: right;\">\n",
       "      <th></th>\n",
       "      <th>Pclass</th>\n",
       "      <th>Age</th>\n",
       "      <th>SibSp</th>\n",
       "      <th>Parch</th>\n",
       "      <th>Fare</th>\n",
       "      <th>NameLengthBucket</th>\n",
       "      <th>male</th>\n",
       "      <th>Q</th>\n",
       "      <th>S</th>\n",
       "      <th>Cabin</th>\n",
       "      <th>Master</th>\n",
       "      <th>Miss</th>\n",
       "      <th>Mr</th>\n",
       "      <th>Mrs</th>\n",
       "      <th>TotalPpl</th>\n",
       "    </tr>\n",
       "  </thead>\n",
       "  <tbody>\n",
       "    <tr>\n",
       "      <th>0</th>\n",
       "      <td>3</td>\n",
       "      <td>34</td>\n",
       "      <td>0</td>\n",
       "      <td>0</td>\n",
       "      <td>7</td>\n",
       "      <td>10</td>\n",
       "      <td>1</td>\n",
       "      <td>1</td>\n",
       "      <td>0</td>\n",
       "      <td>False</td>\n",
       "      <td>0</td>\n",
       "      <td>1</td>\n",
       "      <td>0</td>\n",
       "      <td>0</td>\n",
       "      <td>0</td>\n",
       "    </tr>\n",
       "    <tr>\n",
       "      <th>1</th>\n",
       "      <td>3</td>\n",
       "      <td>47</td>\n",
       "      <td>1</td>\n",
       "      <td>0</td>\n",
       "      <td>7</td>\n",
       "      <td>30</td>\n",
       "      <td>0</td>\n",
       "      <td>0</td>\n",
       "      <td>1</td>\n",
       "      <td>False</td>\n",
       "      <td>0</td>\n",
       "      <td>0</td>\n",
       "      <td>0</td>\n",
       "      <td>1</td>\n",
       "      <td>1</td>\n",
       "    </tr>\n",
       "    <tr>\n",
       "      <th>2</th>\n",
       "      <td>2</td>\n",
       "      <td>62</td>\n",
       "      <td>0</td>\n",
       "      <td>0</td>\n",
       "      <td>9</td>\n",
       "      <td>20</td>\n",
       "      <td>1</td>\n",
       "      <td>1</td>\n",
       "      <td>0</td>\n",
       "      <td>False</td>\n",
       "      <td>0</td>\n",
       "      <td>1</td>\n",
       "      <td>0</td>\n",
       "      <td>0</td>\n",
       "      <td>0</td>\n",
       "    </tr>\n",
       "    <tr>\n",
       "      <th>3</th>\n",
       "      <td>3</td>\n",
       "      <td>27</td>\n",
       "      <td>0</td>\n",
       "      <td>0</td>\n",
       "      <td>8</td>\n",
       "      <td>10</td>\n",
       "      <td>1</td>\n",
       "      <td>0</td>\n",
       "      <td>1</td>\n",
       "      <td>False</td>\n",
       "      <td>0</td>\n",
       "      <td>1</td>\n",
       "      <td>0</td>\n",
       "      <td>0</td>\n",
       "      <td>0</td>\n",
       "    </tr>\n",
       "    <tr>\n",
       "      <th>4</th>\n",
       "      <td>3</td>\n",
       "      <td>22</td>\n",
       "      <td>1</td>\n",
       "      <td>1</td>\n",
       "      <td>12</td>\n",
       "      <td>40</td>\n",
       "      <td>0</td>\n",
       "      <td>0</td>\n",
       "      <td>1</td>\n",
       "      <td>False</td>\n",
       "      <td>0</td>\n",
       "      <td>0</td>\n",
       "      <td>0</td>\n",
       "      <td>1</td>\n",
       "      <td>2</td>\n",
       "    </tr>\n",
       "  </tbody>\n",
       "</table>\n",
       "</div>"
      ],
      "text/plain": [
       "   Pclass  Age  SibSp  Parch  Fare  NameLengthBucket  male  Q  S  Cabin  \\\n",
       "0       3   34      0      0     7                10     1  1  0  False   \n",
       "1       3   47      1      0     7                30     0  0  1  False   \n",
       "2       2   62      0      0     9                20     1  1  0  False   \n",
       "3       3   27      0      0     8                10     1  0  1  False   \n",
       "4       3   22      1      1    12                40     0  0  1  False   \n",
       "\n",
       "   Master  Miss  Mr  Mrs  TotalPpl  \n",
       "0       0     1   0    0         0  \n",
       "1       0     0   0    1         1  \n",
       "2       0     1   0    0         0  \n",
       "3       0     1   0    0         0  \n",
       "4       0     0   0    1         2  "
      ]
     },
     "execution_count": 198,
     "metadata": {},
     "output_type": "execute_result"
    }
   ],
   "source": [
    "titanicTestCleaned.head()"
   ]
  },
  {
   "cell_type": "markdown",
   "metadata": {},
   "source": [
    " We can see that married females have a much higher rate of survival. How about the name length?"
   ]
  },
  {
   "cell_type": "code",
   "execution_count": 199,
   "metadata": {},
   "outputs": [
    {
     "data": {
      "image/png": "[encoded data removed]",
      "text/plain": [
       "<matplotlib.figure.Figure at 0x24f256ac550>"
      ]
     },
     "metadata": {},
     "output_type": "display_data"
    }
   ],
   "source": [
    "# Get the name lenth and bucket it\n",
    "titanicEDA['NameLengthBucket'] = titanicEDA['Name'].apply(lambda x: int(len(x)/10)*10)\n",
    "\n",
    "fig,ax = plt.subplots(nrows=1,ncols=1,figsize=(10,10))\n",
    "\n",
    "sns.barplot(x='NameLengthBucket',y='Survived',hue='Sex',data=titanicEDA,ci=0)\n",
    "\n",
    "ax.set_ylabel('Mean Survival Rate')\n",
    "\n",
    "plt.show()"
   ]
  },
  {
   "cell_type": "code",
   "execution_count": 200,
   "metadata": {},
   "outputs": [
    {
     "data": {
      "text/html": [
       "<div>\n",
       "<style scoped>\n",
       "    .dataframe tbody tr th:only-of-type {\n",
       "        vertical-align: middle;\n",
       "    }\n",
       "\n",
       "    .dataframe tbody tr th {\n",
       "        vertical-align: top;\n",
       "    }\n",
       "\n",
       "    .dataframe thead th {\n",
       "        text-align: right;\n",
       "    }\n",
       "</style>\n",
       "<table border=\"1\" class=\"dataframe\">\n",
       "  <thead>\n",
       "    <tr style=\"text-align: right;\">\n",
       "      <th></th>\n",
       "      <th>Survived</th>\n",
       "      <th>NameLengthBucket</th>\n",
       "    </tr>\n",
       "  </thead>\n",
       "  <tbody>\n",
       "    <tr>\n",
       "      <th>Survived</th>\n",
       "      <td>1.000000</td>\n",
       "      <td>0.327466</td>\n",
       "    </tr>\n",
       "    <tr>\n",
       "      <th>NameLengthBucket</th>\n",
       "      <td>0.327466</td>\n",
       "      <td>1.000000</td>\n",
       "    </tr>\n",
       "  </tbody>\n",
       "</table>\n",
       "</div>"
      ],
      "text/plain": [
       "                  Survived  NameLengthBucket\n",
       "Survived          1.000000          0.327466\n",
       "NameLengthBucket  0.327466          1.000000"
      ]
     },
     "execution_count": 200,
     "metadata": {},
     "output_type": "execute_result"
    }
   ],
   "source": [
    "titanicEDA[['Survived','NameLengthBucket']].corr()"
   ]
  },
  {
   "cell_type": "markdown",
   "metadata": {},
   "source": [
    "In the above plot, we can see that a longer name corresponds to greater survival rate. We can also see from the above output that the name length is correlated with survival.\n",
    " \n",
    " Outcome for the model:\n",
    " \n",
    " - Add Title to the model\n",
    " - Add name length to the model\n",
    " \n",
    "Next let's look at whether we can see anything interesting with the Cabin variable"
   ]
  },
  {
   "cell_type": "code",
   "execution_count": 201,
   "metadata": {},
   "outputs": [
    {
     "data": {
      "image/png": "[encoded data removed]",
      "text/plain": [
       "<matplotlib.figure.Figure at 0x24f256cccf8>"
      ]
     },
     "metadata": {},
     "output_type": "display_data"
    }
   ],
   "source": [
    "#Cabin either exists or doesn't -> 1 or 0\n",
    "titanicEDA['CabinExistence'] = pd.isnull(titanicEDA['Cabin']).apply(lambda x: not x)\n",
    "\n",
    "fig,ax = plt.subplots(nrows=1,ncols=1,figsize=(10,10))\n",
    "\n",
    "sns.barplot(x='CabinExistence',y='Survived',hue='Sex',data=titanicEDA,ci=0)\n",
    "\n",
    "ax.set_ylabel('Mean Survival Rate')\n",
    "\n",
    "plt.show()"
   ]
  },
  {
   "cell_type": "markdown",
   "metadata": {},
   "source": [
    "We can see that whether a cabin entry exists for a passenger gives us information about the survival rate for both genders.\n",
    "\n",
    "Let's see if we can go further than this, for those that have a cabin entry, would the first letter of the cabin ID give us any further information?"
   ]
  },
  {
   "cell_type": "code",
   "execution_count": 202,
   "metadata": {},
   "outputs": [
    {
     "data": {
      "image/png": "[encoded data removed]",
      "text/plain": [
       "<matplotlib.figure.Figure at 0x24f2575dc88>"
      ]
     },
     "metadata": {},
     "output_type": "display_data"
    }
   ],
   "source": [
    "def GetFirstCharacter(st):\n",
    "    '''\n",
    "    A function to extract the first letter (lower case) from a string. If string is null then output is an empty string\n",
    "    st: A string\n",
    "    '''\n",
    "    if(pd.isnull(st) or len(st)==0):\n",
    "        return 0\n",
    "    else:\n",
    "        return ord(st[0].lower())\n",
    "\n",
    "#Cabin first letter\n",
    "titanicEDA['CabinFirstLetter'] = titanicEDA['Cabin'].apply(GetFirstCharacter)\n",
    "\n",
    "fig,ax = plt.subplots(nrows=1,ncols=1,figsize=(10,10))\n",
    "\n",
    "sns.barplot(x='CabinFirstLetter',y='Survived',hue='Sex',data=titanicEDA,ci=0)\n",
    "\n",
    "ax.set_ylabel('Mean Survival Rate')\n",
    "\n",
    "plt.show()"
   ]
  },
  {
   "cell_type": "markdown",
   "metadata": {},
   "source": [
    "There doesn't seem to be anything we can obtain from the first letter of the cabin. How about the cabin name length?"
   ]
  },
  {
   "cell_type": "code",
   "execution_count": 203,
   "metadata": {},
   "outputs": [
    {
     "data": {
      "image/png": "[encoded data removed]",
      "text/plain": [
       "<matplotlib.figure.Figure at 0x24f238ede48>"
      ]
     },
     "metadata": {},
     "output_type": "display_data"
    }
   ],
   "source": [
    "#Cabin first letter\n",
    "titanicEDA['CabinLength'] = titanicEDA['Cabin'].apply(lambda x: 0 if str(x) == 'nan' else len(x))\n",
    "\n",
    "fig,ax = plt.subplots(nrows=1,ncols=1,figsize=(10,10))\n",
    "\n",
    "sns.barplot(x='CabinLength',y='Survived',hue='Sex',data=titanicEDA,ci=0)\n",
    "\n",
    "ax.set_ylabel('Mean Survival Rate')\n",
    "\n",
    "plt.show()"
   ]
  },
  {
   "cell_type": "markdown",
   "metadata": {},
   "source": [
    "Cabin name length also doesn't seem to give us more information so we'll stick with cabin existence\n",
    "\n",
    "Outcome for the model:\n",
    " \n",
    " - Add Cabin existence to the model"
   ]
  },
  {
   "cell_type": "markdown",
   "metadata": {},
   "source": [
    "## 4- Transformation and Cleaning"
   ]
  },
  {
   "cell_type": "markdown",
   "metadata": {},
   "source": [
    "As seen above, there is some missing data for Age. Also, the test data may have missing Fare. One way we can cater for this is to fill the missing Age with the mean of the Age for that sex and Pclass. We can do this in the below set of functions as well as do some cleaning and transformations we've identified above"
   ]
  },
  {
   "cell_type": "code",
   "execution_count": 204,
   "metadata": {},
   "outputs": [],
   "source": [
    "def TrueFalse(p):\n",
    "    '''A function to null to 0'''\n",
    "    if(p):\n",
    "        return 1\n",
    "    else:\n",
    "        return 0\n",
    "    \n",
    "def getTitleFromTitanic(x):\n",
    "    '''\n",
    "    A function to extract the title from a passenger name\n",
    "    x:= Name of passenger\n",
    "    '''\n",
    "    for elt in x.split():\n",
    "        if('.' in elt):\n",
    "            return elt.replace('.','')\n",
    "    return ''\n",
    "\n",
    "def GetFirstCharacter(st):\n",
    "    '''\n",
    "    A function to extract the first letter (lower case) from a string. If string is null then output is an empty string\n",
    "    st: A string\n",
    "    '''\n",
    "    if(pd.isnull(st) or len(st)==0):\n",
    "        return 0\n",
    "    else:\n",
    "        return ord(st[0].lower())\n",
    "    \n",
    "def AddTotalPpl(df):\n",
    "    df_temp = df.copy()\n",
    "    df_temp['TotalPpl'] = df['Parch'] + df['SibSp']\n",
    "    return df_temp\n",
    "\n",
    "def CleanTitanicData(df):\n",
    "    '''\n",
    "    A function to clean the titanic dataframe according to the EDA above\n",
    "    '''\n",
    "    \n",
    "    #Sex is either male or female. Create a series which has entries 0 and 1 specifying whether it's one or the other\n",
    "    sex = pd.get_dummies(df['Sex'],drop_first=True)\n",
    "    \n",
    "    #Similar to the sex series\n",
    "    embark = pd.get_dummies(df['Embarked'],drop_first=True)\n",
    "    \n",
    "    #Cabin either exists or doesn't -> 1 or 0\n",
    "    Cabin = pd.DataFrame(pd.isnull(df['Cabin']).apply(lambda x: not x),columns=['Cabin'])\n",
    "    \n",
    "    #Get first letter of cabin\n",
    "    #Cabin = df['Cabin'].apply(GetFirstCharacter)\n",
    "    \n",
    "    #Get the title from the name\n",
    "    df['Title'] = df['Name'].apply(getTitleFromTitanic)\n",
    "    \n",
    "    df['Title'] = df['Title'].map({'Mr': 'Miss', 'Mrs': 'Mrs', 'Miss': 'Miss', 'Master':'Master','Don':'Mr','Rev':'Mr',\n",
    "        'Mme':'Miss',\n",
    "        'Ms':'Miss','Major':'Mr', 'Lady':'Mrs', 'Sir':'Mr', 'Mlle':'Miss', \n",
    "        'Col':'Mr', 'Capt':'Mr', 'Countess':'Mrs','Jonkheer':'Mr', 'Dr':'Dr', 'Dona':'Mrs'})\n",
    "    \n",
    "    Title =  pd.get_dummies(df['Title'],drop_first=True)\n",
    "    \n",
    "    # Get the name lenth and bucket it\n",
    "    df['NameLengthBucket'] = df['Name'].apply(lambda x: int(len(x)/10)*10)\n",
    "    \n",
    "    #Get rid of some columns\n",
    "    df_temp = df.drop(['Sex','Embarked','Name','Ticket','Cabin','Title'],axis=1,inplace=False)\n",
    "    \n",
    "    #Concat the series to the data frame\n",
    "    df_temp = pd.concat([df_temp,sex,embark,Cabin,Title],axis=1)\n",
    "    \n",
    "    df_temp['TotalPpl'] = df['Parch'] + df['SibSp']\n",
    "    \n",
    "    return df_temp\n",
    "\n"
   ]
  },
  {
   "cell_type": "markdown",
   "metadata": {},
   "source": [
    "Below, we will populate 'NA' values for fare and age with their corresponding mean values within their classes."
   ]
  },
  {
   "cell_type": "code",
   "execution_count": 205,
   "metadata": {},
   "outputs": [
    {
     "name": "stdout",
     "output_type": "stream",
     "text": [
      "Mean Fare per grouping \n",
      "    Pclass  male        Fare\n",
      "0       1     0  107.946275\n",
      "1       1     1   71.142781\n",
      "2       2     0   21.951070\n",
      "3       2     1   21.113131\n",
      "4       3     0   15.875369\n",
      "5       3     1   12.162695 \n",
      "\n",
      "\n",
      "Mean Age per grouping \n",
      "    Pclass  male        Age\n",
      "0       1     0  34.611765\n",
      "1       1     1  41.281386\n",
      "2       2     0  28.722973\n",
      "3       2     1  30.740707\n",
      "4       3     0  21.750000\n",
      "5       3     1  26.507589\n"
     ]
    }
   ],
   "source": [
    "#We will put this block into a function below\n",
    "t_Fare = pd.DataFrame(CleanTitanicData(titanicTrain).dropna().groupby(['Pclass','male']).mean()['Fare'])\n",
    "t_Fare = pd.DataFrame(t_Fare.to_records())\n",
    "\n",
    "t_Age = pd.DataFrame(CleanTitanicData(titanicTrain).dropna().groupby(['Pclass','male']).mean()['Age'])\n",
    "t_Age = pd.DataFrame(t_Age.to_records())\n",
    "\n",
    "print('Mean Fare per grouping \\n',t_Fare,'\\n\\n')\n",
    "print('Mean Age per grouping \\n',t_Age)"
   ]
  },
  {
   "cell_type": "markdown",
   "metadata": {},
   "source": [
    "We can create 2 functions to deal with this assignment of null values"
   ]
  },
  {
   "cell_type": "code",
   "execution_count": 206,
   "metadata": {},
   "outputs": [],
   "source": [
    "def setAge(row,meanAge):\n",
    "    '''\n",
    "    This function is intended to be used via the apply() funtion and applies to rows in the format (Age,sex,Pclass).\n",
    "    This function replaces any null Age with the mean Age of the same sex and Pclass as given in the meanAge argument/dataframe.\n",
    "    '''\n",
    "    Age = row[0]\n",
    "    male = row[1]\n",
    "    Pclass = row[2]\n",
    "    if(pd.isnull(Age)):\n",
    "        return int(meanAge[(meanAge['Pclass'] == Pclass) & (meanAge['male'] == male)]['Age'].iloc[0])\n",
    "    else:\n",
    "        return int(Age)"
   ]
  },
  {
   "cell_type": "code",
   "execution_count": 207,
   "metadata": {},
   "outputs": [],
   "source": [
    "def setFare(row,meanFare):\n",
    "    '''\n",
    "    This function is intended to be used via the apply() funtion and applies to rows in the format (Fare,sex,Pclass).\n",
    "    This function replaces any null Fare with the mean Fare of the same sex and Pclass as given in the meanFare argument/dataframe.\n",
    "    '''\n",
    "    Fare = row[0]\n",
    "    male = row[1]\n",
    "    Pclass = row[2]\n",
    "    if(pd.isnull(Fare)):\n",
    "        return int(meanFare[(meanFare['Pclass'] == Pclass) & (meanFare['male'] == male)]['Fare'].iloc[0])\n",
    "    else:\n",
    "        return int(Fare)"
   ]
  },
  {
   "cell_type": "markdown",
   "metadata": {},
   "source": [
    "Now we include the above functions, clean the data and fill missing values all in one function"
   ]
  },
  {
   "cell_type": "code",
   "execution_count": 208,
   "metadata": {},
   "outputs": [],
   "source": [
    "def fillTitanicNa(df,fillAge=True,fillFare=True):\n",
    "    '''\n",
    "    This function takes a titanic data frame, cleans it and fills in missing Age and Fare values. If it is desired\n",
    "    that the Age not be filled the fillAge should be set to False. Likewise with fillFare.\n",
    "    '''\n",
    "    \n",
    "    # Clean and transform the data\n",
    "    df_temp = CleanTitanicData(df)\n",
    "\n",
    "    # Get the mean Fare values per grouping\n",
    "    t_Fare = pd.DataFrame(df_temp.dropna().groupby(['Pclass','male']).mean()['Fare'])\n",
    "    t_Fare = pd.DataFrame(t_Fare.to_records())\n",
    "\n",
    "    # Get the mean Age values per grouping\n",
    "    t_Age = pd.DataFrame(df_temp.dropna().groupby(['Pclass','male']).mean()['Age'])\n",
    "    t_Age = pd.DataFrame(t_Age.to_records())\n",
    "    \n",
    "    if(fillAge == True):\n",
    "        df_temp['Age'] = df_temp[['Age','male','Pclass']].apply(lambda row: setAge(row,t_Age),axis=1)\n",
    "\n",
    "    if(fillFare == True):\n",
    "        df_temp['Fare'] = df_temp[['Fare','male','Pclass']].apply(lambda row: setFare(row,t_Fare),axis=1)\n",
    "        \n",
    "    if(fillAge == False or fillFare == False):\n",
    "        df_temp.dropna(inplace = True)\n",
    "        \n",
    "    return df_temp\n"
   ]
  },
  {
   "cell_type": "markdown",
   "metadata": {},
   "source": [
    "Now we can create a cleaned dataframe to check for it's validity, i.e. we will check for any missing values and whether the above works as intended"
   ]
  },
  {
   "cell_type": "code",
   "execution_count": 209,
   "metadata": {},
   "outputs": [],
   "source": [
    "titanicCleaned = titanicTrain.copy()\n",
    "titanicCleaned = fillTitanicNa(titanicCleaned,True,True)"
   ]
  },
  {
   "cell_type": "code",
   "execution_count": 210,
   "metadata": {},
   "outputs": [
    {
     "data": {
      "text/html": [
       "<div>\n",
       "<style scoped>\n",
       "    .dataframe tbody tr th:only-of-type {\n",
       "        vertical-align: middle;\n",
       "    }\n",
       "\n",
       "    .dataframe tbody tr th {\n",
       "        vertical-align: top;\n",
       "    }\n",
       "\n",
       "    .dataframe thead th {\n",
       "        text-align: right;\n",
       "    }\n",
       "</style>\n",
       "<table border=\"1\" class=\"dataframe\">\n",
       "  <thead>\n",
       "    <tr style=\"text-align: right;\">\n",
       "      <th></th>\n",
       "      <th>Survived</th>\n",
       "      <th>NameLengthBucket</th>\n",
       "    </tr>\n",
       "  </thead>\n",
       "  <tbody>\n",
       "    <tr>\n",
       "      <th>Survived</th>\n",
       "      <td>1.000000</td>\n",
       "      <td>0.327466</td>\n",
       "    </tr>\n",
       "    <tr>\n",
       "      <th>NameLengthBucket</th>\n",
       "      <td>0.327466</td>\n",
       "      <td>1.000000</td>\n",
       "    </tr>\n",
       "  </tbody>\n",
       "</table>\n",
       "</div>"
      ],
      "text/plain": [
       "                  Survived  NameLengthBucket\n",
       "Survived          1.000000          0.327466\n",
       "NameLengthBucket  0.327466          1.000000"
      ]
     },
     "execution_count": 210,
     "metadata": {},
     "output_type": "execute_result"
    }
   ],
   "source": [
    "titanicCleaned[['Survived','NameLengthBucket']].corr()"
   ]
  },
  {
   "cell_type": "code",
   "execution_count": 211,
   "metadata": {},
   "outputs": [
    {
     "data": {
      "text/html": [
       "<div>\n",
       "<style scoped>\n",
       "    .dataframe tbody tr th:only-of-type {\n",
       "        vertical-align: middle;\n",
       "    }\n",
       "\n",
       "    .dataframe tbody tr th {\n",
       "        vertical-align: top;\n",
       "    }\n",
       "\n",
       "    .dataframe thead th {\n",
       "        text-align: right;\n",
       "    }\n",
       "</style>\n",
       "<table border=\"1\" class=\"dataframe\">\n",
       "  <thead>\n",
       "    <tr style=\"text-align: right;\">\n",
       "      <th></th>\n",
       "      <th>PassengerId</th>\n",
       "      <th>Survived</th>\n",
       "      <th>Pclass</th>\n",
       "      <th>Age</th>\n",
       "      <th>SibSp</th>\n",
       "      <th>Parch</th>\n",
       "      <th>Fare</th>\n",
       "      <th>NameLengthBucket</th>\n",
       "      <th>male</th>\n",
       "      <th>Q</th>\n",
       "      <th>S</th>\n",
       "      <th>Cabin</th>\n",
       "      <th>Master</th>\n",
       "      <th>Miss</th>\n",
       "      <th>Mr</th>\n",
       "      <th>Mrs</th>\n",
       "      <th>TotalPpl</th>\n",
       "    </tr>\n",
       "  </thead>\n",
       "  <tbody>\n",
       "    <tr>\n",
       "      <th>0</th>\n",
       "      <td>1</td>\n",
       "      <td>0</td>\n",
       "      <td>3</td>\n",
       "      <td>22</td>\n",
       "      <td>1</td>\n",
       "      <td>0</td>\n",
       "      <td>7</td>\n",
       "      <td>20</td>\n",
       "      <td>1</td>\n",
       "      <td>0</td>\n",
       "      <td>1</td>\n",
       "      <td>False</td>\n",
       "      <td>0</td>\n",
       "      <td>1</td>\n",
       "      <td>0</td>\n",
       "      <td>0</td>\n",
       "      <td>1</td>\n",
       "    </tr>\n",
       "    <tr>\n",
       "      <th>1</th>\n",
       "      <td>2</td>\n",
       "      <td>1</td>\n",
       "      <td>1</td>\n",
       "      <td>38</td>\n",
       "      <td>1</td>\n",
       "      <td>0</td>\n",
       "      <td>71</td>\n",
       "      <td>50</td>\n",
       "      <td>0</td>\n",
       "      <td>0</td>\n",
       "      <td>0</td>\n",
       "      <td>True</td>\n",
       "      <td>0</td>\n",
       "      <td>0</td>\n",
       "      <td>0</td>\n",
       "      <td>1</td>\n",
       "      <td>1</td>\n",
       "    </tr>\n",
       "    <tr>\n",
       "      <th>2</th>\n",
       "      <td>3</td>\n",
       "      <td>1</td>\n",
       "      <td>3</td>\n",
       "      <td>26</td>\n",
       "      <td>0</td>\n",
       "      <td>0</td>\n",
       "      <td>7</td>\n",
       "      <td>20</td>\n",
       "      <td>0</td>\n",
       "      <td>0</td>\n",
       "      <td>1</td>\n",
       "      <td>False</td>\n",
       "      <td>0</td>\n",
       "      <td>1</td>\n",
       "      <td>0</td>\n",
       "      <td>0</td>\n",
       "      <td>0</td>\n",
       "    </tr>\n",
       "    <tr>\n",
       "      <th>3</th>\n",
       "      <td>4</td>\n",
       "      <td>1</td>\n",
       "      <td>1</td>\n",
       "      <td>35</td>\n",
       "      <td>1</td>\n",
       "      <td>0</td>\n",
       "      <td>53</td>\n",
       "      <td>40</td>\n",
       "      <td>0</td>\n",
       "      <td>0</td>\n",
       "      <td>1</td>\n",
       "      <td>True</td>\n",
       "      <td>0</td>\n",
       "      <td>0</td>\n",
       "      <td>0</td>\n",
       "      <td>1</td>\n",
       "      <td>1</td>\n",
       "    </tr>\n",
       "    <tr>\n",
       "      <th>4</th>\n",
       "      <td>5</td>\n",
       "      <td>0</td>\n",
       "      <td>3</td>\n",
       "      <td>35</td>\n",
       "      <td>0</td>\n",
       "      <td>0</td>\n",
       "      <td>8</td>\n",
       "      <td>20</td>\n",
       "      <td>1</td>\n",
       "      <td>0</td>\n",
       "      <td>1</td>\n",
       "      <td>False</td>\n",
       "      <td>0</td>\n",
       "      <td>1</td>\n",
       "      <td>0</td>\n",
       "      <td>0</td>\n",
       "      <td>0</td>\n",
       "    </tr>\n",
       "  </tbody>\n",
       "</table>\n",
       "</div>"
      ],
      "text/plain": [
       "   PassengerId  Survived  Pclass  Age  SibSp  Parch  Fare  NameLengthBucket  \\\n",
       "0            1         0       3   22      1      0     7                20   \n",
       "1            2         1       1   38      1      0    71                50   \n",
       "2            3         1       3   26      0      0     7                20   \n",
       "3            4         1       1   35      1      0    53                40   \n",
       "4            5         0       3   35      0      0     8                20   \n",
       "\n",
       "   male  Q  S  Cabin  Master  Miss  Mr  Mrs  TotalPpl  \n",
       "0     1  0  1  False       0     1   0    0         1  \n",
       "1     0  0  0   True       0     0   0    1         1  \n",
       "2     0  0  1  False       0     1   0    0         0  \n",
       "3     0  0  1   True       0     0   0    1         1  \n",
       "4     1  0  1  False       0     1   0    0         0  "
      ]
     },
     "execution_count": 211,
     "metadata": {},
     "output_type": "execute_result"
    }
   ],
   "source": [
    "titanicCleaned.head()"
   ]
  },
  {
   "cell_type": "markdown",
   "metadata": {},
   "source": [
    "Check that there are no missing values"
   ]
  },
  {
   "cell_type": "code",
   "execution_count": 212,
   "metadata": {
    "scrolled": false
   },
   "outputs": [
    {
     "data": {
      "text/plain": [
       "PassengerId         0\n",
       "Survived            0\n",
       "Pclass              0\n",
       "Age                 0\n",
       "SibSp               0\n",
       "Parch               0\n",
       "Fare                0\n",
       "NameLengthBucket    0\n",
       "male                0\n",
       "Q                   0\n",
       "S                   0\n",
       "Cabin               0\n",
       "Master              0\n",
       "Miss                0\n",
       "Mr                  0\n",
       "Mrs                 0\n",
       "TotalPpl            0\n",
       "dtype: int64"
      ]
     },
     "execution_count": 212,
     "metadata": {},
     "output_type": "execute_result"
    }
   ],
   "source": [
    "titanicCleaned.isnull().sum()"
   ]
  },
  {
   "cell_type": "code",
   "execution_count": 213,
   "metadata": {
    "scrolled": false
   },
   "outputs": [
    {
     "data": {
      "text/html": [
       "<div>\n",
       "<style scoped>\n",
       "    .dataframe tbody tr th:only-of-type {\n",
       "        vertical-align: middle;\n",
       "    }\n",
       "\n",
       "    .dataframe tbody tr th {\n",
       "        vertical-align: top;\n",
       "    }\n",
       "\n",
       "    .dataframe thead th {\n",
       "        text-align: right;\n",
       "    }\n",
       "</style>\n",
       "<table border=\"1\" class=\"dataframe\">\n",
       "  <thead>\n",
       "    <tr style=\"text-align: right;\">\n",
       "      <th></th>\n",
       "      <th>PassengerId</th>\n",
       "      <th>Survived</th>\n",
       "      <th>Pclass</th>\n",
       "      <th>Age</th>\n",
       "      <th>SibSp</th>\n",
       "      <th>Parch</th>\n",
       "      <th>Fare</th>\n",
       "      <th>NameLengthBucket</th>\n",
       "      <th>male</th>\n",
       "      <th>Q</th>\n",
       "      <th>S</th>\n",
       "      <th>Master</th>\n",
       "      <th>Miss</th>\n",
       "      <th>Mr</th>\n",
       "      <th>Mrs</th>\n",
       "      <th>TotalPpl</th>\n",
       "    </tr>\n",
       "  </thead>\n",
       "  <tbody>\n",
       "    <tr>\n",
       "      <th>count</th>\n",
       "      <td>891.000000</td>\n",
       "      <td>891.000000</td>\n",
       "      <td>891.000000</td>\n",
       "      <td>891.000000</td>\n",
       "      <td>891.000000</td>\n",
       "      <td>891.000000</td>\n",
       "      <td>891.000000</td>\n",
       "      <td>891.000000</td>\n",
       "      <td>891.000000</td>\n",
       "      <td>891.000000</td>\n",
       "      <td>891.000000</td>\n",
       "      <td>891.000000</td>\n",
       "      <td>891.000000</td>\n",
       "      <td>891.000000</td>\n",
       "      <td>891.000000</td>\n",
       "      <td>891.000000</td>\n",
       "    </tr>\n",
       "    <tr>\n",
       "      <th>mean</th>\n",
       "      <td>446.000000</td>\n",
       "      <td>0.383838</td>\n",
       "      <td>2.308642</td>\n",
       "      <td>29.191919</td>\n",
       "      <td>0.523008</td>\n",
       "      <td>0.381594</td>\n",
       "      <td>31.785634</td>\n",
       "      <td>22.098765</td>\n",
       "      <td>0.647587</td>\n",
       "      <td>0.086420</td>\n",
       "      <td>0.722783</td>\n",
       "      <td>0.044893</td>\n",
       "      <td>0.789001</td>\n",
       "      <td>0.015713</td>\n",
       "      <td>0.142536</td>\n",
       "      <td>0.904602</td>\n",
       "    </tr>\n",
       "    <tr>\n",
       "      <th>std</th>\n",
       "      <td>257.353842</td>\n",
       "      <td>0.486592</td>\n",
       "      <td>0.836071</td>\n",
       "      <td>13.313598</td>\n",
       "      <td>1.102743</td>\n",
       "      <td>0.806057</td>\n",
       "      <td>49.703730</td>\n",
       "      <td>10.099244</td>\n",
       "      <td>0.477990</td>\n",
       "      <td>0.281141</td>\n",
       "      <td>0.447876</td>\n",
       "      <td>0.207186</td>\n",
       "      <td>0.408247</td>\n",
       "      <td>0.124431</td>\n",
       "      <td>0.349796</td>\n",
       "      <td>1.613459</td>\n",
       "    </tr>\n",
       "    <tr>\n",
       "      <th>min</th>\n",
       "      <td>1.000000</td>\n",
       "      <td>0.000000</td>\n",
       "      <td>1.000000</td>\n",
       "      <td>0.000000</td>\n",
       "      <td>0.000000</td>\n",
       "      <td>0.000000</td>\n",
       "      <td>0.000000</td>\n",
       "      <td>10.000000</td>\n",
       "      <td>0.000000</td>\n",
       "      <td>0.000000</td>\n",
       "      <td>0.000000</td>\n",
       "      <td>0.000000</td>\n",
       "      <td>0.000000</td>\n",
       "      <td>0.000000</td>\n",
       "      <td>0.000000</td>\n",
       "      <td>0.000000</td>\n",
       "    </tr>\n",
       "    <tr>\n",
       "      <th>25%</th>\n",
       "      <td>223.500000</td>\n",
       "      <td>0.000000</td>\n",
       "      <td>2.000000</td>\n",
       "      <td>21.000000</td>\n",
       "      <td>0.000000</td>\n",
       "      <td>0.000000</td>\n",
       "      <td>7.000000</td>\n",
       "      <td>20.000000</td>\n",
       "      <td>0.000000</td>\n",
       "      <td>0.000000</td>\n",
       "      <td>0.000000</td>\n",
       "      <td>0.000000</td>\n",
       "      <td>1.000000</td>\n",
       "      <td>0.000000</td>\n",
       "      <td>0.000000</td>\n",
       "      <td>0.000000</td>\n",
       "    </tr>\n",
       "    <tr>\n",
       "      <th>50%</th>\n",
       "      <td>446.000000</td>\n",
       "      <td>0.000000</td>\n",
       "      <td>3.000000</td>\n",
       "      <td>26.000000</td>\n",
       "      <td>0.000000</td>\n",
       "      <td>0.000000</td>\n",
       "      <td>14.000000</td>\n",
       "      <td>20.000000</td>\n",
       "      <td>1.000000</td>\n",
       "      <td>0.000000</td>\n",
       "      <td>1.000000</td>\n",
       "      <td>0.000000</td>\n",
       "      <td>1.000000</td>\n",
       "      <td>0.000000</td>\n",
       "      <td>0.000000</td>\n",
       "      <td>0.000000</td>\n",
       "    </tr>\n",
       "    <tr>\n",
       "      <th>75%</th>\n",
       "      <td>668.500000</td>\n",
       "      <td>1.000000</td>\n",
       "      <td>3.000000</td>\n",
       "      <td>36.000000</td>\n",
       "      <td>1.000000</td>\n",
       "      <td>0.000000</td>\n",
       "      <td>31.000000</td>\n",
       "      <td>30.000000</td>\n",
       "      <td>1.000000</td>\n",
       "      <td>0.000000</td>\n",
       "      <td>1.000000</td>\n",
       "      <td>0.000000</td>\n",
       "      <td>1.000000</td>\n",
       "      <td>0.000000</td>\n",
       "      <td>0.000000</td>\n",
       "      <td>1.000000</td>\n",
       "    </tr>\n",
       "    <tr>\n",
       "      <th>max</th>\n",
       "      <td>891.000000</td>\n",
       "      <td>1.000000</td>\n",
       "      <td>3.000000</td>\n",
       "      <td>80.000000</td>\n",
       "      <td>8.000000</td>\n",
       "      <td>6.000000</td>\n",
       "      <td>512.000000</td>\n",
       "      <td>80.000000</td>\n",
       "      <td>1.000000</td>\n",
       "      <td>1.000000</td>\n",
       "      <td>1.000000</td>\n",
       "      <td>1.000000</td>\n",
       "      <td>1.000000</td>\n",
       "      <td>1.000000</td>\n",
       "      <td>1.000000</td>\n",
       "      <td>10.000000</td>\n",
       "    </tr>\n",
       "  </tbody>\n",
       "</table>\n",
       "</div>"
      ],
      "text/plain": [
       "       PassengerId    Survived      Pclass         Age       SibSp  \\\n",
       "count   891.000000  891.000000  891.000000  891.000000  891.000000   \n",
       "mean    446.000000    0.383838    2.308642   29.191919    0.523008   \n",
       "std     257.353842    0.486592    0.836071   13.313598    1.102743   \n",
       "min       1.000000    0.000000    1.000000    0.000000    0.000000   \n",
       "25%     223.500000    0.000000    2.000000   21.000000    0.000000   \n",
       "50%     446.000000    0.000000    3.000000   26.000000    0.000000   \n",
       "75%     668.500000    1.000000    3.000000   36.000000    1.000000   \n",
       "max     891.000000    1.000000    3.000000   80.000000    8.000000   \n",
       "\n",
       "            Parch        Fare  NameLengthBucket        male           Q  \\\n",
       "count  891.000000  891.000000        891.000000  891.000000  891.000000   \n",
       "mean     0.381594   31.785634         22.098765    0.647587    0.086420   \n",
       "std      0.806057   49.703730         10.099244    0.477990    0.281141   \n",
       "min      0.000000    0.000000         10.000000    0.000000    0.000000   \n",
       "25%      0.000000    7.000000         20.000000    0.000000    0.000000   \n",
       "50%      0.000000   14.000000         20.000000    1.000000    0.000000   \n",
       "75%      0.000000   31.000000         30.000000    1.000000    0.000000   \n",
       "max      6.000000  512.000000         80.000000    1.000000    1.000000   \n",
       "\n",
       "                S      Master        Miss          Mr         Mrs    TotalPpl  \n",
       "count  891.000000  891.000000  891.000000  891.000000  891.000000  891.000000  \n",
       "mean     0.722783    0.044893    0.789001    0.015713    0.142536    0.904602  \n",
       "std      0.447876    0.207186    0.408247    0.124431    0.349796    1.613459  \n",
       "min      0.000000    0.000000    0.000000    0.000000    0.000000    0.000000  \n",
       "25%      0.000000    0.000000    1.000000    0.000000    0.000000    0.000000  \n",
       "50%      1.000000    0.000000    1.000000    0.000000    0.000000    0.000000  \n",
       "75%      1.000000    0.000000    1.000000    0.000000    0.000000    1.000000  \n",
       "max      1.000000    1.000000    1.000000    1.000000    1.000000   10.000000  "
      ]
     },
     "execution_count": 213,
     "metadata": {},
     "output_type": "execute_result"
    }
   ],
   "source": [
    "titanicCleaned.describe()"
   ]
  },
  {
   "cell_type": "code",
   "execution_count": 214,
   "metadata": {},
   "outputs": [
    {
     "name": "stdout",
     "output_type": "stream",
     "text": [
      "<class 'pandas.core.frame.DataFrame'>\n",
      "RangeIndex: 891 entries, 0 to 890\n",
      "Data columns (total 17 columns):\n",
      "PassengerId         891 non-null int64\n",
      "Survived            891 non-null int64\n",
      "Pclass              891 non-null int64\n",
      "Age                 891 non-null int64\n",
      "SibSp               891 non-null int64\n",
      "Parch               891 non-null int64\n",
      "Fare                891 non-null int64\n",
      "NameLengthBucket    891 non-null int64\n",
      "male                891 non-null uint8\n",
      "Q                   891 non-null uint8\n",
      "S                   891 non-null uint8\n",
      "Cabin               891 non-null bool\n",
      "Master              891 non-null uint8\n",
      "Miss                891 non-null uint8\n",
      "Mr                  891 non-null uint8\n",
      "Mrs                 891 non-null uint8\n",
      "TotalPpl            891 non-null int64\n",
      "dtypes: bool(1), int64(9), uint8(7)\n",
      "memory usage: 69.7 KB\n"
     ]
    }
   ],
   "source": [
    "titanicCleaned.info()"
   ]
  },
  {
   "cell_type": "markdown",
   "metadata": {},
   "source": [
    "It looks like the cleaned data is as expected. We can now move on to modelling and prediction."
   ]
  },
  {
   "cell_type": "markdown",
   "metadata": {},
   "source": [
    "## 4- Prediction\n",
    "\n",
    "### A- Logistic Regression\n",
    "\n",
    "Import the necessary libraries"
   ]
  },
  {
   "cell_type": "code",
   "execution_count": 215,
   "metadata": {},
   "outputs": [],
   "source": [
    "from sklearn.linear_model import LogisticRegression\n",
    "from sklearn.model_selection import train_test_split\n",
    "from sklearn.metrics import classification_report, accuracy_score\n",
    "from sklearn.metrics import confusion_matrix\n",
    "from sklearn.model_selection import cross_val_score\n",
    "from sklearn.model_selection import RandomizedSearchCV\n",
    "from sklearn.model_selection import GridSearchCV\n",
    "from scipy.stats import uniform"
   ]
  },
  {
   "cell_type": "markdown",
   "metadata": {},
   "source": [
    "Get our training data and our test data for seeing if the model works well. We can use cross_val_score to do our train test split."
   ]
  },
  {
   "cell_type": "code",
   "execution_count": 216,
   "metadata": {},
   "outputs": [],
   "source": [
    "# This is the features data from the training set without the PassengerId\n",
    "X = titanicCleaned.drop(['Survived','PassengerId'],axis=1)\n",
    "\n",
    "# This is the response variable from the training set\n",
    "y = titanicCleaned['Survived']\n",
    "\n",
    "# This is the test data including the PassengerId\n",
    "test = pd.read_csv('test.csv')\n",
    "\n",
    "# This is the test data without the PassengerId\n",
    "test2 = test.drop(['PassengerId'],axis=1)"
   ]
  },
  {
   "cell_type": "markdown",
   "metadata": {},
   "source": [
    "Fit a logistic regression model to the data with cross validation and GridSearchCV. GridSearchCV, runs the model for all the specified parameters and picks the best performing one."
   ]
  },
  {
   "cell_type": "code",
   "execution_count": 217,
   "metadata": {
    "scrolled": true
   },
   "outputs": [
    {
     "name": "stdout",
     "output_type": "stream",
     "text": [
      "Fitting 20 folds for each of 80 candidates, totalling 1600 fits\n"
     ]
    },
    {
     "name": "stderr",
     "output_type": "stream",
     "text": [
      "[Parallel(n_jobs=4)]: Done 344 tasks      | elapsed:    5.6s\n",
      "[Parallel(n_jobs=4)]: Done 1600 out of 1600 | elapsed:   18.1s finished\n"
     ]
    },
    {
     "data": {
      "text/plain": [
       "LogisticRegression(C=1.0, class_weight=None, dual=False, fit_intercept=True,\n",
       "          intercept_scaling=1, max_iter=100, multi_class='ovr', n_jobs=1,\n",
       "          penalty='l2', random_state=None, solver='newton-cg', tol=0.1,\n",
       "          verbose=0, warm_start=False)"
      ]
     },
     "execution_count": 217,
     "metadata": {},
     "output_type": "execute_result"
    }
   ],
   "source": [
    "# The parameters of the Logistic Regression model which we want to iterate over\n",
    "param_grid = {'penalty':['l2'], 'solver':['liblinear','newton-cg', 'lbfgs', 'sag', 'saga'],\\\n",
    "              'tol':[1,0.1,0.01,0.002,0.001,0.0009,0.0001,0.00001],\\\n",
    "              'fit_intercept':[True,False]}\n",
    "\n",
    "# Utilise GridSearchCV to run Linear Regression where for each set of parameters it will run cross validation 20 times.\n",
    "# n_jobs is the number of parallel jobs\n",
    "lg_search = GridSearchCV(LogisticRegression(), param_grid, cv=20, refit=True, verbose=1,n_jobs=4)\n",
    "lg_search.fit(X,y)\n",
    "lg_search.best_estimator_"
   ]
  },
  {
   "cell_type": "markdown",
   "metadata": {},
   "source": [
    "We can check if these set of parameters do indeed maximise the accuracy of the model for this data"
   ]
  },
  {
   "cell_type": "code",
   "execution_count": 218,
   "metadata": {},
   "outputs": [
    {
     "name": "stdout",
     "output_type": "stream",
     "text": [
      "The default classifier accuracy score is 0.8339166666666665\n",
      "The optimised classifier accuracy score is 0.8385833333333333\n"
     ]
    }
   ],
   "source": [
    "# Default classifier\n",
    "lg1 = LogisticRegression()\n",
    "\n",
    "# Optimised classifier\n",
    "lg2 = lg_search.best_estimator_\n",
    "\n",
    "# Here we run cross validation for the default model and the optimised model. We run it 200 times\n",
    "# with a randomised train and test set and get the mean accuracy score\n",
    "lg1_scores = cross_val_score(lg1, X, y, cv=200, scoring='accuracy',n_jobs=4)\n",
    "lg2_scores = cross_val_score(lg2, X, y, cv=200, scoring='accuracy',n_jobs=4)\n",
    "print('The default classifier accuracy score is {}'.format(lg1_scores.mean()))\n",
    "print('The optimised classifier accuracy score is {}'.format(lg2_scores.mean()))"
   ]
  },
  {
   "cell_type": "markdown",
   "metadata": {},
   "source": [
    "In the end it did ok, even the default set up. Now we train with the whole data set using the parameters of the best model above"
   ]
  },
  {
   "cell_type": "code",
   "execution_count": 219,
   "metadata": {},
   "outputs": [
    {
     "data": {
      "text/plain": [
       "LogisticRegression(C=1.0, class_weight=None, dual=False, fit_intercept=True,\n",
       "          intercept_scaling=1, max_iter=100, multi_class='ovr', n_jobs=1,\n",
       "          penalty='l2', random_state=None, solver='newton-cg', tol=0.1,\n",
       "          verbose=0, warm_start=False)"
      ]
     },
     "execution_count": 219,
     "metadata": {},
     "output_type": "execute_result"
    }
   ],
   "source": [
    "lg2.fit(X, y)"
   ]
  },
  {
   "cell_type": "markdown",
   "metadata": {},
   "source": [
    "Clean and fill the test data the same way we did the train data"
   ]
  },
  {
   "cell_type": "code",
   "execution_count": 220,
   "metadata": {},
   "outputs": [
    {
     "data": {
      "text/html": [
       "<div>\n",
       "<style scoped>\n",
       "    .dataframe tbody tr th:only-of-type {\n",
       "        vertical-align: middle;\n",
       "    }\n",
       "\n",
       "    .dataframe tbody tr th {\n",
       "        vertical-align: top;\n",
       "    }\n",
       "\n",
       "    .dataframe thead th {\n",
       "        text-align: right;\n",
       "    }\n",
       "</style>\n",
       "<table border=\"1\" class=\"dataframe\">\n",
       "  <thead>\n",
       "    <tr style=\"text-align: right;\">\n",
       "      <th></th>\n",
       "      <th>Pclass</th>\n",
       "      <th>Age</th>\n",
       "      <th>SibSp</th>\n",
       "      <th>Parch</th>\n",
       "      <th>Fare</th>\n",
       "      <th>NameLengthBucket</th>\n",
       "      <th>male</th>\n",
       "      <th>Q</th>\n",
       "      <th>S</th>\n",
       "      <th>Cabin</th>\n",
       "      <th>Master</th>\n",
       "      <th>Miss</th>\n",
       "      <th>Mr</th>\n",
       "      <th>Mrs</th>\n",
       "      <th>TotalPpl</th>\n",
       "    </tr>\n",
       "  </thead>\n",
       "  <tbody>\n",
       "    <tr>\n",
       "      <th>0</th>\n",
       "      <td>3</td>\n",
       "      <td>34</td>\n",
       "      <td>0</td>\n",
       "      <td>0</td>\n",
       "      <td>7</td>\n",
       "      <td>10</td>\n",
       "      <td>1</td>\n",
       "      <td>1</td>\n",
       "      <td>0</td>\n",
       "      <td>False</td>\n",
       "      <td>0</td>\n",
       "      <td>1</td>\n",
       "      <td>0</td>\n",
       "      <td>0</td>\n",
       "      <td>0</td>\n",
       "    </tr>\n",
       "    <tr>\n",
       "      <th>1</th>\n",
       "      <td>3</td>\n",
       "      <td>47</td>\n",
       "      <td>1</td>\n",
       "      <td>0</td>\n",
       "      <td>7</td>\n",
       "      <td>30</td>\n",
       "      <td>0</td>\n",
       "      <td>0</td>\n",
       "      <td>1</td>\n",
       "      <td>False</td>\n",
       "      <td>0</td>\n",
       "      <td>0</td>\n",
       "      <td>0</td>\n",
       "      <td>1</td>\n",
       "      <td>1</td>\n",
       "    </tr>\n",
       "    <tr>\n",
       "      <th>2</th>\n",
       "      <td>2</td>\n",
       "      <td>62</td>\n",
       "      <td>0</td>\n",
       "      <td>0</td>\n",
       "      <td>9</td>\n",
       "      <td>20</td>\n",
       "      <td>1</td>\n",
       "      <td>1</td>\n",
       "      <td>0</td>\n",
       "      <td>False</td>\n",
       "      <td>0</td>\n",
       "      <td>1</td>\n",
       "      <td>0</td>\n",
       "      <td>0</td>\n",
       "      <td>0</td>\n",
       "    </tr>\n",
       "    <tr>\n",
       "      <th>3</th>\n",
       "      <td>3</td>\n",
       "      <td>27</td>\n",
       "      <td>0</td>\n",
       "      <td>0</td>\n",
       "      <td>8</td>\n",
       "      <td>10</td>\n",
       "      <td>1</td>\n",
       "      <td>0</td>\n",
       "      <td>1</td>\n",
       "      <td>False</td>\n",
       "      <td>0</td>\n",
       "      <td>1</td>\n",
       "      <td>0</td>\n",
       "      <td>0</td>\n",
       "      <td>0</td>\n",
       "    </tr>\n",
       "    <tr>\n",
       "      <th>4</th>\n",
       "      <td>3</td>\n",
       "      <td>22</td>\n",
       "      <td>1</td>\n",
       "      <td>1</td>\n",
       "      <td>12</td>\n",
       "      <td>40</td>\n",
       "      <td>0</td>\n",
       "      <td>0</td>\n",
       "      <td>1</td>\n",
       "      <td>False</td>\n",
       "      <td>0</td>\n",
       "      <td>0</td>\n",
       "      <td>0</td>\n",
       "      <td>1</td>\n",
       "      <td>2</td>\n",
       "    </tr>\n",
       "  </tbody>\n",
       "</table>\n",
       "</div>"
      ],
      "text/plain": [
       "   Pclass  Age  SibSp  Parch  Fare  NameLengthBucket  male  Q  S  Cabin  \\\n",
       "0       3   34      0      0     7                10     1  1  0  False   \n",
       "1       3   47      1      0     7                30     0  0  1  False   \n",
       "2       2   62      0      0     9                20     1  1  0  False   \n",
       "3       3   27      0      0     8                10     1  0  1  False   \n",
       "4       3   22      1      1    12                40     0  0  1  False   \n",
       "\n",
       "   Master  Miss  Mr  Mrs  TotalPpl  \n",
       "0       0     1   0    0         0  \n",
       "1       0     0   0    1         1  \n",
       "2       0     1   0    0         0  \n",
       "3       0     1   0    0         0  \n",
       "4       0     0   0    1         2  "
      ]
     },
     "execution_count": 220,
     "metadata": {},
     "output_type": "execute_result"
    }
   ],
   "source": [
    "titanicTestCleaned = fillTitanicNa(test,True,True)\n",
    "titanicTestCleaned.drop('PassengerId',inplace=True,axis=1)\n",
    "titanicTestCleaned.head()"
   ]
  },
  {
   "cell_type": "code",
   "execution_count": 221,
   "metadata": {},
   "outputs": [
    {
     "data": {
      "text/html": [
       "<div>\n",
       "<style scoped>\n",
       "    .dataframe tbody tr th:only-of-type {\n",
       "        vertical-align: middle;\n",
       "    }\n",
       "\n",
       "    .dataframe tbody tr th {\n",
       "        vertical-align: top;\n",
       "    }\n",
       "\n",
       "    .dataframe thead th {\n",
       "        text-align: right;\n",
       "    }\n",
       "</style>\n",
       "<table border=\"1\" class=\"dataframe\">\n",
       "  <thead>\n",
       "    <tr style=\"text-align: right;\">\n",
       "      <th></th>\n",
       "      <th>PassengerId</th>\n",
       "      <th>Survived</th>\n",
       "      <th>Pclass</th>\n",
       "      <th>Age</th>\n",
       "      <th>SibSp</th>\n",
       "      <th>Parch</th>\n",
       "      <th>Fare</th>\n",
       "      <th>NameLengthBucket</th>\n",
       "      <th>male</th>\n",
       "      <th>Q</th>\n",
       "      <th>S</th>\n",
       "      <th>Cabin</th>\n",
       "      <th>Master</th>\n",
       "      <th>Miss</th>\n",
       "      <th>Mr</th>\n",
       "      <th>Mrs</th>\n",
       "      <th>TotalPpl</th>\n",
       "    </tr>\n",
       "  </thead>\n",
       "  <tbody>\n",
       "    <tr>\n",
       "      <th>0</th>\n",
       "      <td>1</td>\n",
       "      <td>0</td>\n",
       "      <td>3</td>\n",
       "      <td>22</td>\n",
       "      <td>1</td>\n",
       "      <td>0</td>\n",
       "      <td>7</td>\n",
       "      <td>20</td>\n",
       "      <td>1</td>\n",
       "      <td>0</td>\n",
       "      <td>1</td>\n",
       "      <td>False</td>\n",
       "      <td>0</td>\n",
       "      <td>1</td>\n",
       "      <td>0</td>\n",
       "      <td>0</td>\n",
       "      <td>1</td>\n",
       "    </tr>\n",
       "    <tr>\n",
       "      <th>1</th>\n",
       "      <td>2</td>\n",
       "      <td>1</td>\n",
       "      <td>1</td>\n",
       "      <td>38</td>\n",
       "      <td>1</td>\n",
       "      <td>0</td>\n",
       "      <td>71</td>\n",
       "      <td>50</td>\n",
       "      <td>0</td>\n",
       "      <td>0</td>\n",
       "      <td>0</td>\n",
       "      <td>True</td>\n",
       "      <td>0</td>\n",
       "      <td>0</td>\n",
       "      <td>0</td>\n",
       "      <td>1</td>\n",
       "      <td>1</td>\n",
       "    </tr>\n",
       "    <tr>\n",
       "      <th>2</th>\n",
       "      <td>3</td>\n",
       "      <td>1</td>\n",
       "      <td>3</td>\n",
       "      <td>26</td>\n",
       "      <td>0</td>\n",
       "      <td>0</td>\n",
       "      <td>7</td>\n",
       "      <td>20</td>\n",
       "      <td>0</td>\n",
       "      <td>0</td>\n",
       "      <td>1</td>\n",
       "      <td>False</td>\n",
       "      <td>0</td>\n",
       "      <td>1</td>\n",
       "      <td>0</td>\n",
       "      <td>0</td>\n",
       "      <td>0</td>\n",
       "    </tr>\n",
       "    <tr>\n",
       "      <th>3</th>\n",
       "      <td>4</td>\n",
       "      <td>1</td>\n",
       "      <td>1</td>\n",
       "      <td>35</td>\n",
       "      <td>1</td>\n",
       "      <td>0</td>\n",
       "      <td>53</td>\n",
       "      <td>40</td>\n",
       "      <td>0</td>\n",
       "      <td>0</td>\n",
       "      <td>1</td>\n",
       "      <td>True</td>\n",
       "      <td>0</td>\n",
       "      <td>0</td>\n",
       "      <td>0</td>\n",
       "      <td>1</td>\n",
       "      <td>1</td>\n",
       "    </tr>\n",
       "    <tr>\n",
       "      <th>4</th>\n",
       "      <td>5</td>\n",
       "      <td>0</td>\n",
       "      <td>3</td>\n",
       "      <td>35</td>\n",
       "      <td>0</td>\n",
       "      <td>0</td>\n",
       "      <td>8</td>\n",
       "      <td>20</td>\n",
       "      <td>1</td>\n",
       "      <td>0</td>\n",
       "      <td>1</td>\n",
       "      <td>False</td>\n",
       "      <td>0</td>\n",
       "      <td>1</td>\n",
       "      <td>0</td>\n",
       "      <td>0</td>\n",
       "      <td>0</td>\n",
       "    </tr>\n",
       "  </tbody>\n",
       "</table>\n",
       "</div>"
      ],
      "text/plain": [
       "   PassengerId  Survived  Pclass  Age  SibSp  Parch  Fare  NameLengthBucket  \\\n",
       "0            1         0       3   22      1      0     7                20   \n",
       "1            2         1       1   38      1      0    71                50   \n",
       "2            3         1       3   26      0      0     7                20   \n",
       "3            4         1       1   35      1      0    53                40   \n",
       "4            5         0       3   35      0      0     8                20   \n",
       "\n",
       "   male  Q  S  Cabin  Master  Miss  Mr  Mrs  TotalPpl  \n",
       "0     1  0  1  False       0     1   0    0         1  \n",
       "1     0  0  0   True       0     0   0    1         1  \n",
       "2     0  0  1  False       0     1   0    0         0  \n",
       "3     0  0  1   True       0     0   0    1         1  \n",
       "4     1  0  1  False       0     1   0    0         0  "
      ]
     },
     "execution_count": 221,
     "metadata": {},
     "output_type": "execute_result"
    }
   ],
   "source": [
    "titanicCleaned.head()"
   ]
  },
  {
   "cell_type": "markdown",
   "metadata": {},
   "source": [
    "Check that no data is missing"
   ]
  },
  {
   "cell_type": "code",
   "execution_count": 222,
   "metadata": {},
   "outputs": [
    {
     "data": {
      "text/plain": [
       "<matplotlib.axes._subplots.AxesSubplot at 0x24f2a892fd0>"
      ]
     },
     "execution_count": 222,
     "metadata": {},
     "output_type": "execute_result"
    },
    {
     "data": {
      "image/png": "[encoded data removed]",
      "text/plain": [
       "<matplotlib.figure.Figure at 0x24f2a893080>"
      ]
     },
     "metadata": {},
     "output_type": "display_data"
    }
   ],
   "source": [
    "sns.heatmap(titanicTestCleaned.isnull(),yticklabels=False,cbar=False,cmap='viridis')"
   ]
  },
  {
   "cell_type": "markdown",
   "metadata": {},
   "source": [
    "Make sure we haven't lost any rows"
   ]
  },
  {
   "cell_type": "code",
   "execution_count": 223,
   "metadata": {},
   "outputs": [
    {
     "name": "stdout",
     "output_type": "stream",
     "text": [
      "(418, 15)\n"
     ]
    }
   ],
   "source": [
    "print(titanicTestCleaned.shape)"
   ]
  },
  {
   "cell_type": "markdown",
   "metadata": {},
   "source": [
    "Now we predict. Below, we use the optimised Logistic Regression, lg2, to predict the response variable in the test data."
   ]
  },
  {
   "cell_type": "code",
   "execution_count": 224,
   "metadata": {},
   "outputs": [
    {
     "data": {
      "text/html": [
       "<div>\n",
       "<style scoped>\n",
       "    .dataframe tbody tr th:only-of-type {\n",
       "        vertical-align: middle;\n",
       "    }\n",
       "\n",
       "    .dataframe tbody tr th {\n",
       "        vertical-align: top;\n",
       "    }\n",
       "\n",
       "    .dataframe thead th {\n",
       "        text-align: right;\n",
       "    }\n",
       "</style>\n",
       "<table border=\"1\" class=\"dataframe\">\n",
       "  <thead>\n",
       "    <tr style=\"text-align: right;\">\n",
       "      <th></th>\n",
       "      <th>Survived</th>\n",
       "    </tr>\n",
       "  </thead>\n",
       "  <tbody>\n",
       "    <tr>\n",
       "      <th>0</th>\n",
       "      <td>0</td>\n",
       "    </tr>\n",
       "    <tr>\n",
       "      <th>1</th>\n",
       "      <td>0</td>\n",
       "    </tr>\n",
       "    <tr>\n",
       "      <th>2</th>\n",
       "      <td>0</td>\n",
       "    </tr>\n",
       "    <tr>\n",
       "      <th>3</th>\n",
       "      <td>0</td>\n",
       "    </tr>\n",
       "    <tr>\n",
       "      <th>4</th>\n",
       "      <td>1</td>\n",
       "    </tr>\n",
       "  </tbody>\n",
       "</table>\n",
       "</div>"
      ],
      "text/plain": [
       "   Survived\n",
       "0         0\n",
       "1         0\n",
       "2         0\n",
       "3         0\n",
       "4         1"
      ]
     },
     "execution_count": 224,
     "metadata": {},
     "output_type": "execute_result"
    }
   ],
   "source": [
    "# lg2 was already fitted above. Now we use it to predict\n",
    "predictions = lg2.predict(titanicTestCleaned)\n",
    "\n",
    "# Convert it to a dataframe\n",
    "df_pred = pd.DataFrame(predictions,columns=['Survived'])\n",
    "df_pred.head()"
   ]
  },
  {
   "cell_type": "markdown",
   "metadata": {},
   "source": [
    "We need the data to be in the correct format. Namely, (PassengerId,Survived). So below, we create a function to format the predictions."
   ]
  },
  {
   "cell_type": "code",
   "execution_count": 225,
   "metadata": {},
   "outputs": [],
   "source": [
    "# def formatTitanicPredictions(df_pred,test):\n",
    "#     '''\n",
    "#     A function to format the predictions\n",
    "#     df_pred:= the predictions dataframe\n",
    "#     test:= the original test dataframe\n",
    "#     '''\n",
    "#     df_FullPred = pd.concat([df_pred,test],axis=1)\n",
    "#     df_FullPred = df_FullPred.dropna()\n",
    "#     df_FullPred['PassengerId'] = df_FullPred['PassengerId'].astype(int)\n",
    "#     df_FullPred = df_FullPred.set_index('PassengerId')\n",
    "#     return df_FullPred"
   ]
  },
  {
   "cell_type": "code",
   "execution_count": 226,
   "metadata": {},
   "outputs": [],
   "source": [
    "def formatTitanicPredictions2(df_pred,test,original):\n",
    "    '''\n",
    "    A function to format the predictions\n",
    "    df_pred:= the predictions dataframe without the PassengerIds\n",
    "    test:= the original test dataframe where the PassengerIds still exist\n",
    "    '''\n",
    "    df_FullPred = pd.concat([df_pred,test],axis=1)\n",
    "    df_FullPred = df_FullPred.dropna()\n",
    "    df_FullPred['PassengerId'] = original['PassengerId'].astype(int)\n",
    "    df_FullPred = df_FullPred.set_index('PassengerId')\n",
    "    return df_FullPred"
   ]
  },
  {
   "cell_type": "markdown",
   "metadata": {},
   "source": [
    "We can now format the predictions into a format where the index is PassengerId (so that when wwe save to csv that's the index) and we get another column which is Survived."
   ]
  },
  {
   "cell_type": "code",
   "execution_count": 227,
   "metadata": {},
   "outputs": [
    {
     "data": {
      "text/plain": [
       "PassengerId\n",
       "892    0\n",
       "893    0\n",
       "894    0\n",
       "895    0\n",
       "896    1\n",
       "Name: Survived, dtype: int64"
      ]
     },
     "execution_count": 227,
     "metadata": {},
     "output_type": "execute_result"
    }
   ],
   "source": [
    "df_FullPred = formatTitanicPredictions2(df_pred,titanicTestCleaned,test)\n",
    "\n",
    "df_FullPred['Survived'].head()"
   ]
  },
  {
   "cell_type": "markdown",
   "metadata": {},
   "source": [
    "Below, we make sure there aren't any null information"
   ]
  },
  {
   "cell_type": "code",
   "execution_count": 228,
   "metadata": {},
   "outputs": [
    {
     "name": "stdout",
     "output_type": "stream",
     "text": [
      "<class 'pandas.core.frame.DataFrame'>\n",
      "Int64Index: 418 entries, 892 to 1309\n",
      "Data columns (total 16 columns):\n",
      "Survived            418 non-null int64\n",
      "Pclass              418 non-null int64\n",
      "Age                 418 non-null int64\n",
      "SibSp               418 non-null int64\n",
      "Parch               418 non-null int64\n",
      "Fare                418 non-null int64\n",
      "NameLengthBucket    418 non-null int64\n",
      "male                418 non-null uint8\n",
      "Q                   418 non-null uint8\n",
      "S                   418 non-null uint8\n",
      "Cabin               418 non-null bool\n",
      "Master              418 non-null uint8\n",
      "Miss                418 non-null uint8\n",
      "Mr                  418 non-null uint8\n",
      "Mrs                 418 non-null uint8\n",
      "TotalPpl            418 non-null int64\n",
      "dtypes: bool(1), int64(8), uint8(7)\n",
      "memory usage: 32.7 KB\n"
     ]
    }
   ],
   "source": [
    "df_FullPred.info()"
   ]
  },
  {
   "cell_type": "markdown",
   "metadata": {},
   "source": [
    "We now save the resulting predictions to a file"
   ]
  },
  {
   "cell_type": "code",
   "execution_count": 229,
   "metadata": {},
   "outputs": [
    {
     "data": {
      "text/html": [
       "<div>\n",
       "<style scoped>\n",
       "    .dataframe tbody tr th:only-of-type {\n",
       "        vertical-align: middle;\n",
       "    }\n",
       "\n",
       "    .dataframe tbody tr th {\n",
       "        vertical-align: top;\n",
       "    }\n",
       "\n",
       "    .dataframe thead th {\n",
       "        text-align: right;\n",
       "    }\n",
       "</style>\n",
       "<table border=\"1\" class=\"dataframe\">\n",
       "  <thead>\n",
       "    <tr style=\"text-align: right;\">\n",
       "      <th></th>\n",
       "      <th>Survived</th>\n",
       "      <th>Pclass</th>\n",
       "      <th>Age</th>\n",
       "      <th>SibSp</th>\n",
       "      <th>Parch</th>\n",
       "      <th>Fare</th>\n",
       "      <th>NameLengthBucket</th>\n",
       "      <th>male</th>\n",
       "      <th>Q</th>\n",
       "      <th>S</th>\n",
       "      <th>Cabin</th>\n",
       "      <th>Master</th>\n",
       "      <th>Miss</th>\n",
       "      <th>Mr</th>\n",
       "      <th>Mrs</th>\n",
       "      <th>TotalPpl</th>\n",
       "    </tr>\n",
       "    <tr>\n",
       "      <th>PassengerId</th>\n",
       "      <th></th>\n",
       "      <th></th>\n",
       "      <th></th>\n",
       "      <th></th>\n",
       "      <th></th>\n",
       "      <th></th>\n",
       "      <th></th>\n",
       "      <th></th>\n",
       "      <th></th>\n",
       "      <th></th>\n",
       "      <th></th>\n",
       "      <th></th>\n",
       "      <th></th>\n",
       "      <th></th>\n",
       "      <th></th>\n",
       "      <th></th>\n",
       "    </tr>\n",
       "  </thead>\n",
       "  <tbody>\n",
       "    <tr>\n",
       "      <th>892</th>\n",
       "      <td>0</td>\n",
       "      <td>3</td>\n",
       "      <td>34</td>\n",
       "      <td>0</td>\n",
       "      <td>0</td>\n",
       "      <td>7</td>\n",
       "      <td>10</td>\n",
       "      <td>1</td>\n",
       "      <td>1</td>\n",
       "      <td>0</td>\n",
       "      <td>False</td>\n",
       "      <td>0</td>\n",
       "      <td>1</td>\n",
       "      <td>0</td>\n",
       "      <td>0</td>\n",
       "      <td>0</td>\n",
       "    </tr>\n",
       "    <tr>\n",
       "      <th>893</th>\n",
       "      <td>0</td>\n",
       "      <td>3</td>\n",
       "      <td>47</td>\n",
       "      <td>1</td>\n",
       "      <td>0</td>\n",
       "      <td>7</td>\n",
       "      <td>30</td>\n",
       "      <td>0</td>\n",
       "      <td>0</td>\n",
       "      <td>1</td>\n",
       "      <td>False</td>\n",
       "      <td>0</td>\n",
       "      <td>0</td>\n",
       "      <td>0</td>\n",
       "      <td>1</td>\n",
       "      <td>1</td>\n",
       "    </tr>\n",
       "    <tr>\n",
       "      <th>894</th>\n",
       "      <td>0</td>\n",
       "      <td>2</td>\n",
       "      <td>62</td>\n",
       "      <td>0</td>\n",
       "      <td>0</td>\n",
       "      <td>9</td>\n",
       "      <td>20</td>\n",
       "      <td>1</td>\n",
       "      <td>1</td>\n",
       "      <td>0</td>\n",
       "      <td>False</td>\n",
       "      <td>0</td>\n",
       "      <td>1</td>\n",
       "      <td>0</td>\n",
       "      <td>0</td>\n",
       "      <td>0</td>\n",
       "    </tr>\n",
       "    <tr>\n",
       "      <th>895</th>\n",
       "      <td>0</td>\n",
       "      <td>3</td>\n",
       "      <td>27</td>\n",
       "      <td>0</td>\n",
       "      <td>0</td>\n",
       "      <td>8</td>\n",
       "      <td>10</td>\n",
       "      <td>1</td>\n",
       "      <td>0</td>\n",
       "      <td>1</td>\n",
       "      <td>False</td>\n",
       "      <td>0</td>\n",
       "      <td>1</td>\n",
       "      <td>0</td>\n",
       "      <td>0</td>\n",
       "      <td>0</td>\n",
       "    </tr>\n",
       "    <tr>\n",
       "      <th>896</th>\n",
       "      <td>1</td>\n",
       "      <td>3</td>\n",
       "      <td>22</td>\n",
       "      <td>1</td>\n",
       "      <td>1</td>\n",
       "      <td>12</td>\n",
       "      <td>40</td>\n",
       "      <td>0</td>\n",
       "      <td>0</td>\n",
       "      <td>1</td>\n",
       "      <td>False</td>\n",
       "      <td>0</td>\n",
       "      <td>0</td>\n",
       "      <td>0</td>\n",
       "      <td>1</td>\n",
       "      <td>2</td>\n",
       "    </tr>\n",
       "  </tbody>\n",
       "</table>\n",
       "</div>"
      ],
      "text/plain": [
       "             Survived  Pclass  Age  SibSp  Parch  Fare  NameLengthBucket  \\\n",
       "PassengerId                                                                \n",
       "892                 0       3   34      0      0     7                10   \n",
       "893                 0       3   47      1      0     7                30   \n",
       "894                 0       2   62      0      0     9                20   \n",
       "895                 0       3   27      0      0     8                10   \n",
       "896                 1       3   22      1      1    12                40   \n",
       "\n",
       "             male  Q  S  Cabin  Master  Miss  Mr  Mrs  TotalPpl  \n",
       "PassengerId                                                      \n",
       "892             1  1  0  False       0     1   0    0         0  \n",
       "893             0  0  1  False       0     0   0    1         1  \n",
       "894             1  1  0  False       0     1   0    0         0  \n",
       "895             1  0  1  False       0     1   0    0         0  \n",
       "896             0  0  1  False       0     0   0    1         2  "
      ]
     },
     "execution_count": 229,
     "metadata": {},
     "output_type": "execute_result"
    }
   ],
   "source": [
    "df_FullPred['Survived'].to_csv('GenderPrediction.csv',header=True)\n",
    "df_FullPred.head()"
   ]
  },
  {
   "cell_type": "markdown",
   "metadata": {},
   "source": [
    "Now let's summarise the above actions to predict and save all in one."
   ]
  },
  {
   "cell_type": "code",
   "execution_count": 230,
   "metadata": {},
   "outputs": [],
   "source": [
    "# def PredictAndSave(df,lg,path):\n",
    "#     test = df\n",
    "#     titanicTestCleaned = fillTitanicNa(test,True,True)\n",
    "#     predictions = lg.predict(titanicTestCleaned)\n",
    "#     df_pred = pd.DataFrame(predictions,columns=['Survived'])\n",
    "#     df_FullPred = formatTitanicPredictions(df_pred,titanicTestCleaned)\n",
    "#     df_FullPred['Survived'].to_csv(path,header=True)\n",
    "#     return df_FullPred"
   ]
  },
  {
   "cell_type": "code",
   "execution_count": 231,
   "metadata": {},
   "outputs": [],
   "source": [
    "def PredictAndSave2(df,lg,path,original):\n",
    "    test = df\n",
    "    titanicTestCleaned = fillTitanicNa(test,True,True)\n",
    "    predictions = lg.predict(titanicTestCleaned)\n",
    "    df_pred = pd.DataFrame(predictions,columns=['Survived'])\n",
    "    df_FullPred = formatTitanicPredictions2(df_pred,titanicTestCleaned,original)\n",
    "    df_FullPred['Survived'].to_csv(path,header=True)\n",
    "    return df_FullPred"
   ]
  },
  {
   "cell_type": "markdown",
   "metadata": {},
   "source": [
    "Now that we have a function to do the cleaning and formating, we can train a linear regression model and pass it to the function"
   ]
  },
  {
   "cell_type": "code",
   "execution_count": 232,
   "metadata": {},
   "outputs": [
    {
     "data": {
      "text/html": [
       "<div>\n",
       "<style scoped>\n",
       "    .dataframe tbody tr th:only-of-type {\n",
       "        vertical-align: middle;\n",
       "    }\n",
       "\n",
       "    .dataframe tbody tr th {\n",
       "        vertical-align: top;\n",
       "    }\n",
       "\n",
       "    .dataframe thead th {\n",
       "        text-align: right;\n",
       "    }\n",
       "</style>\n",
       "<table border=\"1\" class=\"dataframe\">\n",
       "  <thead>\n",
       "    <tr style=\"text-align: right;\">\n",
       "      <th></th>\n",
       "      <th>Survived</th>\n",
       "      <th>Pclass</th>\n",
       "      <th>Age</th>\n",
       "      <th>SibSp</th>\n",
       "      <th>Parch</th>\n",
       "      <th>Fare</th>\n",
       "      <th>NameLengthBucket</th>\n",
       "      <th>male</th>\n",
       "      <th>Q</th>\n",
       "      <th>S</th>\n",
       "      <th>Cabin</th>\n",
       "      <th>Master</th>\n",
       "      <th>Miss</th>\n",
       "      <th>Mr</th>\n",
       "      <th>Mrs</th>\n",
       "      <th>TotalPpl</th>\n",
       "    </tr>\n",
       "    <tr>\n",
       "      <th>PassengerId</th>\n",
       "      <th></th>\n",
       "      <th></th>\n",
       "      <th></th>\n",
       "      <th></th>\n",
       "      <th></th>\n",
       "      <th></th>\n",
       "      <th></th>\n",
       "      <th></th>\n",
       "      <th></th>\n",
       "      <th></th>\n",
       "      <th></th>\n",
       "      <th></th>\n",
       "      <th></th>\n",
       "      <th></th>\n",
       "      <th></th>\n",
       "      <th></th>\n",
       "    </tr>\n",
       "  </thead>\n",
       "  <tbody>\n",
       "    <tr>\n",
       "      <th>892</th>\n",
       "      <td>0</td>\n",
       "      <td>3</td>\n",
       "      <td>34</td>\n",
       "      <td>0</td>\n",
       "      <td>0</td>\n",
       "      <td>7</td>\n",
       "      <td>10</td>\n",
       "      <td>1</td>\n",
       "      <td>1</td>\n",
       "      <td>0</td>\n",
       "      <td>False</td>\n",
       "      <td>0</td>\n",
       "      <td>1</td>\n",
       "      <td>0</td>\n",
       "      <td>0</td>\n",
       "      <td>0</td>\n",
       "    </tr>\n",
       "    <tr>\n",
       "      <th>893</th>\n",
       "      <td>0</td>\n",
       "      <td>3</td>\n",
       "      <td>47</td>\n",
       "      <td>1</td>\n",
       "      <td>0</td>\n",
       "      <td>7</td>\n",
       "      <td>30</td>\n",
       "      <td>0</td>\n",
       "      <td>0</td>\n",
       "      <td>1</td>\n",
       "      <td>False</td>\n",
       "      <td>0</td>\n",
       "      <td>0</td>\n",
       "      <td>0</td>\n",
       "      <td>1</td>\n",
       "      <td>1</td>\n",
       "    </tr>\n",
       "    <tr>\n",
       "      <th>894</th>\n",
       "      <td>0</td>\n",
       "      <td>2</td>\n",
       "      <td>62</td>\n",
       "      <td>0</td>\n",
       "      <td>0</td>\n",
       "      <td>9</td>\n",
       "      <td>20</td>\n",
       "      <td>1</td>\n",
       "      <td>1</td>\n",
       "      <td>0</td>\n",
       "      <td>False</td>\n",
       "      <td>0</td>\n",
       "      <td>1</td>\n",
       "      <td>0</td>\n",
       "      <td>0</td>\n",
       "      <td>0</td>\n",
       "    </tr>\n",
       "    <tr>\n",
       "      <th>895</th>\n",
       "      <td>0</td>\n",
       "      <td>3</td>\n",
       "      <td>27</td>\n",
       "      <td>0</td>\n",
       "      <td>0</td>\n",
       "      <td>8</td>\n",
       "      <td>10</td>\n",
       "      <td>1</td>\n",
       "      <td>0</td>\n",
       "      <td>1</td>\n",
       "      <td>False</td>\n",
       "      <td>0</td>\n",
       "      <td>1</td>\n",
       "      <td>0</td>\n",
       "      <td>0</td>\n",
       "      <td>0</td>\n",
       "    </tr>\n",
       "    <tr>\n",
       "      <th>896</th>\n",
       "      <td>1</td>\n",
       "      <td>3</td>\n",
       "      <td>22</td>\n",
       "      <td>1</td>\n",
       "      <td>1</td>\n",
       "      <td>12</td>\n",
       "      <td>40</td>\n",
       "      <td>0</td>\n",
       "      <td>0</td>\n",
       "      <td>1</td>\n",
       "      <td>False</td>\n",
       "      <td>0</td>\n",
       "      <td>0</td>\n",
       "      <td>0</td>\n",
       "      <td>1</td>\n",
       "      <td>2</td>\n",
       "    </tr>\n",
       "  </tbody>\n",
       "</table>\n",
       "</div>"
      ],
      "text/plain": [
       "             Survived  Pclass  Age  SibSp  Parch  Fare  NameLengthBucket  \\\n",
       "PassengerId                                                                \n",
       "892                 0       3   34      0      0     7                10   \n",
       "893                 0       3   47      1      0     7                30   \n",
       "894                 0       2   62      0      0     9                20   \n",
       "895                 0       3   27      0      0     8                10   \n",
       "896                 1       3   22      1      1    12                40   \n",
       "\n",
       "             male  Q  S  Cabin  Master  Miss  Mr  Mrs  TotalPpl  \n",
       "PassengerId                                                      \n",
       "892             1  1  0  False       0     1   0    0         0  \n",
       "893             0  0  1  False       0     0   0    1         1  \n",
       "894             1  1  0  False       0     1   0    0         0  \n",
       "895             1  0  1  False       0     1   0    0         0  \n",
       "896             0  0  1  False       0     0   0    1         2  "
      ]
     },
     "execution_count": 232,
     "metadata": {},
     "output_type": "execute_result"
    }
   ],
   "source": [
    "# lg2 was already trained, we use it here in the function to do the prediction\n",
    "PredictAndSave2(test2,lg2,'GenderPrediction_LogisticRegression.csv',test).head()"
   ]
  },
  {
   "cell_type": "markdown",
   "metadata": {},
   "source": [
    "### B- Decision Tree\n",
    "\n",
    "Sometimes Tree Methods perform better. We can follow the steps above to optimise, train and test"
   ]
  },
  {
   "cell_type": "code",
   "execution_count": 233,
   "metadata": {},
   "outputs": [],
   "source": [
    "# Import the classifier\n",
    "from sklearn.tree import DecisionTreeClassifier"
   ]
  },
  {
   "cell_type": "code",
   "execution_count": 236,
   "metadata": {},
   "outputs": [
    {
     "name": "stdout",
     "output_type": "stream",
     "text": [
      "Fitting 500 folds for each of 2 candidates, totalling 1000 fits\n"
     ]
    },
    {
     "name": "stderr",
     "output_type": "stream",
     "text": [
      "[Parallel(n_jobs=1)]: Done 1000 out of 1000 | elapsed:    5.0s finished\n"
     ]
    },
    {
     "data": {
      "text/plain": [
       "DecisionTreeClassifier(class_weight=None, criterion='entropy', max_depth=None,\n",
       "            max_features=None, max_leaf_nodes=None,\n",
       "            min_impurity_decrease=0.0, min_impurity_split=None,\n",
       "            min_samples_leaf=1, min_samples_split=2,\n",
       "            min_weight_fraction_leaf=0.0, presort=False, random_state=None,\n",
       "            splitter='best')"
      ]
     },
     "execution_count": 236,
     "metadata": {},
     "output_type": "execute_result"
    }
   ],
   "source": [
    "# As before, we specify some of the parameters we want to iterate through\n",
    "param_grid = {'criterion':['gini','entropy']}\n",
    "\n",
    "# We use GridSearchCV as before\n",
    "dtree_search = GridSearchCV(DecisionTreeClassifier(), param_grid, cv=500, refit=True, verbose=1)\n",
    "dtree_search.fit(X,y)\n",
    "dtree_search.best_estimator_"
   ]
  },
  {
   "cell_type": "code",
   "execution_count": 239,
   "metadata": {},
   "outputs": [
    {
     "name": "stdout",
     "output_type": "stream",
     "text": [
      "The default classifier mean accuracy score is 0.7926666666666667\n",
      "The optimised classifier mean accuracy score is 0.7993333333333332\n"
     ]
    }
   ],
   "source": [
    "# Default classifier\n",
    "dtree1 = DecisionTreeClassifier()\n",
    "\n",
    "# Optimised classifier\n",
    "dtree2 = dtree_search.best_estimator_\n",
    "\n",
    "# Here we run cross validation for the default model and the optimised model. We run it 200 times\n",
    "# with a randomised train and test set and get the mean accuracy score\n",
    "dtree1_scores = cross_val_score(dtree1, X, y, cv=500, scoring='accuracy')\n",
    "dtree2_scores = cross_val_score(dtree2, X, y, cv=500, scoring='accuracy')\n",
    "print('The default classifier mean accuracy score is {}'.format(dtree1_scores.mean()))\n",
    "print('The optimised classifier mean accuracy score is {}'.format(dtree2_scores.mean()))"
   ]
  },
  {
   "cell_type": "code",
   "execution_count": 240,
   "metadata": {},
   "outputs": [
    {
     "data": {
      "text/html": [
       "<div>\n",
       "<style scoped>\n",
       "    .dataframe tbody tr th:only-of-type {\n",
       "        vertical-align: middle;\n",
       "    }\n",
       "\n",
       "    .dataframe tbody tr th {\n",
       "        vertical-align: top;\n",
       "    }\n",
       "\n",
       "    .dataframe thead th {\n",
       "        text-align: right;\n",
       "    }\n",
       "</style>\n",
       "<table border=\"1\" class=\"dataframe\">\n",
       "  <thead>\n",
       "    <tr style=\"text-align: right;\">\n",
       "      <th></th>\n",
       "      <th>Survived</th>\n",
       "      <th>Pclass</th>\n",
       "      <th>Age</th>\n",
       "      <th>SibSp</th>\n",
       "      <th>Parch</th>\n",
       "      <th>Fare</th>\n",
       "      <th>NameLengthBucket</th>\n",
       "      <th>male</th>\n",
       "      <th>Q</th>\n",
       "      <th>S</th>\n",
       "      <th>Cabin</th>\n",
       "      <th>Master</th>\n",
       "      <th>Miss</th>\n",
       "      <th>Mr</th>\n",
       "      <th>Mrs</th>\n",
       "      <th>TotalPpl</th>\n",
       "    </tr>\n",
       "    <tr>\n",
       "      <th>PassengerId</th>\n",
       "      <th></th>\n",
       "      <th></th>\n",
       "      <th></th>\n",
       "      <th></th>\n",
       "      <th></th>\n",
       "      <th></th>\n",
       "      <th></th>\n",
       "      <th></th>\n",
       "      <th></th>\n",
       "      <th></th>\n",
       "      <th></th>\n",
       "      <th></th>\n",
       "      <th></th>\n",
       "      <th></th>\n",
       "      <th></th>\n",
       "      <th></th>\n",
       "    </tr>\n",
       "  </thead>\n",
       "  <tbody>\n",
       "    <tr>\n",
       "      <th>892</th>\n",
       "      <td>0</td>\n",
       "      <td>3</td>\n",
       "      <td>34</td>\n",
       "      <td>0</td>\n",
       "      <td>0</td>\n",
       "      <td>7</td>\n",
       "      <td>10</td>\n",
       "      <td>1</td>\n",
       "      <td>1</td>\n",
       "      <td>0</td>\n",
       "      <td>False</td>\n",
       "      <td>0</td>\n",
       "      <td>1</td>\n",
       "      <td>0</td>\n",
       "      <td>0</td>\n",
       "      <td>0</td>\n",
       "    </tr>\n",
       "    <tr>\n",
       "      <th>893</th>\n",
       "      <td>0</td>\n",
       "      <td>3</td>\n",
       "      <td>47</td>\n",
       "      <td>1</td>\n",
       "      <td>0</td>\n",
       "      <td>7</td>\n",
       "      <td>30</td>\n",
       "      <td>0</td>\n",
       "      <td>0</td>\n",
       "      <td>1</td>\n",
       "      <td>False</td>\n",
       "      <td>0</td>\n",
       "      <td>0</td>\n",
       "      <td>0</td>\n",
       "      <td>1</td>\n",
       "      <td>1</td>\n",
       "    </tr>\n",
       "    <tr>\n",
       "      <th>894</th>\n",
       "      <td>1</td>\n",
       "      <td>2</td>\n",
       "      <td>62</td>\n",
       "      <td>0</td>\n",
       "      <td>0</td>\n",
       "      <td>9</td>\n",
       "      <td>20</td>\n",
       "      <td>1</td>\n",
       "      <td>1</td>\n",
       "      <td>0</td>\n",
       "      <td>False</td>\n",
       "      <td>0</td>\n",
       "      <td>1</td>\n",
       "      <td>0</td>\n",
       "      <td>0</td>\n",
       "      <td>0</td>\n",
       "    </tr>\n",
       "    <tr>\n",
       "      <th>895</th>\n",
       "      <td>1</td>\n",
       "      <td>3</td>\n",
       "      <td>27</td>\n",
       "      <td>0</td>\n",
       "      <td>0</td>\n",
       "      <td>8</td>\n",
       "      <td>10</td>\n",
       "      <td>1</td>\n",
       "      <td>0</td>\n",
       "      <td>1</td>\n",
       "      <td>False</td>\n",
       "      <td>0</td>\n",
       "      <td>1</td>\n",
       "      <td>0</td>\n",
       "      <td>0</td>\n",
       "      <td>0</td>\n",
       "    </tr>\n",
       "    <tr>\n",
       "      <th>896</th>\n",
       "      <td>1</td>\n",
       "      <td>3</td>\n",
       "      <td>22</td>\n",
       "      <td>1</td>\n",
       "      <td>1</td>\n",
       "      <td>12</td>\n",
       "      <td>40</td>\n",
       "      <td>0</td>\n",
       "      <td>0</td>\n",
       "      <td>1</td>\n",
       "      <td>False</td>\n",
       "      <td>0</td>\n",
       "      <td>0</td>\n",
       "      <td>0</td>\n",
       "      <td>1</td>\n",
       "      <td>2</td>\n",
       "    </tr>\n",
       "  </tbody>\n",
       "</table>\n",
       "</div>"
      ],
      "text/plain": [
       "             Survived  Pclass  Age  SibSp  Parch  Fare  NameLengthBucket  \\\n",
       "PassengerId                                                                \n",
       "892                 0       3   34      0      0     7                10   \n",
       "893                 0       3   47      1      0     7                30   \n",
       "894                 1       2   62      0      0     9                20   \n",
       "895                 1       3   27      0      0     8                10   \n",
       "896                 1       3   22      1      1    12                40   \n",
       "\n",
       "             male  Q  S  Cabin  Master  Miss  Mr  Mrs  TotalPpl  \n",
       "PassengerId                                                      \n",
       "892             1  1  0  False       0     1   0    0         0  \n",
       "893             0  0  1  False       0     0   0    1         1  \n",
       "894             1  1  0  False       0     1   0    0         0  \n",
       "895             1  0  1  False       0     1   0    0         0  \n",
       "896             0  0  1  False       0     0   0    1         2  "
      ]
     },
     "execution_count": 240,
     "metadata": {},
     "output_type": "execute_result"
    }
   ],
   "source": [
    "# Fit the model\n",
    "dtree2.fit(X, y)\n",
    "\n",
    "# Predict and save\n",
    "PredictAndSave2(test2,dtree2,'GenderPrediction_MLA_DecisionTree.csv',test).head()"
   ]
  },
  {
   "cell_type": "markdown",
   "metadata": {},
   "source": [
    "Our Decision tree did not do as well as the logistic regression as can be seen from the mean scores above. However, we can try Random Forest to see if decision trees can be optimised."
   ]
  },
  {
   "cell_type": "markdown",
   "metadata": {},
   "source": [
    "### C- Random Forest"
   ]
  },
  {
   "cell_type": "code",
   "execution_count": 241,
   "metadata": {},
   "outputs": [],
   "source": [
    "# Import the classifier\n",
    "from sklearn.ensemble import RandomForestClassifier"
   ]
  },
  {
   "cell_type": "markdown",
   "metadata": {},
   "source": [
    "We run through the same steps as before"
   ]
  },
  {
   "cell_type": "code",
   "execution_count": 242,
   "metadata": {},
   "outputs": [
    {
     "name": "stdout",
     "output_type": "stream",
     "text": [
      "Fitting 50 folds for each of 20 candidates, totalling 1000 fits\n"
     ]
    },
    {
     "name": "stderr",
     "output_type": "stream",
     "text": [
      "[Parallel(n_jobs=4)]: Done  78 tasks      | elapsed:    3.7s\n",
      "[Parallel(n_jobs=4)]: Done 479 tasks      | elapsed:   35.8s\n",
      "[Parallel(n_jobs=4)]: Done 729 tasks      | elapsed:  1.4min\n",
      "[Parallel(n_jobs=4)]: Done 1000 out of 1000 | elapsed:  2.6min finished\n"
     ]
    },
    {
     "name": "stdout",
     "output_type": "stream",
     "text": [
      "RandomForestClassifier(bootstrap=True, class_weight=None, criterion='gini',\n",
      "            max_depth=None, max_features='auto', max_leaf_nodes=None,\n",
      "            min_impurity_decrease=0.0, min_impurity_split=None,\n",
      "            min_samples_leaf=1, min_samples_split=2,\n",
      "            min_weight_fraction_leaf=0.0, n_estimators=150, n_jobs=1,\n",
      "            oob_score=False, random_state=None, verbose=0,\n",
      "            warm_start=False)\n",
      "The default classifier mean accuracy score is 0.8104166666666666\n",
      "The optimised classifier mean accuracy score is 0.8190833333333333\n"
     ]
    }
   ],
   "source": [
    "rforest = RandomForestClassifier()\n",
    "param_grid = {'n_estimators':range(10,400,20)}\n",
    "rforest_search = GridSearchCV(RandomForestClassifier(), param_grid, cv=50, refit=True, verbose=1,n_jobs=4)\n",
    "rforest_search.fit(X,y)\n",
    "print(rforest_search.best_estimator_)\n",
    "\n",
    "# Default classifier\n",
    "rforest1 = RandomForestClassifier()\n",
    "\n",
    "# Optimised classifier\n",
    "rforest2 = rforest_search.best_estimator_\n",
    "\n",
    "rforest1_scores = cross_val_score(rforest1, X, y, cv=200, scoring='accuracy',n_jobs=4)\n",
    "rforest2_scores = cross_val_score(rforest2, X, y, cv=200, scoring='accuracy',n_jobs=4)\n",
    "print('The default classifier mean accuracy score is {}'.format(rforest1_scores.mean()))\n",
    "print('The optimised classifier mean accuracy score is {}'.format(rforest2_scores.mean()))"
   ]
  },
  {
   "cell_type": "markdown",
   "metadata": {},
   "source": [
    "This is a little better than Logistic Regression. Additionally, Random Forest gets much better at prediction as the sample size increases. And so, if we include the remaining data into the prediction, it may outshine logistic regression"
   ]
  },
  {
   "cell_type": "code",
   "execution_count": 243,
   "metadata": {},
   "outputs": [
    {
     "data": {
      "text/html": [
       "<div>\n",
       "<style scoped>\n",
       "    .dataframe tbody tr th:only-of-type {\n",
       "        vertical-align: middle;\n",
       "    }\n",
       "\n",
       "    .dataframe tbody tr th {\n",
       "        vertical-align: top;\n",
       "    }\n",
       "\n",
       "    .dataframe thead th {\n",
       "        text-align: right;\n",
       "    }\n",
       "</style>\n",
       "<table border=\"1\" class=\"dataframe\">\n",
       "  <thead>\n",
       "    <tr style=\"text-align: right;\">\n",
       "      <th></th>\n",
       "      <th>Survived</th>\n",
       "      <th>Pclass</th>\n",
       "      <th>Age</th>\n",
       "      <th>SibSp</th>\n",
       "      <th>Parch</th>\n",
       "      <th>Fare</th>\n",
       "      <th>NameLengthBucket</th>\n",
       "      <th>male</th>\n",
       "      <th>Q</th>\n",
       "      <th>S</th>\n",
       "      <th>Cabin</th>\n",
       "      <th>Master</th>\n",
       "      <th>Miss</th>\n",
       "      <th>Mr</th>\n",
       "      <th>Mrs</th>\n",
       "      <th>TotalPpl</th>\n",
       "    </tr>\n",
       "    <tr>\n",
       "      <th>PassengerId</th>\n",
       "      <th></th>\n",
       "      <th></th>\n",
       "      <th></th>\n",
       "      <th></th>\n",
       "      <th></th>\n",
       "      <th></th>\n",
       "      <th></th>\n",
       "      <th></th>\n",
       "      <th></th>\n",
       "      <th></th>\n",
       "      <th></th>\n",
       "      <th></th>\n",
       "      <th></th>\n",
       "      <th></th>\n",
       "      <th></th>\n",
       "      <th></th>\n",
       "    </tr>\n",
       "  </thead>\n",
       "  <tbody>\n",
       "    <tr>\n",
       "      <th>892</th>\n",
       "      <td>0</td>\n",
       "      <td>3</td>\n",
       "      <td>34</td>\n",
       "      <td>0</td>\n",
       "      <td>0</td>\n",
       "      <td>7</td>\n",
       "      <td>10</td>\n",
       "      <td>1</td>\n",
       "      <td>1</td>\n",
       "      <td>0</td>\n",
       "      <td>False</td>\n",
       "      <td>0</td>\n",
       "      <td>1</td>\n",
       "      <td>0</td>\n",
       "      <td>0</td>\n",
       "      <td>0</td>\n",
       "    </tr>\n",
       "    <tr>\n",
       "      <th>893</th>\n",
       "      <td>0</td>\n",
       "      <td>3</td>\n",
       "      <td>47</td>\n",
       "      <td>1</td>\n",
       "      <td>0</td>\n",
       "      <td>7</td>\n",
       "      <td>30</td>\n",
       "      <td>0</td>\n",
       "      <td>0</td>\n",
       "      <td>1</td>\n",
       "      <td>False</td>\n",
       "      <td>0</td>\n",
       "      <td>0</td>\n",
       "      <td>0</td>\n",
       "      <td>1</td>\n",
       "      <td>1</td>\n",
       "    </tr>\n",
       "    <tr>\n",
       "      <th>894</th>\n",
       "      <td>0</td>\n",
       "      <td>2</td>\n",
       "      <td>62</td>\n",
       "      <td>0</td>\n",
       "      <td>0</td>\n",
       "      <td>9</td>\n",
       "      <td>20</td>\n",
       "      <td>1</td>\n",
       "      <td>1</td>\n",
       "      <td>0</td>\n",
       "      <td>False</td>\n",
       "      <td>0</td>\n",
       "      <td>1</td>\n",
       "      <td>0</td>\n",
       "      <td>0</td>\n",
       "      <td>0</td>\n",
       "    </tr>\n",
       "    <tr>\n",
       "      <th>895</th>\n",
       "      <td>1</td>\n",
       "      <td>3</td>\n",
       "      <td>27</td>\n",
       "      <td>0</td>\n",
       "      <td>0</td>\n",
       "      <td>8</td>\n",
       "      <td>10</td>\n",
       "      <td>1</td>\n",
       "      <td>0</td>\n",
       "      <td>1</td>\n",
       "      <td>False</td>\n",
       "      <td>0</td>\n",
       "      <td>1</td>\n",
       "      <td>0</td>\n",
       "      <td>0</td>\n",
       "      <td>0</td>\n",
       "    </tr>\n",
       "    <tr>\n",
       "      <th>896</th>\n",
       "      <td>1</td>\n",
       "      <td>3</td>\n",
       "      <td>22</td>\n",
       "      <td>1</td>\n",
       "      <td>1</td>\n",
       "      <td>12</td>\n",
       "      <td>40</td>\n",
       "      <td>0</td>\n",
       "      <td>0</td>\n",
       "      <td>1</td>\n",
       "      <td>False</td>\n",
       "      <td>0</td>\n",
       "      <td>0</td>\n",
       "      <td>0</td>\n",
       "      <td>1</td>\n",
       "      <td>2</td>\n",
       "    </tr>\n",
       "  </tbody>\n",
       "</table>\n",
       "</div>"
      ],
      "text/plain": [
       "             Survived  Pclass  Age  SibSp  Parch  Fare  NameLengthBucket  \\\n",
       "PassengerId                                                                \n",
       "892                 0       3   34      0      0     7                10   \n",
       "893                 0       3   47      1      0     7                30   \n",
       "894                 0       2   62      0      0     9                20   \n",
       "895                 1       3   27      0      0     8                10   \n",
       "896                 1       3   22      1      1    12                40   \n",
       "\n",
       "             male  Q  S  Cabin  Master  Miss  Mr  Mrs  TotalPpl  \n",
       "PassengerId                                                      \n",
       "892             1  1  0  False       0     1   0    0         0  \n",
       "893             0  0  1  False       0     0   0    1         1  \n",
       "894             1  1  0  False       0     1   0    0         0  \n",
       "895             1  0  1  False       0     1   0    0         0  \n",
       "896             0  0  1  False       0     0   0    1         2  "
      ]
     },
     "execution_count": 243,
     "metadata": {},
     "output_type": "execute_result"
    }
   ],
   "source": [
    "rforest2.fit(X,y)\n",
    "PredictAndSave2(test2,rforest2,'GenderPrediction_MLA_RandomForest.csv',test).head()"
   ]
  },
  {
   "cell_type": "markdown",
   "metadata": {},
   "source": [
    "### D- Linear Support Vector Machines"
   ]
  },
  {
   "cell_type": "code",
   "execution_count": 244,
   "metadata": {},
   "outputs": [],
   "source": [
    "from sklearn.svm import LinearSVC\n",
    "import time"
   ]
  },
  {
   "cell_type": "code",
   "execution_count": 245,
   "metadata": {},
   "outputs": [
    {
     "name": "stdout",
     "output_type": "stream",
     "text": [
      "Fitting 100 folds for each of 12 candidates, totalling 1200 fits\n"
     ]
    },
    {
     "name": "stderr",
     "output_type": "stream",
     "text": [
      "[Parallel(n_jobs=10)]: Done  30 tasks      | elapsed:    6.1s\n",
      "[Parallel(n_jobs=10)]: Done 180 tasks      | elapsed:    9.4s\n",
      "[Parallel(n_jobs=10)]: Done 430 tasks      | elapsed:   14.8s\n",
      "[Parallel(n_jobs=10)]: Done 1200 out of 1200 | elapsed:   20.0s finished\n"
     ]
    },
    {
     "name": "stdout",
     "output_type": "stream",
     "text": [
      "LinearSVC(C=1.0, class_weight=None, dual=False, fit_intercept=True,\n",
      "     intercept_scaling=1, loss='squared_hinge', max_iter=1000,\n",
      "     multi_class='ovr', penalty='l2', random_state=None, tol=0.0001,\n",
      "     verbose=0)\n"
     ]
    }
   ],
   "source": [
    "lsvc = LinearSVC()\n",
    "param_grid = {'dual':[True,False], 'tol':[1,0.1,0.01,0.001,0.0001,0.00001]}\n",
    "lsvc_search = GridSearchCV(LinearSVC(), param_grid, cv=100, refit=True, verbose=1,n_jobs=10)\n",
    "lsvc_search.fit(X,y)\n",
    "print(lsvc_search.best_estimator_)"
   ]
  },
  {
   "cell_type": "code",
   "execution_count": 246,
   "metadata": {},
   "outputs": [
    {
     "name": "stdout",
     "output_type": "stream",
     "text": [
      "The default classifier mean accuracy score is 0.8333333333333334\n",
      "The optimised classifier mean accuracy score is 0.8333333333333334\n",
      "The process took 3.750190496444702 seconds\n"
     ]
    }
   ],
   "source": [
    "t0 = time.time()\n",
    "\n",
    "# Default classifier\n",
    "lsvc1 = LinearSVC(dual = False)\n",
    "\n",
    "# Optimised classifier\n",
    "lsvc2 = lsvc_search.best_estimator_\n",
    "\n",
    "lsvc1_scores = cross_val_score(lsvc1, X, y, cv=300, scoring='accuracy')\n",
    "lsvc2_scores = cross_val_score(lsvc2, X, y, cv=300, scoring='accuracy')\n",
    "print('The default classifier mean accuracy score is {}'.format(lsvc1_scores.mean()))\n",
    "print('The optimised classifier mean accuracy score is {}'.format(lsvc2_scores.mean()))\n",
    "\n",
    "print ('The process took {} seconds'.format(time.time() - t0))"
   ]
  },
  {
   "cell_type": "code",
   "execution_count": 247,
   "metadata": {},
   "outputs": [
    {
     "data": {
      "text/html": [
       "<div>\n",
       "<style scoped>\n",
       "    .dataframe tbody tr th:only-of-type {\n",
       "        vertical-align: middle;\n",
       "    }\n",
       "\n",
       "    .dataframe tbody tr th {\n",
       "        vertical-align: top;\n",
       "    }\n",
       "\n",
       "    .dataframe thead th {\n",
       "        text-align: right;\n",
       "    }\n",
       "</style>\n",
       "<table border=\"1\" class=\"dataframe\">\n",
       "  <thead>\n",
       "    <tr style=\"text-align: right;\">\n",
       "      <th></th>\n",
       "      <th>Survived</th>\n",
       "      <th>Pclass</th>\n",
       "      <th>Age</th>\n",
       "      <th>SibSp</th>\n",
       "      <th>Parch</th>\n",
       "      <th>Fare</th>\n",
       "      <th>NameLengthBucket</th>\n",
       "      <th>male</th>\n",
       "      <th>Q</th>\n",
       "      <th>S</th>\n",
       "      <th>Cabin</th>\n",
       "      <th>Master</th>\n",
       "      <th>Miss</th>\n",
       "      <th>Mr</th>\n",
       "      <th>Mrs</th>\n",
       "      <th>TotalPpl</th>\n",
       "    </tr>\n",
       "    <tr>\n",
       "      <th>PassengerId</th>\n",
       "      <th></th>\n",
       "      <th></th>\n",
       "      <th></th>\n",
       "      <th></th>\n",
       "      <th></th>\n",
       "      <th></th>\n",
       "      <th></th>\n",
       "      <th></th>\n",
       "      <th></th>\n",
       "      <th></th>\n",
       "      <th></th>\n",
       "      <th></th>\n",
       "      <th></th>\n",
       "      <th></th>\n",
       "      <th></th>\n",
       "      <th></th>\n",
       "    </tr>\n",
       "  </thead>\n",
       "  <tbody>\n",
       "    <tr>\n",
       "      <th>892</th>\n",
       "      <td>0</td>\n",
       "      <td>3</td>\n",
       "      <td>34</td>\n",
       "      <td>0</td>\n",
       "      <td>0</td>\n",
       "      <td>7</td>\n",
       "      <td>10</td>\n",
       "      <td>1</td>\n",
       "      <td>1</td>\n",
       "      <td>0</td>\n",
       "      <td>False</td>\n",
       "      <td>0</td>\n",
       "      <td>1</td>\n",
       "      <td>0</td>\n",
       "      <td>0</td>\n",
       "      <td>0</td>\n",
       "    </tr>\n",
       "    <tr>\n",
       "      <th>893</th>\n",
       "      <td>1</td>\n",
       "      <td>3</td>\n",
       "      <td>47</td>\n",
       "      <td>1</td>\n",
       "      <td>0</td>\n",
       "      <td>7</td>\n",
       "      <td>30</td>\n",
       "      <td>0</td>\n",
       "      <td>0</td>\n",
       "      <td>1</td>\n",
       "      <td>False</td>\n",
       "      <td>0</td>\n",
       "      <td>0</td>\n",
       "      <td>0</td>\n",
       "      <td>1</td>\n",
       "      <td>1</td>\n",
       "    </tr>\n",
       "    <tr>\n",
       "      <th>894</th>\n",
       "      <td>0</td>\n",
       "      <td>2</td>\n",
       "      <td>62</td>\n",
       "      <td>0</td>\n",
       "      <td>0</td>\n",
       "      <td>9</td>\n",
       "      <td>20</td>\n",
       "      <td>1</td>\n",
       "      <td>1</td>\n",
       "      <td>0</td>\n",
       "      <td>False</td>\n",
       "      <td>0</td>\n",
       "      <td>1</td>\n",
       "      <td>0</td>\n",
       "      <td>0</td>\n",
       "      <td>0</td>\n",
       "    </tr>\n",
       "    <tr>\n",
       "      <th>895</th>\n",
       "      <td>0</td>\n",
       "      <td>3</td>\n",
       "      <td>27</td>\n",
       "      <td>0</td>\n",
       "      <td>0</td>\n",
       "      <td>8</td>\n",
       "      <td>10</td>\n",
       "      <td>1</td>\n",
       "      <td>0</td>\n",
       "      <td>1</td>\n",
       "      <td>False</td>\n",
       "      <td>0</td>\n",
       "      <td>1</td>\n",
       "      <td>0</td>\n",
       "      <td>0</td>\n",
       "      <td>0</td>\n",
       "    </tr>\n",
       "    <tr>\n",
       "      <th>896</th>\n",
       "      <td>1</td>\n",
       "      <td>3</td>\n",
       "      <td>22</td>\n",
       "      <td>1</td>\n",
       "      <td>1</td>\n",
       "      <td>12</td>\n",
       "      <td>40</td>\n",
       "      <td>0</td>\n",
       "      <td>0</td>\n",
       "      <td>1</td>\n",
       "      <td>False</td>\n",
       "      <td>0</td>\n",
       "      <td>0</td>\n",
       "      <td>0</td>\n",
       "      <td>1</td>\n",
       "      <td>2</td>\n",
       "    </tr>\n",
       "  </tbody>\n",
       "</table>\n",
       "</div>"
      ],
      "text/plain": [
       "             Survived  Pclass  Age  SibSp  Parch  Fare  NameLengthBucket  \\\n",
       "PassengerId                                                                \n",
       "892                 0       3   34      0      0     7                10   \n",
       "893                 1       3   47      1      0     7                30   \n",
       "894                 0       2   62      0      0     9                20   \n",
       "895                 0       3   27      0      0     8                10   \n",
       "896                 1       3   22      1      1    12                40   \n",
       "\n",
       "             male  Q  S  Cabin  Master  Miss  Mr  Mrs  TotalPpl  \n",
       "PassengerId                                                      \n",
       "892             1  1  0  False       0     1   0    0         0  \n",
       "893             0  0  1  False       0     0   0    1         1  \n",
       "894             1  1  0  False       0     1   0    0         0  \n",
       "895             1  0  1  False       0     1   0    0         0  \n",
       "896             0  0  1  False       0     0   0    1         2  "
      ]
     },
     "execution_count": 247,
     "metadata": {},
     "output_type": "execute_result"
    }
   ],
   "source": [
    "lsvc2.fit(X,y)\n",
    "PredictAndSave2(test2,lsvc2,'GenderPrediction_MLA_LinearSVC.csv',test).head()"
   ]
  },
  {
   "cell_type": "markdown",
   "metadata": {},
   "source": [
    "### D- KNN"
   ]
  },
  {
   "cell_type": "code",
   "execution_count": 248,
   "metadata": {},
   "outputs": [],
   "source": [
    "from sklearn.neighbors import KNeighborsClassifier"
   ]
  },
  {
   "cell_type": "code",
   "execution_count": 249,
   "metadata": {},
   "outputs": [
    {
     "name": "stdout",
     "output_type": "stream",
     "text": [
      "Fitting 40 folds for each of 128 candidates, totalling 5120 fits\n"
     ]
    },
    {
     "name": "stderr",
     "output_type": "stream",
     "text": [
      "[Parallel(n_jobs=4)]: Done 165 tasks      | elapsed:    3.6s\n",
      "[Parallel(n_jobs=4)]: Done 1899 tasks      | elapsed:   32.6s\n",
      "[Parallel(n_jobs=4)]: Done 2567 tasks      | elapsed:   56.8s\n",
      "[Parallel(n_jobs=4)]: Done 4654 tasks      | elapsed:  1.8min\n",
      "[Parallel(n_jobs=4)]: Done 5120 out of 5120 | elapsed:  2.3min finished\n"
     ]
    },
    {
     "data": {
      "text/plain": [
       "KNeighborsClassifier(algorithm='brute', leaf_size=30, metric='minkowski',\n",
       "           metric_params=None, n_jobs=1, n_neighbors=6, p=1,\n",
       "           weights='distance')"
      ]
     },
     "execution_count": 249,
     "metadata": {},
     "output_type": "execute_result"
    }
   ],
   "source": [
    "knn = KNeighborsClassifier()\n",
    "param_grid = {'n_neighbors':range(1,20,5), 'weights':['uniform','distance'], \\\n",
    "               'algorithm':['auto', 'ball_tree', 'kd_tree', 'brute'], \\\n",
    "               'p':range(1,5,1)}\n",
    "knn_search = GridSearchCV(KNeighborsClassifier(), param_grid, cv=40, refit=True, verbose=1,n_jobs=4)\n",
    "knn_search.fit(X,y)\n",
    "knn_search.best_estimator_"
   ]
  },
  {
   "cell_type": "code",
   "execution_count": 251,
   "metadata": {},
   "outputs": [
    {
     "name": "stdout",
     "output_type": "stream",
     "text": [
      "The default classifier mean accuracy score is 0.7629166666666666\n",
      "The optimised classifier mean accuracy score is 0.7845833333333333\n",
      "The process took 6.306830167770386 seconds\n"
     ]
    }
   ],
   "source": [
    "t0 = time.time()\n",
    "\n",
    "# Default classifier\n",
    "knn1 = KNeighborsClassifier()\n",
    "\n",
    "# Optimised classifier\n",
    "knn2 = knn_search.best_estimator_\n",
    "\n",
    "knn1_scores = cross_val_score(knn1, X, y, cv=400, scoring='accuracy',n_jobs=4)\n",
    "knn2_scores = cross_val_score(knn2, X, y, cv=400, scoring='accuracy',n_jobs=4)\n",
    "print('The default classifier mean accuracy score is {}'.format(knn1_scores.mean()))\n",
    "print('The optimised classifier mean accuracy score is {}'.format(knn2_scores.mean()))\n",
    "\n",
    "print ('The process took {} seconds'.format(time.time() - t0))"
   ]
  },
  {
   "cell_type": "code",
   "execution_count": 252,
   "metadata": {},
   "outputs": [
    {
     "data": {
      "text/html": [
       "<div>\n",
       "<style scoped>\n",
       "    .dataframe tbody tr th:only-of-type {\n",
       "        vertical-align: middle;\n",
       "    }\n",
       "\n",
       "    .dataframe tbody tr th {\n",
       "        vertical-align: top;\n",
       "    }\n",
       "\n",
       "    .dataframe thead th {\n",
       "        text-align: right;\n",
       "    }\n",
       "</style>\n",
       "<table border=\"1\" class=\"dataframe\">\n",
       "  <thead>\n",
       "    <tr style=\"text-align: right;\">\n",
       "      <th></th>\n",
       "      <th>Survived</th>\n",
       "      <th>Pclass</th>\n",
       "      <th>Age</th>\n",
       "      <th>SibSp</th>\n",
       "      <th>Parch</th>\n",
       "      <th>Fare</th>\n",
       "      <th>NameLengthBucket</th>\n",
       "      <th>male</th>\n",
       "      <th>Q</th>\n",
       "      <th>S</th>\n",
       "      <th>Cabin</th>\n",
       "      <th>Master</th>\n",
       "      <th>Miss</th>\n",
       "      <th>Mr</th>\n",
       "      <th>Mrs</th>\n",
       "      <th>TotalPpl</th>\n",
       "    </tr>\n",
       "    <tr>\n",
       "      <th>PassengerId</th>\n",
       "      <th></th>\n",
       "      <th></th>\n",
       "      <th></th>\n",
       "      <th></th>\n",
       "      <th></th>\n",
       "      <th></th>\n",
       "      <th></th>\n",
       "      <th></th>\n",
       "      <th></th>\n",
       "      <th></th>\n",
       "      <th></th>\n",
       "      <th></th>\n",
       "      <th></th>\n",
       "      <th></th>\n",
       "      <th></th>\n",
       "      <th></th>\n",
       "    </tr>\n",
       "  </thead>\n",
       "  <tbody>\n",
       "    <tr>\n",
       "      <th>892</th>\n",
       "      <td>0</td>\n",
       "      <td>3</td>\n",
       "      <td>34</td>\n",
       "      <td>0</td>\n",
       "      <td>0</td>\n",
       "      <td>7</td>\n",
       "      <td>10</td>\n",
       "      <td>1</td>\n",
       "      <td>1</td>\n",
       "      <td>0</td>\n",
       "      <td>False</td>\n",
       "      <td>0</td>\n",
       "      <td>1</td>\n",
       "      <td>0</td>\n",
       "      <td>0</td>\n",
       "      <td>0</td>\n",
       "    </tr>\n",
       "    <tr>\n",
       "      <th>893</th>\n",
       "      <td>0</td>\n",
       "      <td>3</td>\n",
       "      <td>47</td>\n",
       "      <td>1</td>\n",
       "      <td>0</td>\n",
       "      <td>7</td>\n",
       "      <td>30</td>\n",
       "      <td>0</td>\n",
       "      <td>0</td>\n",
       "      <td>1</td>\n",
       "      <td>False</td>\n",
       "      <td>0</td>\n",
       "      <td>0</td>\n",
       "      <td>0</td>\n",
       "      <td>1</td>\n",
       "      <td>1</td>\n",
       "    </tr>\n",
       "    <tr>\n",
       "      <th>894</th>\n",
       "      <td>0</td>\n",
       "      <td>2</td>\n",
       "      <td>62</td>\n",
       "      <td>0</td>\n",
       "      <td>0</td>\n",
       "      <td>9</td>\n",
       "      <td>20</td>\n",
       "      <td>1</td>\n",
       "      <td>1</td>\n",
       "      <td>0</td>\n",
       "      <td>False</td>\n",
       "      <td>0</td>\n",
       "      <td>1</td>\n",
       "      <td>0</td>\n",
       "      <td>0</td>\n",
       "      <td>0</td>\n",
       "    </tr>\n",
       "    <tr>\n",
       "      <th>895</th>\n",
       "      <td>1</td>\n",
       "      <td>3</td>\n",
       "      <td>27</td>\n",
       "      <td>0</td>\n",
       "      <td>0</td>\n",
       "      <td>8</td>\n",
       "      <td>10</td>\n",
       "      <td>1</td>\n",
       "      <td>0</td>\n",
       "      <td>1</td>\n",
       "      <td>False</td>\n",
       "      <td>0</td>\n",
       "      <td>1</td>\n",
       "      <td>0</td>\n",
       "      <td>0</td>\n",
       "      <td>0</td>\n",
       "    </tr>\n",
       "    <tr>\n",
       "      <th>896</th>\n",
       "      <td>1</td>\n",
       "      <td>3</td>\n",
       "      <td>22</td>\n",
       "      <td>1</td>\n",
       "      <td>1</td>\n",
       "      <td>12</td>\n",
       "      <td>40</td>\n",
       "      <td>0</td>\n",
       "      <td>0</td>\n",
       "      <td>1</td>\n",
       "      <td>False</td>\n",
       "      <td>0</td>\n",
       "      <td>0</td>\n",
       "      <td>0</td>\n",
       "      <td>1</td>\n",
       "      <td>2</td>\n",
       "    </tr>\n",
       "  </tbody>\n",
       "</table>\n",
       "</div>"
      ],
      "text/plain": [
       "             Survived  Pclass  Age  SibSp  Parch  Fare  NameLengthBucket  \\\n",
       "PassengerId                                                                \n",
       "892                 0       3   34      0      0     7                10   \n",
       "893                 0       3   47      1      0     7                30   \n",
       "894                 0       2   62      0      0     9                20   \n",
       "895                 1       3   27      0      0     8                10   \n",
       "896                 1       3   22      1      1    12                40   \n",
       "\n",
       "             male  Q  S  Cabin  Master  Miss  Mr  Mrs  TotalPpl  \n",
       "PassengerId                                                      \n",
       "892             1  1  0  False       0     1   0    0         0  \n",
       "893             0  0  1  False       0     0   0    1         1  \n",
       "894             1  1  0  False       0     1   0    0         0  \n",
       "895             1  0  1  False       0     1   0    0         0  \n",
       "896             0  0  1  False       0     0   0    1         2  "
      ]
     },
     "execution_count": 252,
     "metadata": {},
     "output_type": "execute_result"
    }
   ],
   "source": [
    "knn2.fit(X,y)\n",
    "PredictAndSave2(test2,knn2,'GenderPrediction_MLA_KNN.csv',test).head()"
   ]
  },
  {
   "cell_type": "markdown",
   "metadata": {},
   "source": [
    "### F- Extra Trees Classifier"
   ]
  },
  {
   "cell_type": "code",
   "execution_count": 253,
   "metadata": {},
   "outputs": [],
   "source": [
    "from sklearn.ensemble import ExtraTreesClassifier"
   ]
  },
  {
   "cell_type": "code",
   "execution_count": null,
   "metadata": {},
   "outputs": [],
   "source": []
  },
  {
   "cell_type": "code",
   "execution_count": 255,
   "metadata": {},
   "outputs": [
    {
     "name": "stdout",
     "output_type": "stream",
     "text": [
      "Fitting 200 folds for each of 20 candidates, totalling 4000 fits\n"
     ]
    },
    {
     "name": "stderr",
     "output_type": "stream",
     "text": [
      "[Parallel(n_jobs=4)]: Done 236 tasks      | elapsed:    3.8s\n",
      "[Parallel(n_jobs=4)]: Done 1900 tasks      | elapsed:   36.4s\n",
      "[Parallel(n_jobs=4)]: Done 3902 tasks      | elapsed:  1.3min\n",
      "[Parallel(n_jobs=4)]: Done 4000 out of 4000 | elapsed:  1.3min finished\n"
     ]
    },
    {
     "name": "stdout",
     "output_type": "stream",
     "text": [
      "ExtraTreesClassifier(bootstrap=False, class_weight=None, criterion='gini',\n",
      "           max_depth=None, max_features='auto', max_leaf_nodes=None,\n",
      "           min_impurity_decrease=0.0, min_impurity_split=None,\n",
      "           min_samples_leaf=1, min_samples_split=2,\n",
      "           min_weight_fraction_leaf=0.0, n_estimators=33, n_jobs=1,\n",
      "           oob_score=False, random_state=None, verbose=0, warm_start=False)\n",
      "The default classifier mean accuracy score is 0.7934166666666667\n",
      "The optimised classifier mean accuracy score is 0.8068333333333334\n",
      "The process took 93.1971583366394 seconds\n"
     ]
    }
   ],
   "source": [
    "t0 = time.time()\n",
    "\n",
    "etc = ExtraTreesClassifier()\n",
    "param_grid = {'n_estimators':range(1,40,4), 'criterion':['gini','entropy']}\n",
    "etc_search = GridSearchCV(ExtraTreesClassifier(), param_grid, cv=200, refit=True, verbose=1,n_jobs=4)\n",
    "etc_search.fit(X,y)\n",
    "print(etc_search.best_estimator_)\n",
    "\n",
    "# Default classifier\n",
    "etc1 = ExtraTreesClassifier()\n",
    "\n",
    "# Optimised classifier\n",
    "etc2 = etc_search.best_estimator_\n",
    "\n",
    "etc1_scores = cross_val_score(etc1, X, y, cv=200, scoring='accuracy',n_jobs=4)\n",
    "etc2_scores = cross_val_score(etc2, X, y, cv=200, scoring='accuracy',n_jobs=4)\n",
    "print('The default classifier mean accuracy score is {}'.format(etc1_scores.mean()))\n",
    "print('The optimised classifier mean accuracy score is {}'.format(etc2_scores.mean()))\n",
    "\n",
    "etc2.fit(X,y)\n",
    "PredictAndSave2(test2,etc2,'GenderPrediction_MLA_ExtraTrees.csv',test).head()\n",
    "\n",
    "print ('The process took {} seconds'.format(time.time() - t0))"
   ]
  },
  {
   "cell_type": "markdown",
   "metadata": {},
   "source": [
    "### G- Many Classifiers"
   ]
  },
  {
   "cell_type": "code",
   "execution_count": 256,
   "metadata": {},
   "outputs": [],
   "source": [
    "import sklearn as skl\n",
    "from sklearn import gaussian_process\n",
    "from xgboost import XGBClassifier"
   ]
  },
  {
   "cell_type": "code",
   "execution_count": 274,
   "metadata": {},
   "outputs": [],
   "source": [
    "X = titanicCleaned.drop(['Survived','PassengerId'],axis=1)\n",
    "y = titanicCleaned['Survived']\n",
    "X_train, X_test, y_train, y_test = train_test_split(X, y, test_size=0.3, random_state=150)"
   ]
  },
  {
   "cell_type": "code",
   "execution_count": 258,
   "metadata": {},
   "outputs": [],
   "source": [
    "test = pd.read_csv('test.csv')\n",
    "test2 = test.drop(['PassengerId'],axis=1)"
   ]
  },
  {
   "cell_type": "code",
   "execution_count": 259,
   "metadata": {},
   "outputs": [],
   "source": [
    "ML = [\n",
    "    skl.ensemble.ExtraTreesClassifier(),\n",
    "    skl.ensemble.BaggingClassifier(),\n",
    "    gaussian_process.GaussianProcessClassifier(),\n",
    "    XGBClassifier()\n",
    "]"
   ]
  },
  {
   "cell_type": "code",
   "execution_count": 260,
   "metadata": {},
   "outputs": [
    {
     "name": "stdout",
     "output_type": "stream",
     "text": [
      "\n",
      "\n",
      "ExtraTreesClassifier\n",
      "[[140  18]\n",
      " [ 35  75]]\n",
      "             precision    recall  f1-score   support\n",
      "\n",
      "          0       0.80      0.89      0.84       158\n",
      "          1       0.81      0.68      0.74       110\n",
      "\n",
      "avg / total       0.80      0.80      0.80       268\n",
      "\n",
      "0.8022388059701493\n",
      "\n",
      "\n",
      "BaggingClassifier\n",
      "[[142  16]\n",
      " [ 34  76]]\n",
      "             precision    recall  f1-score   support\n",
      "\n",
      "          0       0.81      0.90      0.85       158\n",
      "          1       0.83      0.69      0.75       110\n",
      "\n",
      "avg / total       0.81      0.81      0.81       268\n",
      "\n",
      "0.8134328358208955\n",
      "\n",
      "\n",
      "GaussianProcessClassifier\n",
      "[[123  35]\n",
      " [ 51  59]]\n",
      "             precision    recall  f1-score   support\n",
      "\n",
      "          0       0.71      0.78      0.74       158\n",
      "          1       0.63      0.54      0.58       110\n",
      "\n",
      "avg / total       0.67      0.68      0.67       268\n",
      "\n",
      "0.6791044776119403\n",
      "\n",
      "\n",
      "XGBClassifier\n",
      "[[146  12]\n",
      " [ 29  81]]\n",
      "             precision    recall  f1-score   support\n",
      "\n",
      "          0       0.83      0.92      0.88       158\n",
      "          1       0.87      0.74      0.80       110\n",
      "\n",
      "avg / total       0.85      0.85      0.84       268\n",
      "\n",
      "0.8470149253731343\n",
      "The process took 1.8987739086151123 seconds\n"
     ]
    },
    {
     "name": "stderr",
     "output_type": "stream",
     "text": [
      "C:\\Users\\HVAD\\Anaconda3\\lib\\site-packages\\sklearn\\preprocessing\\label.py:151: DeprecationWarning: The truth value of an empty array is ambiguous. Returning False, but in future this will result in an error. Use `array.size > 0` to check that an array is not empty.\n",
      "  if diff:\n",
      "C:\\Users\\HVAD\\Anaconda3\\lib\\site-packages\\sklearn\\preprocessing\\label.py:151: DeprecationWarning: The truth value of an empty array is ambiguous. Returning False, but in future this will result in an error. Use `array.size > 0` to check that an array is not empty.\n",
      "  if diff:\n"
     ]
    }
   ],
   "source": [
    "t0 = time.time()\n",
    "\n",
    "for alg in ML:\n",
    "    name = alg.__class__.__name__\n",
    "    print()\n",
    "    print()\n",
    "    print(name)\n",
    "    alg.fit(X_train,y_train)\n",
    "    y_pred = alg.predict(X_test)\n",
    "    print(confusion_matrix(y_test, y_pred))\n",
    "    print(classification_report(y_test, y_pred))\n",
    "    print(accuracy_score(y_test, y_pred))\n",
    "    alg.fit(X,y)\n",
    "    a= PredictAndSave2(test2,alg,'GenderPrediction_MLA_{}.csv'.format(name),test)\n",
    "    \n",
    "print ('The process took {} seconds'.format(time.time() - t0))"
   ]
  },
  {
   "cell_type": "markdown",
   "metadata": {},
   "source": [
    "Let's optimise the XGBClassifier"
   ]
  },
  {
   "cell_type": "code",
   "execution_count": 278,
   "metadata": {},
   "outputs": [
    {
     "name": "stdout",
     "output_type": "stream",
     "text": [
      "Fitting 100 folds for each of 90 candidates, totalling 9000 fits\n"
     ]
    },
    {
     "name": "stderr",
     "output_type": "stream",
     "text": [
      "[Parallel(n_jobs=4)]: Done  42 tasks      | elapsed:    4.2s\n",
      "[Parallel(n_jobs=4)]: Done 192 tasks      | elapsed:   11.0s\n",
      "[Parallel(n_jobs=4)]: Done 442 tasks      | elapsed:   23.8s\n",
      "[Parallel(n_jobs=4)]: Done 792 tasks      | elapsed:   43.9s\n",
      "[Parallel(n_jobs=4)]: Done 1242 tasks      | elapsed:  1.1min\n",
      "[Parallel(n_jobs=4)]: Done 1792 tasks      | elapsed:  1.6min\n",
      "[Parallel(n_jobs=4)]: Done 2442 tasks      | elapsed:  2.2min\n",
      "[Parallel(n_jobs=4)]: Done 3192 tasks      | elapsed:  2.8min\n",
      "[Parallel(n_jobs=4)]: Done 4042 tasks      | elapsed:  3.6min\n",
      "[Parallel(n_jobs=4)]: Done 4992 tasks      | elapsed:  4.4min\n",
      "[Parallel(n_jobs=4)]: Done 6042 tasks      | elapsed:  5.3min\n",
      "[Parallel(n_jobs=4)]: Done 7192 tasks      | elapsed:  6.2min\n",
      "[Parallel(n_jobs=4)]: Done 8442 tasks      | elapsed:  7.5min\n",
      "[Parallel(n_jobs=4)]: Done 9000 out of 9000 | elapsed:  8.0min finished\n"
     ]
    },
    {
     "name": "stdout",
     "output_type": "stream",
     "text": [
      "XGBClassifier(base_score=0.5, booster='gbtree', colsample_bylevel=1,\n",
      "       colsample_bytree=1, gamma=0.6000000000000001, learning_rate=0.25,\n",
      "       max_delta_step=0, max_depth=8, min_child_weight=1, missing=None,\n",
      "       n_estimators=90, n_jobs=1, nthread=None,\n",
      "       objective='binary:logistic', random_state=0, reg_alpha=0,\n",
      "       reg_lambda=1, scale_pos_weight=1, seed=None, silent=True,\n",
      "       subsample=1)\n",
      "The default classifier mean accuracy score is 0.8214166666666665\n",
      "The optimised classifier mean accuracy score is 0.8327500000000001\n",
      "The process took 505.40776658058167 seconds\n"
     ]
    },
    {
     "name": "stderr",
     "output_type": "stream",
     "text": [
      "C:\\Users\\HVAD\\Anaconda3\\lib\\site-packages\\sklearn\\preprocessing\\label.py:151: DeprecationWarning: The truth value of an empty array is ambiguous. Returning False, but in future this will result in an error. Use `array.size > 0` to check that an array is not empty.\n",
      "  if diff:\n"
     ]
    }
   ],
   "source": [
    "t0 = time.time()\n",
    "\n",
    "#xgb = XGBClassifier()\n",
    "\n",
    "param_grid = {'n_estimators':[90], 'max_depth':range(6,9,1),\\\n",
    "              'booster':['gbtree'],'gamma': np.arange(0,1,0.2), 'learning_rate': [0.05,0.1,0.15, 0.2,0.25, 0.3]}\n",
    "xgb_search = GridSearchCV(XGBClassifier(), param_grid, cv=100, refit=True, verbose=1,n_jobs=4)\n",
    "xgb_search.fit(X,y)\n",
    "print(xgb_search.best_estimator_)\n",
    "\n",
    "# Default classifier\n",
    "xgb1 = XGBClassifier()\n",
    "\n",
    "# Optimised classifier\n",
    "xgb2 = xgb_search.best_estimator_\n",
    "\n",
    "xgb1_scores = cross_val_score(xgb1, X, y, cv=200, scoring='accuracy',n_jobs=4)\n",
    "xgb2_scores = cross_val_score(xgb2, X, y, cv=200, scoring='accuracy',n_jobs=4)\n",
    "print('The default classifier mean accuracy score is {}'.format(xgb1_scores.mean()))\n",
    "print('The optimised classifier mean accuracy score is {}'.format(xgb2_scores.mean()))\n",
    "\n",
    "xgb2.fit(X,y)\n",
    "PredictAndSave2(test2,xgb2,'GenderPrediction_MLA_XGBOptimised.csv',test).head()\n",
    "\n",
    "print ('The process took {} seconds'.format(time.time() - t0))"
   ]
  },
  {
   "cell_type": "code",
   "execution_count": 281,
   "metadata": {},
   "outputs": [
    {
     "data": {
      "text/plain": [
       "0.8327500000000001"
      ]
     },
     "execution_count": 281,
     "metadata": {},
     "output_type": "execute_result"
    }
   ],
   "source": [
    "xgb2_scores.mean()"
   ]
  },
  {
   "cell_type": "code",
   "execution_count": 262,
   "metadata": {},
   "outputs": [],
   "source": [
    "from sklearn.svm import SVC"
   ]
  },
  {
   "cell_type": "code",
   "execution_count": 265,
   "metadata": {},
   "outputs": [
    {
     "name": "stdout",
     "output_type": "stream",
     "text": [
      "Fitting 100 folds for each of 20 candidates, totalling 2000 fits\n"
     ]
    },
    {
     "name": "stderr",
     "output_type": "stream",
     "text": [
      "[Parallel(n_jobs=4)]: Done  42 tasks      | elapsed:    4.0s\n",
      "[Parallel(n_jobs=4)]: Done 258 tasks      | elapsed:    9.5s\n",
      "[Parallel(n_jobs=4)]: Done 758 tasks      | elapsed:   21.4s\n",
      "[Parallel(n_jobs=4)]: Done 1389 tasks      | elapsed:  1.1min\n",
      "[Parallel(n_jobs=4)]: Done 1839 tasks      | elapsed:  2.3min\n",
      "[Parallel(n_jobs=4)]: Done 2000 out of 2000 | elapsed:  3.6min finished\n"
     ]
    },
    {
     "name": "stdout",
     "output_type": "stream",
     "text": [
      "XGBClassifier(base_score=0.5, booster='gbtree', colsample_bylevel=1,\n",
      "       colsample_bytree=1, gamma=0.5, learning_rate=0.1, max_delta_step=0,\n",
      "       max_depth=7, min_child_weight=1, missing=None, n_estimators=90,\n",
      "       n_jobs=1, nthread=None, objective='binary:logistic', random_state=0,\n",
      "       reg_alpha=0, reg_lambda=1, scale_pos_weight=1, seed=None,\n",
      "       silent=True, subsample=1)\n",
      "The default classifier mean accuracy score is 0.74125\n",
      "The optimised classifier mean accuracy score is 0.823\n",
      "The process took 237.29900979995728 seconds\n"
     ]
    }
   ],
   "source": [
    "t0 = time.time()\n",
    "\n",
    "#svc = SVC()\n",
    "\n",
    "param_grid = {'C': [0.1,10, 1000,5000], 'gamma': [1,0.1,0.01,0.001,0.0001], 'kernel': ['rbf']}\n",
    "SVC_search = GridSearchCV(SVC(), param_grid, cv=100, refit=True, verbose=1,n_jobs=4)\n",
    "SVC_search.fit(X,y)\n",
    "print(xgb_search.best_estimator_)\n",
    "\n",
    "# Default classifier\n",
    "SVC1 = SVC()\n",
    "\n",
    "# Optimised classifier\n",
    "SVC2 = SVC_search.best_estimator_\n",
    "\n",
    "SVC1_scores = cross_val_score(SVC1, X, y, cv=200, scoring='accuracy',n_jobs=4)\n",
    "SVC2_scores = cross_val_score(SVC2, X, y, cv=200, scoring='accuracy',n_jobs=4)\n",
    "print('The default classifier mean accuracy score is {}'.format(SVC1_scores.mean()))\n",
    "print('The optimised classifier mean accuracy score is {}'.format(SVC2_scores.mean()))\n",
    "\n",
    "SVC2.fit(X,y)\n",
    "PredictAndSave2(test2,SVC2,'GenderPrediction_MLA_SVCOptimised.csv',test).head()\n",
    "\n",
    "print ('The process took {} seconds'.format(time.time() - t0))"
   ]
  },
  {
   "cell_type": "code",
   "execution_count": null,
   "metadata": {},
   "outputs": [],
   "source": []
  },
  {
   "cell_type": "code",
   "execution_count": 282,
   "metadata": {},
   "outputs": [],
   "source": [
    "names=['Logistic Regression','Decision Tree','Random Forest','Linear SVC','KNN','Extra Trees','Extreme Gradient Boost','SVC']\n",
    "values=[lg2_scores.mean(),dtree2_scores.mean(),rforest2_scores.mean(),lsvc2_scores.mean(),knn2_scores.mean(),\\\n",
    "       etc2_scores.mean(),xgb2_scores.mean(),SVC2_scores.mean()]"
   ]
  },
  {
   "cell_type": "code",
   "execution_count": 283,
   "metadata": {},
   "outputs": [
    {
     "data": {
      "image/png": "[encoded data removed]",
      "text/plain": [
       "<matplotlib.figure.Figure at 0x24f2a7be080>"
      ]
     },
     "metadata": {},
     "output_type": "display_data"
    }
   ],
   "source": [
    "# Get the figure and axis\n",
    "fig,ax = plt.subplots()\n",
    "\n",
    "# Set the size of the figure\n",
    "fig.set_size_inches(10,5)\n",
    "\n",
    "# Here we define the palette. seaborn defines the palette by dividing \n",
    "# the palette region into len(values) evenly spaced green RGB values\n",
    "pal = sns.color_palette(\"Greens_d\", len(values))\n",
    "\n",
    "# We want the smallest value to select the smallest green value in pal.\n",
    "# i.e. we want the smallest value to pick 0 and the largest value to pick 7\n",
    "# Here, we sort the values using arsort(). This gives us the indices in values\n",
    "# increasing order. E.g. [1.2,1.3,1.1,2].argsort() gives us [2,0,1,3] since \n",
    "# index 2 is the smallest and index 0 is the next largest etc...\n",
    "# Then if we argsort() this again we get [1,2,0,3]. This is basically saying than\n",
    "# 1.2 is the second smallest, 1.3 is the 3rd smallest, 1.1 is the smallest and\n",
    "# 2 is the 4th smallest (last). This is what we want.\n",
    "rank = np.array(values).argsort().argsort()\n",
    "g=sns.barplot(y=names,x=values,palette=np.array(pal[::-1])[rank])\n",
    "\n",
    "ax.set_xlim(0.7,0.9)\n",
    "for p in ax.patches:\n",
    "    _x = p.get_x() + p.get_width()+0.007\n",
    "    _y = p.get_y() + p.get_height()/1.7\n",
    "    value = '{:.4f}'.format(p.get_width())\n",
    "    ax.text(_x, _y, value, ha=\"center\") \n",
    "plt.tight_layout()"
   ]
  },
  {
   "cell_type": "code",
   "execution_count": 147,
   "metadata": {},
   "outputs": [
    {
     "data": {
      "image/png": "[encoded data removed]",
      "text/plain": [
       "<matplotlib.figure.Figure at 0x24f29f5f208>"
      ]
     },
     "metadata": {},
     "output_type": "display_data"
    }
   ],
   "source": [
    "# Get the figure and axis\n",
    "fig,ax = plt.subplots()\n",
    "\n",
    "# Set the size of the figure\n",
    "fig.set_size_inches(10,5)\n",
    "\n",
    "# Here we define the palette. seaborn defines the palette by dividing \n",
    "# the palette region into len(values) evenly spaced green RGB values\n",
    "pal = sns.color_palette(\"Greens_d\", len(values))\n",
    "\n",
    "# We want the smallest value to select the smallest green value in pal.\n",
    "# i.e. we want the smallest value to pick 0 and the largest value to pick 7\n",
    "# Here, we sort the values using arsort(). This gives us the indices in values\n",
    "# increasing order. E.g. [1.2,1.3,1.1,2].argsort() gives us [2,0,1,3] since \n",
    "# index 2 is the smallest and index 0 is the next largest etc...\n",
    "# Then if we argsort() this again we get [1,2,0,3]. This is basically saying than\n",
    "# 1.2 is the second smallest, 1.3 is the 3rd smallest, 1.1 is the smallest and\n",
    "# 2 is the 4th smallest (last). This is what we want.\n",
    "rank = np.array(values).argsort().argsort()\n",
    "g=sns.barplot(y=names,x=values,palette=np.array(pal[::-1])[rank])\n",
    "\n",
    "ax.set_xlim(0.7,0.9)\n",
    "for p in ax.patches:\n",
    "    _x = p.get_x() + p.get_width()+0.007\n",
    "    _y = p.get_y() + p.get_height()/1.7\n",
    "    value = '{:.4f}'.format(p.get_width())\n",
    "    ax.text(_x, _y, value, ha=\"center\") \n",
    "plt.tight_layout()"
   ]
  },
  {
   "cell_type": "code",
   "execution_count": null,
   "metadata": {},
   "outputs": [],
   "source": []
  }
 ],
 "metadata": {
  "kernelspec": {
   "display_name": "Python 3",
   "language": "python",
   "name": "python3"
  },
  "language_info": {
   "codemirror_mode": {
    "name": "ipython",
    "version": 3
   },
   "file_extension": ".py",
   "mimetype": "text/x-python",
   "name": "python",
   "nbconvert_exporter": "python",
   "pygments_lexer": "ipython3",
   "version": "3.6.4"
  }
 },
 "nbformat": 4,
 "nbformat_minor": 2
}
